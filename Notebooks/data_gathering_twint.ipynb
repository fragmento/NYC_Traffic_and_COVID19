{
 "cells": [
  {
   "cell_type": "markdown",
   "metadata": {},
   "source": [
    "## Imports"
   ]
  },
  {
   "cell_type": "code",
   "execution_count": 4,
   "metadata": {},
   "outputs": [],
   "source": [
    "import twint\n",
    "\n",
    "import nest_asyncio\n",
    "nest_asyncio.apply()\n",
    "\n",
    "import pandas as pd\n",
    "import numpy as np\n",
    "\n",
    "from datetime import datetime\n",
    "\n",
    "import matplotlib.pyplot as plt\n"
   ]
  },
  {
   "cell_type": "code",
   "execution_count": 5,
   "metadata": {},
   "outputs": [
    {
     "name": "stderr",
     "output_type": "stream",
     "text": [
      "CRITICAL:root:twint.get:User:'NoneType' object is not subscriptable\n"
     ]
    },
    {
     "name": "stdout",
     "output_type": "stream",
     "text": [
      "1273643851631247360 2020-06-18 11:48:52 EDT <noneprivacy> If you are a reporter or similar, please check this out!  👇🏻👇🏻👇🏻 https://twitter.com/henkvaness/status/1272871977544568833 … Se sei un giornalista o simile, dai un'occhiata a questo!  👇🏻👇🏻👇🏻 https://twitter.com/henkvaness/status/1272871977544568833… en it\n",
      "1273340964925562882 2020-06-17 15:45:18 EDT <noneprivacy> Good to see people talking about this  Telegram is another platform abused for unconsensual porn sharing, and by its nature is harder to track down bad actors. There are channels with tens of thousands subscribers  It's a cultural issue https://twitter.com/josephfcox/status/1273256353805500416 … È bello vedere la gente parlare di questo  Telegram è un'altra piattaforma abusata per la condivisione di porno senza senso, e per sua natura è più difficile rintracciare i cattivi attori. Ci sono canali con decine di migliaia di abbonati  È un problema culturale https://twitter.com/josephfcox/status/1273256353805500416 ... en it\n",
      "1272981204753678336 2020-06-16 15:55:44 EDT <noneprivacy> Any context or just random thoughts?  Recently a couple of things happened 👀  One also got arrested but I'm telling you nothing 🤫 Qualche contesto o solo pensieri casuali?  Di recente sono successe un paio di cose 👀  Uno è stato anche arrestato ma non ti sto dicendo nulla 🤫 en it\n",
      "1272294789376020487 2020-06-14 18:28:10 EDT <noneprivacy> Any news about this? Seems to be off since a while 😔 https://twitter.com/hackermaderas/status/1260575550734819328 … Qualche novità a riguardo? Sembra essere spento da un po '😔 https://twitter.com/hackermaderas/status/1260575550734819328 ... en it\n",
      "1271504598872793089 2020-06-12 14:08:14 EDT <noneprivacy> It also seems that the owner of instant-stresser has been doxed AF by the owner of synstresser (which has been doxed too)  What a circus  Just let me figure out what happened  PS: the dox is way bigger, it contains information about relatives as well pic.twitter.com/jiVmZtfILa Sembra anche che il proprietario dello stress istantaneo sia stato doxato AF dal proprietario del synstresser (che è stato anche doxato)  Che circo  Fammi solo capire cosa è successo  PS: il dox è molto più grande, contiene anche informazioni sui parenti pic.twitter.com/jiVmZtfILa en it\n",
      "1271500731607105542 2020-06-12 13:52:52 EDT <noneprivacy> With this tweet I neither confirm nor deny that I'm asking you for a Protonmail (or equivalent) address to communicate securely Con questo tweet non confermo né nego che ti sto chiedendo un indirizzo Protonmail (o equivalente) per comunicare in modo sicuro en it\n",
      "1271497790988988417 2020-06-12 13:41:11 EDT <noneprivacy> Habits die hard  Just don't want to promote leaked info Le abitudini sono dure a morire  Non voglio promuovere informazioni trapelate en it\n",
      "1271497186354835456 2020-06-12 13:38:47 EDT <noneprivacy> Seems that the guy of SynStresser is pretty F-ed up  Sorry for low quality; redacted info for privacy pic.twitter.com/Ho97v23ml6 Sembra che il ragazzo di SynStresser sia piuttosto in gamba  Ci scusiamo per la bassa qualità; informazioni redatte per la privacy pic.twitter.com/Ho97v23ml6 en it\n",
      "1271494751397838853 2020-06-12 13:29:06 EDT <noneprivacy> Then just a few messages; gone since Jun 2 Quindi solo alcuni messaggi; andato dal 2 giu en it\n",
      "1271494079260622848 2020-06-12 13:26:26 EDT <noneprivacy> Morning 30 May 2020, from an admin: pic.twitter.com/EdrSTcinME Mattina 30 maggio 2020, da un amministratore: pic.twitter.com/EdrSTcinME en it\n",
      "1271449459680034821 2020-06-12 10:29:08 EDT <noneprivacy> Local DNS: *stonks* DNS locale: * stonks * en it\n",
      "1271437112064315392 2020-06-12 09:40:04 EDT <noneprivacy> \"Nooo, you can't require upto 48 hours to propagate 😡\"  \"Haha HOSTS goes *clicky clicky* 😃\" \"Nooo, non puoi richiedere fino a 48 ore per propagare 😡\"  \"Haha HOSTS va * clicky clicky * 😃\" en it\n",
      "1271053837332340736 2020-06-11 08:17:04 EDT <noneprivacy> This seems to be nice too, but both require you to install an app and/or sign up  A few days ago, sync_me did not require you to sign up or else Anche questo sembra carino, ma entrambi richiedono l'installazione di un'app e / o la registrazione  Alcuni giorni fa, sync_me non ha richiesto la registrazione o altro en it\n",
      "1271037799127547904 2020-06-11 07:13:20 EDT <noneprivacy> Aaand  http://sync.me  is gone 😓 #OSINT pic.twitter.com/CcHBKFnmu9 Aaand http://sync.me non c'è più 😓 #OSINT pic.twitter.com/CcHBKFnmu9 en it\n",
      "1270818455340662785 2020-06-10 16:41:45 EDT <noneprivacy> \\begin{sarcasm}  Talking is deprecated  Please download latest stalking update  \\end{sarcasm} https://twitter.com/evacide/status/1270814898050568192 … \\ Begin {} sarcasmo  Parlare è deprecato  Si prega di scaricare l'ultimo aggiornamento di stalking  \\ end {sarcasm} https://twitter.com/evacide/status/1270814898050568192 ... en it\n",
      "1270702550807961602 2020-06-10 09:01:11 EDT <noneprivacy> ... just to download a GNU/Linux distribution 😉 ... solo per scaricare una distribuzione GNU / Linux 😉 en it\n",
      "1270298078101241858 2020-06-09 06:13:57 EDT <noneprivacy> Almost like playing with LaTeX https://twitter.com/fouroctets/status/1270125813518622721 … Quasi come giocare con LaTeX https://twitter.com/fouroctets/status/1270125813518622721 ... en it\n",
      "1269971094951399429 2020-06-08 08:34:38 EDT <noneprivacy> One of the most important blogs I've ever read, thank you Dutch! Uno dei blog più importanti che abbia mai letto, grazie olandese! en it\n",
      "1269895753159397377 2020-06-08 03:35:15 EDT <noneprivacy> The package is the same so maybe it's something Windows specific idk Il pacchetto è lo stesso, quindi forse è qualcosa di idk specifico di Windows en it\n",
      "1269577073959542790 2020-06-07 06:28:56 EDT <noneprivacy> Because in QM a state of a system is defined only after a measurement 😂 Perché in QM lo stato di un sistema è definito solo dopo una misurazione 😂 en it\n",
      "1269372201926569984 2020-06-06 16:54:51 EDT <noneprivacy> DC4 doesn't seem to work smoothly  DC1 works smoothly DC4 non sembra funzionare correttamente  DC1 funziona senza problemi en it\n",
      "1269371154516639744 2020-06-06 16:50:41 EDT <noneprivacy> @telegram up&running (DC4)  Users reported US-DCs (DC1, DC3) working  I can confirm that DC1 is working as expected pic.twitter.com/TjayKt6sEZ @telegram attivo e funzionante (DC4)  Gli utenti hanno riportato che gli Stati Uniti-DC (DC1, DC3) funzionavano  Posso confermare che DC1 funziona come previsto pic.twitter.com/TjayKt6sEZ en it\n",
      "1269370330486890496 2020-06-06 16:47:25 EDT <noneprivacy> So you have DC1 or DC3, good to know  So probably only EU and/or Asia were affected Quindi hai DC1 o DC3, buono a sapersi  Quindi probabilmente solo l'UE e / o l'Asia sono state colpite en it\n",
      "1269365403194667013 2020-06-06 16:27:50 EDT <noneprivacy> Damn, overcooked 2020 Accidenti, cotto troppo 2020 en it\n",
      "1269363875553697793 2020-06-06 16:21:46 EDT <noneprivacy> Let it brown a little more Lascialo rosolare ancora un po ' en it\n",
      "1269362713739890690 2020-06-06 16:17:09 EDT <noneprivacy> Confirmed Telegram down Telegram confermato giù en it\n",
      "1269340173374042112 2020-06-06 14:47:35 EDT <noneprivacy> At least is not a Gin Fist Almeno non è un pugno di gin en it\n",
      "1269327756753539075 2020-06-06 13:58:14 EDT <noneprivacy> Ah shit, here we go again https://twitter.com/jkbjournalist/status/1269252049146769410 … Ah merda, eccoci di nuovo https://twitter.com/jkbjournalist/status/1269252049146769410 ... en it\n",
      "1267568098212810757 2020-06-01 17:25:59 EDT <noneprivacy> Hi Rpger, you have to use the .Lookup function (all in the wiki) and save the output to CSV (for example) Ciao Rpger, devi usare la funzione .Lookup (tutto nel wiki) e salvare l'output in CSV (ad esempio) en it\n",
      "1266802152279805952 2020-05-30 14:42:23 EDT <noneprivacy> Not sure if he claims to be @troyhunt or Joseph Non sono sicuro se afferma di essere @troyhunt o Joseph en it\n",
      "1266793352302821381 2020-05-30 14:07:25 EDT <noneprivacy> What a time to be alive https://twitter.com/madeleinebaran/status/1266610933071138816 … Che momento di essere vivi https://twitter.com/madeleinebaran/status/1266610933071138816 ... en it\n",
      "1265916448234496001 2020-05-28 04:02:55 EDT <noneprivacy> No kind words https://twitter.com/arturodicorinto/status/1265900538878713861 … Nessuna parola gentile https://twitter.com/arturodicorinto/status/1265900538878713861 ... en it\n"
     ]
    },
    {
     "name": "stdout",
     "output_type": "stream",
     "text": [
      "1265730306570584064 2020-05-27 15:43:15 EDT <noneprivacy> Well he has been sounding quite \"strange\" to me, but never thought that bad  I didn't pay much attention to this Beh, mi è sembrato abbastanza \"strano\", ma non l'ho mai pensato così male  Non ho prestato molta attenzione a questo en it\n",
      "1265728933342916611 2020-05-27 15:37:48 EDT <noneprivacy> I've seen targets setting up Mastodon, Freenet, Telegram groups/channels... really resilient Ho visto obiettivi istituire gruppi / canali Mastodon, Freenet, Telegram ... molto resistenti en it\n",
      "1265727230803685381 2020-05-27 15:31:02 EDT <noneprivacy> Thanks for reporting! 🙏🏻 Grazie per aver segnalato! 🙏🏻 en it\n",
      "1265727028139098113 2020-05-27 15:30:14 EDT <noneprivacy> Well well well https://twitter.com/Sector035/status/1265351028129570819 … Bene bene bene https://twitter.com/Sector035/status/1265351028129570819 ... en it\n",
      "1264466068124434432 2020-05-24 03:59:37 EDT <noneprivacy> NordVPN deleted the tweet... but too late.  I'd also like to remember that someone got paid for writing this.  https://twitter.com/notdan/status/1264285220880048129 … pic.twitter.com/8W9GMMPfrj NordVPN ha eliminato il tweet ... ma troppo tardi.  Vorrei anche ricordare che qualcuno è stato pagato per averlo scritto. https://twitter.com/notdan/status/1264285220880048129… pic.twitter.com/8W9GMMPfrj en it\n",
      "1264459398405066752 2020-05-24 03:33:07 EDT <noneprivacy> There's also @Botometer so you don't need to scrape the data first  Doing something from zero is not so easy C'è anche @Botometer quindi non è necessario prima grattare i dati  Fare qualcosa da zero non è così facile en it\n",
      "1264239245985755143 2020-05-23 12:58:19 EDT <noneprivacy> I'm also thinking about Dell XPS 13 dev edition, small and fast (i7 10th gen) Sto anche pensando a Dell XPS 13 dev edition, piccola e veloce (i7 decima generazione) en it\n",
      "1264238413093445644 2020-05-23 12:55:00 EDT <noneprivacy> Hey nerdy friends, I'm going to buy a new notebook but there are so many options... what would you suggest me?  I want a high end one that's compatible with Ubuntu (no issues with wifi and drivers in general). Dedicated video card is not a requirement. Ehi amici nerd, ho intenzione di comprare un nuovo taccuino ma ci sono così tante opzioni ... cosa mi consiglieresti?  Voglio uno di fascia alta compatibile con Ubuntu (nessun problema con wifi e driver in generale). La scheda video dedicata non è un requisito. en it\n",
      "1263422808614481921 2020-05-21 06:54:05 EDT <noneprivacy> I'd to know more, do you have any resource? I'm also reading a few forensic articles around but I don't have a clear idea Vorrei saperne di più, hai qualche risorsa? Sto anche leggendo alcuni articoli forensi in giro, ma non ho un'idea chiara en it\n",
      "1262465328271015937 2020-05-18 15:29:24 EDT <noneprivacy> Roasted 11/10 😂😂😂 https://twitter.com/reportrai3/status/1262465031553323011 … Arrosto 11/10 😂😂😂 https://twitter.com/reportrai3/status/1262465031553323011… en it\n",
      "1262308197970448385 2020-05-18 05:05:01 EDT <noneprivacy> * anxiety rises gif * * l'ansia aumenta gif * en it\n",
      "1261721581073707010 2020-05-16 14:14:01 EDT <noneprivacy> Fortunately the search still works 😂 Fortunatamente la ricerca funziona ancora 😂 en it\n",
      "1261721456163065856 2020-05-16 14:13:31 EDT <noneprivacy> And puzzles are there waiting to be solved 😎 E i puzzle sono lì in attesa di essere risolti 😎 en it\n",
      "1261590597732831233 2020-05-16 05:33:32 EDT <noneprivacy> This is going to be a huge issue for Twint... most probably  https://twitter.com/ZusorOW/status/1258885451055800320 … pic.twitter.com/NYITV17yGo Questo sarà un grosso problema per Twint ... molto probabilmente https://twitter.com/ZusorOW/status/1258885451055800320… pic.twitter.com/NYITV17yGo en it\n",
      "1260608989068431366 2020-05-13 12:32:58 EDT <noneprivacy> I have this  https://firstdraftnews.org/latest/facebook-changes-2020/ … in my bookmarks, but there could be other things around. Nothing else in my pocket, yet. Ho questo https://firstdraftnews.org/latest/facebook-changes-2020/ ... nei miei segnalibri, ma potrebbero esserci altre cose in giro. Nient'altro in tasca, ancora. en it\n",
      "1258841641982529537 2020-05-08 15:30:10 EDT <noneprivacy> My pleasure! 😉 Il piacere è tutto mio! 😉 en it\n",
      "1258841164263895044 2020-05-08 15:28:16 EDT <noneprivacy> Open dev tools bar, go to your bookmakrs, scroll down to the end, export as HAR, read it as JSON using Python and filter the requests by endpoint Apri la barra degli strumenti di sviluppo, vai ai tuoi segnalibri, scorri fino alla fine, esporta come HAR, leggilo come JSON usando Python e filtra le richieste per endpoint en it\n",
      "1258840459205660672 2020-05-08 15:25:28 EDT <noneprivacy> Not sure if your bookmarks are public, and Twitter may ban/suspend your account if you authenticate... not suggested Non sono sicuro che i tuoi segnalibri siano pubblici e Twitter potrebbe vietare / sospendere il tuo account se esegui l'autenticazione ... non suggerito en it\n",
      "1258839412848439296 2020-05-08 15:21:18 EDT <noneprivacy> Maybe if you export your Twitter data you can, but idk Forse se esporti i tuoi dati Twitter puoi, ma idk en it\n",
      "1258839224293482498 2020-05-08 15:20:33 EDT <noneprivacy> That's the endpoint, to replicate the request do \"copy as cURL\" Questo è l'endpoint, per replicare la richiesta fai \"copia come cURL\" en it\n",
      "1258837333887107077 2020-05-08 15:13:03 EDT <noneprivacy> Hmmm honestly idk, maybe you can export with the API? Hmmm sinceramente idk, forse puoi esportare con l'API? en it\n",
      "1258746277535383552 2020-05-08 09:11:13 EDT <noneprivacy> At which level does one start to get insults? I feel so noob 😓 A quale livello si inizia a ricevere insulti? Mi sento così noob 😓 en it\n",
      "1257768548547559424 2020-05-05 16:26:04 EDT <noneprivacy> Thank you for your kind words! 🙏 pic.twitter.com/hYw6A0mfdv Grazie per le gentili parole! 🙏 pic.twitter.com/hYw6A0mfdv en it\n",
      "1257379693604503555 2020-05-04 14:40:54 EDT <noneprivacy> Don't use DMs for sensitive discussions, never. https://twitter.com/NatSecGeek/status/1257298823522603010 … Non usare mai i DM per discussioni delicate, mai. https://twitter.com/NatSecGeek/status/1257298823522603010 ... en it\n",
      "1256994969996480513 2020-05-03 13:12:09 EDT <noneprivacy> Would self-hosted solutions be feasible? Le soluzioni self-hosted sarebbero possibili? en it\n",
      "1255870317605650432 2020-04-30 10:43:11 EDT <noneprivacy> Honoured to have worked with Alex and Denis, so much to learn from them! 🙏🏻 https://twitter.com/WeVerify/status/1255869459061002244 … Onorato di aver lavorato con Alex e Denis, così tanto da imparare da loro! 🙏🏻 https://twitter.com/WeVerify/status/1255869459061002244 ... en it\n",
      "1252520047702130688 2020-04-21 04:50:24 EDT <noneprivacy> Seems to be way bigger @certbr pic.twitter.com/vuC3Sn0YwR Sembra essere molto più grande @certbr pic.twitter.com/vuC3Sn0YwR en it\n",
      "1252130029863043074 2020-04-20 03:00:37 EDT <noneprivacy> Anyone with a nice GPU here?  Btw, check his net viz tools 👇🏻👇🏻👇🏻 https://twitter.com/anvaka/status/1252011177149788160 … Qualcuno con una bella GPU qui?  A proposito, controlla i suoi strumenti di rete niz 👇🏻👇🏻👇🏻 https://twitter.com/anvaka/status/1252011177149788160 ... en it\n",
      "1251795205814128641 2020-04-19 04:50:08 EDT <noneprivacy> You are using key-based auth, right? Stai usando l'autenticazione basata su chiave, giusto? en it\n",
      "1250898929216098310 2020-04-16 17:28:39 EDT <noneprivacy> There's hope!  #OSINT https://twitter.com/_IntelligenceX/status/1250793794540363776 … C'è speranza!  #OSINT https://twitter.com/_IntelligenceX/status/1250793794540363776… en it\n",
      "1250892635142840321 2020-04-16 17:03:39 EDT <noneprivacy> What scares me are not the people who don't know, but the people that don't want to learn Ciò che mi spaventa non sono le persone che non sanno, ma le persone che non vogliono imparare en it\n",
      "1250866918078189570 2020-04-16 15:21:27 EDT <noneprivacy> Narrator: \"when the 5G antennas get scared, they fly away releasing the coronavirus via chemtrails\" Narratore: \"quando le antenne 5G si spaventano, volano via rilasciando il coronavirus tramite scie chimiche\" en it\n",
      "1250861620097622016 2020-04-16 15:00:24 EDT <noneprivacy> All-in-one pic.twitter.com/QGIvrNGQdq Tutto in uno pic.twitter.com/QGIvrNGQdq en it\n",
      "1248285267556999170 2020-04-09 12:22:54 EDT <noneprivacy> One of the things that test me (quite often) is the possibility to verify information, or even just to get the information. Could be a forum does not exist anymore, a Twitter account, many things... I guess that is a rare case, but happens and there are not many workarounds Una delle cose che mi mette alla prova (abbastanza spesso) è la possibilità di verificare le informazioni o anche solo di ottenere le informazioni. Potrebbe essere un forum non esiste più, un account Twitter, molte cose ... Immagino che sia un caso raro, ma succede e non ci sono molte soluzioni alternative en it\n"
     ]
    },
    {
     "name": "stdout",
     "output_type": "stream",
     "text": [
      "1247909763561783301 2020-04-08 11:30:47 EDT <noneprivacy> So great talking with you guys, thank you so much for inviting me! https://twitter.com/Layer8Conf/status/1247906042286989313 … Così bello parlare con voi ragazzi, grazie mille per avermi invitato! https://twitter.com/Layer8Conf/status/1247906042286989313 ... en it\n",
      "1247454735994675200 2020-04-07 05:22:40 EDT <noneprivacy> Good for #OSINT too https://twitter.com/mozhacks/status/1247453266176356352 … Buono anche per #OSINT https://twitter.com/mozhacks/status/1247453266176356352 ... en it\n",
      "1245629249161027585 2020-04-02 04:28:50 EDT <noneprivacy> Good: CF helps you to protect your infrastructure Bad: they don't have KYC guidelines Buono: CF ti aiuta a proteggere la tua infrastruttura Cattivo: non hanno le linee guida KYC en it\n",
      "1245624422033055744 2020-04-02 04:09:39 EDT <noneprivacy> Great article! 👏🏻👏🏻 Ottimo articolo! 👏🏻👏🏻 en it\n",
      "1244682255890595845 2020-03-30 13:45:49 EDT <noneprivacy> The difference between the native app and a forked one can reside only on the client side, meaning that the backend is still the same  Names could be different/the same because at that time the user had a different/the same name (if this is the point) La differenza tra l'app nativa e quella biforcuta può risiedere solo sul lato client, il che significa che il backend è sempre lo stesso  I nomi potrebbero essere diversi / uguali perché in quel momento l'utente aveva un nome diverso / uguale (se questo è il punto) en it\n",
      "1244679621519585284 2020-03-30 13:35:21 EDT <noneprivacy> Wanted to say 100% but, you know, better step back before making hasty conclusions 😂 Volevo dirlo al 100% ma, sai, è meglio fare un passo indietro prima di trarre conclusioni affrettate 😂 en it\n",
      "1244678674005270534 2020-03-30 13:31:35 EDT <noneprivacy> They dumped an Elasticsearch instance, 99% sure Hanno scaricato un'istanza di Elasticsearch, sicura al 99% en it\n",
      "1244343323487338496 2020-03-29 15:19:01 EDT <noneprivacy> Congrats, nice stuff! 👏🏻 Complimenti, belle cose! 👏🏻 en it\n",
      "1244207873284100099 2020-03-29 06:20:47 EDT <noneprivacy> Any service that did not fail? Qualche servizio che non ha fallito? en it\n",
      "1244201737721917441 2020-03-29 05:56:25 EDT <noneprivacy> Great project! Which tools do you use? Do you also fetch data from pushshift? Ottimo progetto! Quali strumenti usi? Recuperi anche i dati dal pushshift? en it\n",
      "1243900004227526670 2020-03-28 09:57:26 EDT <noneprivacy> I guess that services like Google and Dropbox have been already considered, right?  Maybe a shared folder with MEGA? Immagino che servizi come Google e Dropbox siano già stati considerati, giusto?  Forse una cartella condivisa con MEGA? en it\n",
      "1243818341397155840 2020-03-28 04:32:56 EDT <noneprivacy> That's nice! Also an Italian ISP added 30% of bandwidth at no cost 👏🏻 Bello! Anche un ISP italiano ha aggiunto il 30% della larghezza di banda gratuitamente 👏🏻 en it\n",
      "1243620790119157760 2020-03-27 15:27:56 EDT <noneprivacy> Friday is just Thursday but with another name 🤔 Venerdì è solo giovedì ma con un altro nome 🤔 en it\n",
      "1243534519761801217 2020-03-27 09:45:07 EDT <noneprivacy> This could be my next wallpaper 👓  Made with @elastic ✌️ #OSINT pic.twitter.com/HLOimdtElV Questo potrebbe essere il mio prossimo sfondo 👓  Realizzato con @elastic ✌️ #OSINT pic.twitter.com/HLOimdtElV en it\n",
      "1242765468420669441 2020-03-25 06:49:11 EDT <noneprivacy> I use both zsh and bash on Ubuntu, and got zero issues. I don't use special setups or configurations, maybe there was an issue with the PATH envs? Idk, what matters is that you got it up and running Uso sia zsh che bash su Ubuntu e non ho avuto problemi. Non utilizzo setup o configurazioni speciali, forse c'è stato un problema con il PATH envs? Idk, l'importante è che tu l'abbia messo in funzione en it\n",
      "1242545237345656833 2020-03-24 16:14:04 EDT <noneprivacy> Really great! 👍🏻 Davvero fantastico! 👍🏻 en it\n",
      "1242509117819928582 2020-03-24 13:50:33 EDT <noneprivacy> I agree that in a general case Docker has benefits even for the resources.  I wanted to say that for this specific case, a WP site, your are using more RAM than WP itself.  I don't mean to say that Docker is generally bad. Concordo sul fatto che in un caso generale Docker presenta vantaggi anche per le risorse.  Volevo dire che per questo caso specifico, un sito WP, stai usando più RAM di WP stesso.  Non intendo dire che Docker è generalmente cattivo. en it\n",
      "1242493434193215488 2020-03-24 12:48:13 EDT <noneprivacy> I meant something like that if a program allocates 30MB, the memory allocated by that program and Docker is more than 30MB Intendevo qualcosa del genere se un programma alloca 30 MB, la memoria allocata da quel programma e Docker è più di 30 MB en it\n",
      "1242417812322299904 2020-03-24 07:47:44 EDT <noneprivacy> Container* haha 😂 Contenitore * haha ​​😂 en it\n",
      "1242415876160225281 2020-03-24 07:40:02 EDT <noneprivacy> That's more or less the same setup, except that you have to tunnel the traffic from the public IP to the Docker containet. It's not so hard and there's a lot of documentation 👍🏻 È più o meno la stessa configurazione, tranne per il fatto che devi tunnelizzare il traffico dall'IP pubblico al contenitore Docker. Non è così difficile e c'è molta documentazione 👍🏻 en it\n",
      "1242406930863267841 2020-03-24 07:04:29 EDT <noneprivacy> For example if a ransomware breaks into your wordpress site, you can simply delete that instance and create a new one.  With Docker it's possible to \"load\" directories in \"read only\" mode. Ad esempio se un ransomware entra nel tuo sito wordpress, puoi semplicemente eliminare quell'istanza e crearne uno nuovo.  Con Docker è possibile \"caricare\" le directory in modalità \"sola lettura\". en it\n",
      "1242406495800692741 2020-03-24 07:02:46 EDT <noneprivacy> Cons is that you are using more resources that want you need (more or less). Pros is that if someone breaks into your docker, it can't hurt your system (precautions taken). Contro è che stai usando più risorse di cui hai bisogno (più o meno). I pro sono che se qualcuno si rompe nella finestra mobile, non può danneggiare il sistema (precauzioni prese). en it\n",
      "1242405407408164864 2020-03-24 06:58:26 EDT <noneprivacy> I browse it normally, is your network stable? La navigo normalmente, la tua rete è stabile? en it\n",
      "1242002789775048704 2020-03-23 04:18:35 EDT <noneprivacy> One of my top 3 movies  Nominating: @dutch_osintguy @evaristegal0is @Flizzar pic.twitter.com/tkO1RzWmRx Uno dei miei 3 film migliori  Nomine: @dutch_osintguy @ evaristegal0is @Flizzar pic.twitter.com/tkO1RzWmRx en it\n",
      "1241755546375589890 2020-03-22 11:56:07 EDT <noneprivacy> Hi ppl, I suggest you to join their Slack to find possible team-mates if you don't know who to ping Ciao gente, ti consiglio di unirti al loro Slack per trovare possibili compagni di squadra se non sai chi fare il ping en it\n",
      "1241754875966488579 2020-03-22 11:53:27 EDT <noneprivacy> See you there :) Ci vediamo lì :) en it\n",
      "1241063234096058371 2020-03-20 14:05:07 EDT <noneprivacy> Also disable \"join by link\" feature when not needed (you can do this on Skype for sure) 🙏🏻 Disattiva anche la funzione \"join by link\" quando non è necessario (puoi farlo su Skype di sicuro) 🙏🏻 en it\n",
      "1240922317305327617 2020-03-20 04:45:10 EDT <noneprivacy> They recorded it and uploaded to YouTube! https://twitter.com/bellingcat/status/1240777488164413449 … Lo hanno registrato e caricato su YouTube! https://twitter.com/bellingcat/status/1240777488164413449 ... en it\n",
      "1240302012958466048 2020-03-18 11:40:18 EDT <noneprivacy> Install Snapchat, create a group, play a game and activate the microphone so that you can talk to each other. I do really like one called \"snake squad\" which is similar to AgarIO  That one is not turn-based, I bet you'll enjoy it :) Installa Snapchat, crea un gruppo, gioca e attiva il microfono in modo che tu possa parlarti. Mi piace molto una chiamata \"squadra di serpenti\" che è simile ad AgarIO  Quello non è a turni, scommetto che ti piacerà :) en it\n",
      "1239176915182911489 2020-03-15 09:09:34 EDT <noneprivacy> I wasn't aware of this tool, that's really interesting! Thanks for sharing! 🙏🏻 Non ero a conoscenza di questo strumento, è davvero interessante! Grazie per la condivisione! 🙏🏻 en it\n"
     ]
    },
    {
     "name": "stdout",
     "output_type": "stream",
     "text": [
      "1238805074429779968 2020-03-14 08:32:00 EDT <noneprivacy> I'd remove \"joinlink\" from the query since, usually, those are temporary links and after you re-generate the link, the old one is no more valid. Or maybe you can filter the results for the past week (I'd not suggest more) Rimuoverei \"joinlink\" dalla query poiché, di solito, si tratta di collegamenti temporanei e dopo aver rigenerato il collegamento, quello vecchio non è più valido. O forse puoi filtrare i risultati della settimana passata (non consiglierei di più) en it\n",
      "1238800433226940416 2020-03-14 08:13:33 EDT <noneprivacy> Obviously, we need to provide some good context since a few links might be disabled/expired or way too old to provide something valuable.  So if we restrict the query to the past month, that's what we get pic.twitter.com/ELFjqSBziS Ovviamente, dobbiamo fornire un buon contesto poiché alcuni collegamenti potrebbero essere disabilitati / scaduti o troppo vecchi per fornire qualcosa di prezioso.  Quindi, se limitiamo la query al mese scorso, è quello che otteniamo pic.twitter.com/ELFjqSBziS en it\n",
      "1238798400524615680 2020-03-14 08:05:29 EDT <noneprivacy> Also, it's not so good that Skype doesn't re-generate new invite-links once you disable and enable again the \"join by link\" feature pic.twitter.com/ECY6PtmrmJ Inoltre, non è così buono che Skype non generi di nuovo i nuovi link di invito una volta che disabiliti e riattivi la funzione \"join by link\" pic.twitter.com/ECY6PtmrmJ en it\n",
      "1238797415592984578 2020-03-14 08:01:34 EDT <noneprivacy> Worth to notify that we can extend the dork for Skype because some invite links don't have \"invite\" in the url  On the other side, you get a lot of false positives. pic.twitter.com/LvxkLvaJzZ Vale la pena avvisare che possiamo estendere il dork per Skype perché alcuni link di invito non hanno \"invito\" nell'URL  Dall'altro lato, ottieni molti falsi positivi. pic.twitter.com/LvxkLvaJzZ en it\n"
     ]
    }
   ],
   "source": [
    "c = twint.Config()\n",
    "c.Username = \"noneprivacy\"\n",
    "c.Limit = 100\n",
    "c.Store_csv = True\n",
    "c.Output = \"none.csv\"\n",
    "c.Lang = \"en\"\n",
    "c.Translate = True\n",
    "c.TranslateDest = \"it\"\n",
    "twint.run.Search(c)"
   ]
  },
  {
   "cell_type": "code",
   "execution_count": null,
   "metadata": {},
   "outputs": [],
   "source": []
  }
 ],
 "metadata": {
  "kernelspec": {
   "display_name": "Python 3",
   "language": "python",
   "name": "python3"
  },
  "language_info": {
   "codemirror_mode": {
    "name": "ipython",
    "version": 3
   },
   "file_extension": ".py",
   "mimetype": "text/x-python",
   "name": "python",
   "nbconvert_exporter": "python",
   "pygments_lexer": "ipython3",
   "version": "3.7.4"
  },
  "toc": {
   "base_numbering": 1,
   "nav_menu": {},
   "number_sections": true,
   "sideBar": true,
   "skip_h1_title": false,
   "title_cell": "Table of Contents",
   "title_sidebar": "Contents",
   "toc_cell": false,
   "toc_position": {},
   "toc_section_display": true,
   "toc_window_display": false
  }
 },
 "nbformat": 4,
 "nbformat_minor": 2
}
