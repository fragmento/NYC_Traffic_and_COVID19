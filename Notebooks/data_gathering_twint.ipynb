{
 "cells": [
  {
   "cell_type": "markdown",
   "metadata": {},
   "source": [
    "## Imports"
   ]
  },
  {
   "cell_type": "code",
   "execution_count": 4,
   "metadata": {},
   "outputs": [],
   "source": [
    "import twint\n",
    "\n",
    "import nest_asyncio\n",
    "nest_asyncio.apply()\n",
    "\n",
    "import pandas as pd\n",
    "import numpy as np\n",
    "\n",
    "from datetime import datetime\n",
    "\n",
    "import matplotlib.pyplot as plt\n"
   ]
  },
  {
   "cell_type": "code",
   "execution_count": 6,
   "metadata": {},
   "outputs": [
    {
     "name": "stderr",
     "output_type": "stream",
     "text": [
      "CRITICAL:root:twint.get:User:'NoneType' object is not subscriptable\n"
     ]
    },
    {
     "name": "stdout",
     "output_type": "stream",
     "text": [
      "1273643851631247360 2020-06-18 11:48:52 EDT <noneprivacy> If you are a reporter or similar, please check this out!  👇🏻👇🏻👇🏻 https://twitter.com/henkvaness/status/1272871977544568833 … Se sei un giornalista o simile, dai un'occhiata a questo!  👇🏻👇🏻👇🏻 https://twitter.com/henkvaness/status/1272871977544568833… en it\n",
      "1273340964925562882 2020-06-17 15:45:18 EDT <noneprivacy> Good to see people talking about this  Telegram is another platform abused for unconsensual porn sharing, and by its nature is harder to track down bad actors. There are channels with tens of thousands subscribers  It's a cultural issue https://twitter.com/josephfcox/status/1273256353805500416 … È bello vedere la gente parlare di questo  Telegram è un'altra piattaforma abusata per la condivisione di porno senza senso, e per sua natura è più difficile rintracciare i cattivi attori. Ci sono canali con decine di migliaia di abbonati  È un problema culturale https://twitter.com/josephfcox/status/1273256353805500416 ... en it\n",
      "1272981204753678336 2020-06-16 15:55:44 EDT <noneprivacy> Any context or just random thoughts?  Recently a couple of things happened 👀  One also got arrested but I'm telling you nothing 🤫 Qualche contesto o solo pensieri casuali?  Di recente sono successe un paio di cose 👀  Uno è stato anche arrestato ma non ti sto dicendo nulla 🤫 en it\n",
      "1272294789376020487 2020-06-14 18:28:10 EDT <noneprivacy> Any news about this? Seems to be off since a while 😔 https://twitter.com/hackermaderas/status/1260575550734819328 … Qualche novità a riguardo? Sembra essere spento da un po '😔 https://twitter.com/hackermaderas/status/1260575550734819328 ... en it\n",
      "1271504598872793089 2020-06-12 14:08:14 EDT <noneprivacy> It also seems that the owner of instant-stresser has been doxed AF by the owner of synstresser (which has been doxed too)  What a circus  Just let me figure out what happened  PS: the dox is way bigger, it contains information about relatives as well pic.twitter.com/jiVmZtfILa Sembra anche che il proprietario dello stress istantaneo sia stato doxato AF dal proprietario del synstresser (che è stato anche doxato)  Che circo  Fammi solo capire cosa è successo  PS: il dox è molto più grande, contiene anche informazioni sui parenti pic.twitter.com/jiVmZtfILa en it\n",
      "1271500731607105542 2020-06-12 13:52:52 EDT <noneprivacy> With this tweet I neither confirm nor deny that I'm asking you for a Protonmail (or equivalent) address to communicate securely Con questo tweet non confermo né nego che ti sto chiedendo un indirizzo Protonmail (o equivalente) per comunicare in modo sicuro en it\n",
      "1271497790988988417 2020-06-12 13:41:11 EDT <noneprivacy> Habits die hard  Just don't want to promote leaked info Le abitudini sono dure a morire  Non voglio promuovere informazioni trapelate en it\n",
      "1271497186354835456 2020-06-12 13:38:47 EDT <noneprivacy> Seems that the guy of SynStresser is pretty F-ed up  Sorry for low quality; redacted info for privacy pic.twitter.com/Ho97v23ml6 Sembra che il ragazzo di SynStresser sia piuttosto in gamba  Ci scusiamo per la bassa qualità; informazioni redatte per la privacy pic.twitter.com/Ho97v23ml6 en it\n",
      "1271494751397838853 2020-06-12 13:29:06 EDT <noneprivacy> Then just a few messages; gone since Jun 2 Quindi solo alcuni messaggi; andato dal 2 giu en it\n",
      "1271494079260622848 2020-06-12 13:26:26 EDT <noneprivacy> Morning 30 May 2020, from an admin: pic.twitter.com/EdrSTcinME Mattina 30 maggio 2020, da un amministratore: pic.twitter.com/EdrSTcinME en it\n",
      "1271449459680034821 2020-06-12 10:29:08 EDT <noneprivacy> Local DNS: *stonks* DNS locale: * stonks * en it\n",
      "1271437112064315392 2020-06-12 09:40:04 EDT <noneprivacy> \"Nooo, you can't require upto 48 hours to propagate 😡\"  \"Haha HOSTS goes *clicky clicky* 😃\" \"Nooo, non puoi richiedere fino a 48 ore per propagare 😡\"  \"Haha HOSTS va * clicky clicky * 😃\" en it\n",
      "1271053837332340736 2020-06-11 08:17:04 EDT <noneprivacy> This seems to be nice too, but both require you to install an app and/or sign up  A few days ago, sync_me did not require you to sign up or else Anche questo sembra carino, ma entrambi richiedono l'installazione di un'app e / o la registrazione  Alcuni giorni fa, sync_me non ha richiesto la registrazione o altro en it\n",
      "1271037799127547904 2020-06-11 07:13:20 EDT <noneprivacy> Aaand  http://sync.me  is gone 😓 #OSINT pic.twitter.com/CcHBKFnmu9 Aaand http://sync.me non c'è più 😓 #OSINT pic.twitter.com/CcHBKFnmu9 en it\n",
      "1270818455340662785 2020-06-10 16:41:45 EDT <noneprivacy> \\begin{sarcasm}  Talking is deprecated  Please download latest stalking update  \\end{sarcasm} https://twitter.com/evacide/status/1270814898050568192 … \\ Begin {} sarcasmo  Parlare è deprecato  Si prega di scaricare l'ultimo aggiornamento di stalking  \\ end {sarcasm} https://twitter.com/evacide/status/1270814898050568192 ... en it\n",
      "1270702550807961602 2020-06-10 09:01:11 EDT <noneprivacy> ... just to download a GNU/Linux distribution 😉 ... solo per scaricare una distribuzione GNU / Linux 😉 en it\n",
      "1270298078101241858 2020-06-09 06:13:57 EDT <noneprivacy> Almost like playing with LaTeX https://twitter.com/fouroctets/status/1270125813518622721 … Quasi come giocare con LaTeX https://twitter.com/fouroctets/status/1270125813518622721 ... en it\n",
      "1269971094951399429 2020-06-08 08:34:38 EDT <noneprivacy> One of the most important blogs I've ever read, thank you Dutch! Uno dei blog più importanti che abbia mai letto, grazie olandese! en it\n",
      "1269895753159397377 2020-06-08 03:35:15 EDT <noneprivacy> The package is the same so maybe it's something Windows specific idk Il pacchetto è lo stesso, quindi forse è qualcosa di idk specifico di Windows en it\n",
      "1269577073959542790 2020-06-07 06:28:56 EDT <noneprivacy> Because in QM a state of a system is defined only after a measurement 😂 Perché in QM lo stato di un sistema è definito solo dopo una misurazione 😂 en it\n"
     ]
    }
   ],
   "source": [
    "c = twint.Config()\n",
    "c.Username = \"noneprivacy\"\n",
    "c.Limit = 1\n",
    "c.Store_csv = True\n",
    "c.Output = \"none.csv\"\n",
    "c.Lang = \"en\"\n",
    "c.Translate = True\n",
    "c.TranslateDest = \"it\"\n",
    "twint.run.Search(c)"
   ]
  },
  {
   "cell_type": "code",
   "execution_count": null,
   "metadata": {},
   "outputs": [],
   "source": []
  }
 ],
 "metadata": {
  "kernelspec": {
   "display_name": "Python 3",
   "language": "python",
   "name": "python3"
  },
  "language_info": {
   "codemirror_mode": {
    "name": "ipython",
    "version": 3
   },
   "file_extension": ".py",
   "mimetype": "text/x-python",
   "name": "python",
   "nbconvert_exporter": "python",
   "pygments_lexer": "ipython3",
   "version": "3.7.4"
  },
  "toc": {
   "base_numbering": 1,
   "nav_menu": {},
   "number_sections": true,
   "sideBar": true,
   "skip_h1_title": false,
   "title_cell": "Table of Contents",
   "title_sidebar": "Contents",
   "toc_cell": false,
   "toc_position": {},
   "toc_section_display": true,
   "toc_window_display": false
  }
 },
 "nbformat": 4,
 "nbformat_minor": 2
}
