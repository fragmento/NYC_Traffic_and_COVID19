{
 "cells": [
  {
   "cell_type": "markdown",
   "metadata": {},
   "source": [
    "# Getting Tweets by ID"
   ]
  },
  {
   "cell_type": "code",
   "execution_count": 2,
   "metadata": {},
   "outputs": [],
   "source": [
    "# Importing relevant libraries \n",
    "import tweepy\n",
    "import json\n",
    "import config \n",
    "\n",
    "import pandas as pd\n",
    "import numpy as np\n",
    "\n",
    "from datetime import datetime\n",
    "\n",
    "import matplotlib.pyplot as plt"
   ]
  },
  {
   "cell_type": "code",
   "execution_count": null,
   "metadata": {},
   "outputs": [],
   "source": []
  },
  {
   "cell_type": "code",
   "execution_count": 5,
   "metadata": {},
   "outputs": [
    {
     "data": {
      "text/plain": [
       "[[Status(_api=<tweepy.api.API object at 0x7ffe23619e10>, _json={'created_at': 'Thu Sep 17 21:25:50 +0000 2009', 'id': 4063561008, 'id_str': '4063561008', 'text': \"You gotta be kidding me.. everyone around me is sick, I've joked about getting sick and laughed at flu shots... I'm hurting right now.. Blah\", 'truncated': False, 'entities': {'hashtags': [], 'symbols': [], 'user_mentions': [], 'urls': []}, 'source': '<a href=\"http://twitter.com\" rel=\"nofollow\">Twitter Web Client</a>', 'in_reply_to_status_id': None, 'in_reply_to_status_id_str': None, 'in_reply_to_user_id': None, 'in_reply_to_user_id_str': None, 'in_reply_to_screen_name': None, 'user': {'id': 61627346, 'id_str': '61627346', 'name': 'Nathan Cooper', 'screen_name': 'SynysterNates', 'location': 'Central Washington', 'description': '', 'url': None, 'entities': {'description': {'urls': []}}, 'protected': False, 'followers_count': 40, 'friends_count': 45, 'listed_count': 0, 'created_at': 'Thu Jul 30 23:11:26 +0000 2009', 'favourites_count': 5, 'utc_offset': None, 'time_zone': None, 'geo_enabled': False, 'verified': False, 'statuses_count': 700, 'lang': None, 'contributors_enabled': False, 'is_translator': False, 'is_translation_enabled': False, 'profile_background_color': '352726', 'profile_background_image_url': 'http://abs.twimg.com/images/themes/theme5/bg.gif', 'profile_background_image_url_https': 'https://abs.twimg.com/images/themes/theme5/bg.gif', 'profile_background_tile': False, 'profile_image_url': 'http://pbs.twimg.com/profile_images/378800000225281058/ced9a72768d53ebc242fb3582f265f0d_normal.jpeg', 'profile_image_url_https': 'https://pbs.twimg.com/profile_images/378800000225281058/ced9a72768d53ebc242fb3582f265f0d_normal.jpeg', 'profile_link_color': 'D02B55', 'profile_sidebar_border_color': '829D5E', 'profile_sidebar_fill_color': '99CC33', 'profile_text_color': '3E4415', 'profile_use_background_image': True, 'has_extended_profile': False, 'default_profile': False, 'default_profile_image': False, 'following': False, 'follow_request_sent': False, 'notifications': False, 'translator_type': 'none'}, 'geo': None, 'coordinates': None, 'place': None, 'contributors': None, 'is_quote_status': False, 'retweet_count': 0, 'favorite_count': 0, 'favorited': False, 'retweeted': False, 'lang': 'en'}, created_at=datetime.datetime(2009, 9, 17, 21, 25, 50), id=4063561008, id_str='4063561008', text=\"You gotta be kidding me.. everyone around me is sick, I've joked about getting sick and laughed at flu shots... I'm hurting right now.. Blah\", truncated=False, entities={'hashtags': [], 'symbols': [], 'user_mentions': [], 'urls': []}, source='Twitter Web Client', source_url='http://twitter.com', in_reply_to_status_id=None, in_reply_to_status_id_str=None, in_reply_to_user_id=None, in_reply_to_user_id_str=None, in_reply_to_screen_name=None, author=User(_api=<tweepy.api.API object at 0x7ffe23619e10>, _json={'id': 61627346, 'id_str': '61627346', 'name': 'Nathan Cooper', 'screen_name': 'SynysterNates', 'location': 'Central Washington', 'description': '', 'url': None, 'entities': {'description': {'urls': []}}, 'protected': False, 'followers_count': 40, 'friends_count': 45, 'listed_count': 0, 'created_at': 'Thu Jul 30 23:11:26 +0000 2009', 'favourites_count': 5, 'utc_offset': None, 'time_zone': None, 'geo_enabled': False, 'verified': False, 'statuses_count': 700, 'lang': None, 'contributors_enabled': False, 'is_translator': False, 'is_translation_enabled': False, 'profile_background_color': '352726', 'profile_background_image_url': 'http://abs.twimg.com/images/themes/theme5/bg.gif', 'profile_background_image_url_https': 'https://abs.twimg.com/images/themes/theme5/bg.gif', 'profile_background_tile': False, 'profile_image_url': 'http://pbs.twimg.com/profile_images/378800000225281058/ced9a72768d53ebc242fb3582f265f0d_normal.jpeg', 'profile_image_url_https': 'https://pbs.twimg.com/profile_images/378800000225281058/ced9a72768d53ebc242fb3582f265f0d_normal.jpeg', 'profile_link_color': 'D02B55', 'profile_sidebar_border_color': '829D5E', 'profile_sidebar_fill_color': '99CC33', 'profile_text_color': '3E4415', 'profile_use_background_image': True, 'has_extended_profile': False, 'default_profile': False, 'default_profile_image': False, 'following': False, 'follow_request_sent': False, 'notifications': False, 'translator_type': 'none'}, id=61627346, id_str='61627346', name='Nathan Cooper', screen_name='SynysterNates', location='Central Washington', description='', url=None, entities={'description': {'urls': []}}, protected=False, followers_count=40, friends_count=45, listed_count=0, created_at=datetime.datetime(2009, 7, 30, 23, 11, 26), favourites_count=5, utc_offset=None, time_zone=None, geo_enabled=False, verified=False, statuses_count=700, lang=None, contributors_enabled=False, is_translator=False, is_translation_enabled=False, profile_background_color='352726', profile_background_image_url='http://abs.twimg.com/images/themes/theme5/bg.gif', profile_background_image_url_https='https://abs.twimg.com/images/themes/theme5/bg.gif', profile_background_tile=False, profile_image_url='http://pbs.twimg.com/profile_images/378800000225281058/ced9a72768d53ebc242fb3582f265f0d_normal.jpeg', profile_image_url_https='https://pbs.twimg.com/profile_images/378800000225281058/ced9a72768d53ebc242fb3582f265f0d_normal.jpeg', profile_link_color='D02B55', profile_sidebar_border_color='829D5E', profile_sidebar_fill_color='99CC33', profile_text_color='3E4415', profile_use_background_image=True, has_extended_profile=False, default_profile=False, default_profile_image=False, following=False, follow_request_sent=False, notifications=False, translator_type='none'), user=User(_api=<tweepy.api.API object at 0x7ffe23619e10>, _json={'id': 61627346, 'id_str': '61627346', 'name': 'Nathan Cooper', 'screen_name': 'SynysterNates', 'location': 'Central Washington', 'description': '', 'url': None, 'entities': {'description': {'urls': []}}, 'protected': False, 'followers_count': 40, 'friends_count': 45, 'listed_count': 0, 'created_at': 'Thu Jul 30 23:11:26 +0000 2009', 'favourites_count': 5, 'utc_offset': None, 'time_zone': None, 'geo_enabled': False, 'verified': False, 'statuses_count': 700, 'lang': None, 'contributors_enabled': False, 'is_translator': False, 'is_translation_enabled': False, 'profile_background_color': '352726', 'profile_background_image_url': 'http://abs.twimg.com/images/themes/theme5/bg.gif', 'profile_background_image_url_https': 'https://abs.twimg.com/images/themes/theme5/bg.gif', 'profile_background_tile': False, 'profile_image_url': 'http://pbs.twimg.com/profile_images/378800000225281058/ced9a72768d53ebc242fb3582f265f0d_normal.jpeg', 'profile_image_url_https': 'https://pbs.twimg.com/profile_images/378800000225281058/ced9a72768d53ebc242fb3582f265f0d_normal.jpeg', 'profile_link_color': 'D02B55', 'profile_sidebar_border_color': '829D5E', 'profile_sidebar_fill_color': '99CC33', 'profile_text_color': '3E4415', 'profile_use_background_image': True, 'has_extended_profile': False, 'default_profile': False, 'default_profile_image': False, 'following': False, 'follow_request_sent': False, 'notifications': False, 'translator_type': 'none'}, id=61627346, id_str='61627346', name='Nathan Cooper', screen_name='SynysterNates', location='Central Washington', description='', url=None, entities={'description': {'urls': []}}, protected=False, followers_count=40, friends_count=45, listed_count=0, created_at=datetime.datetime(2009, 7, 30, 23, 11, 26), favourites_count=5, utc_offset=None, time_zone=None, geo_enabled=False, verified=False, statuses_count=700, lang=None, contributors_enabled=False, is_translator=False, is_translation_enabled=False, profile_background_color='352726', profile_background_image_url='http://abs.twimg.com/images/themes/theme5/bg.gif', profile_background_image_url_https='https://abs.twimg.com/images/themes/theme5/bg.gif', profile_background_tile=False, profile_image_url='http://pbs.twimg.com/profile_images/378800000225281058/ced9a72768d53ebc242fb3582f265f0d_normal.jpeg', profile_image_url_https='https://pbs.twimg.com/profile_images/378800000225281058/ced9a72768d53ebc242fb3582f265f0d_normal.jpeg', profile_link_color='D02B55', profile_sidebar_border_color='829D5E', profile_sidebar_fill_color='99CC33', profile_text_color='3E4415', profile_use_background_image=True, has_extended_profile=False, default_profile=False, default_profile_image=False, following=False, follow_request_sent=False, notifications=False, translator_type='none'), geo=None, coordinates=None, place=None, contributors=None, is_quote_status=False, retweet_count=0, favorite_count=0, favorited=False, retweeted=False, lang='en')]]"
      ]
     },
     "execution_count": 5,
     "metadata": {},
     "output_type": "execute_result"
    }
   ],
   "source": [
    "def lookup_tweets(api):\n",
    "    full_tweets = []\n",
    "    try:\n",
    "        full_tweets.append(api.statuses_lookup([4063561008]))\n",
    "        return full_tweets\n",
    "    except tweepy.TweepError:\n",
    "        print('Something went wrong, quitting...')\n",
    "\n",
    "consumer_key = config.Consumer_key\n",
    "consumer_secret = config.Consumer_secret\n",
    "access_token = config.Access_token \n",
    "access_token_secret = config.Access_token_secret\n",
    "\n",
    "auth = tweepy.OAuthHandler(consumer_key, consumer_secret)\n",
    "auth.set_access_token(access_token, access_token_secret)\n",
    "\n",
    "api = tweepy.API(auth, wait_on_rate_limit=True, wait_on_rate_limit_notify=True)\n",
    "\n",
    "# do whatever it is to get por.TweetID - the list of all IDs to look up\n",
    "\n",
    "results = lookup_tweets(api)\n",
    "\n",
    "results"
   ]
  },
  {
   "cell_type": "code",
   "execution_count": null,
   "metadata": {},
   "outputs": [],
   "source": []
  },
  {
   "cell_type": "code",
   "execution_count": null,
   "metadata": {},
   "outputs": [],
   "source": []
  },
  {
   "cell_type": "code",
   "execution_count": null,
   "metadata": {},
   "outputs": [],
   "source": []
  },
  {
   "cell_type": "code",
   "execution_count": null,
   "metadata": {},
   "outputs": [],
   "source": []
  }
 ],
 "metadata": {
  "kernelspec": {
   "display_name": "Python 3",
   "language": "python",
   "name": "python3"
  },
  "language_info": {
   "codemirror_mode": {
    "name": "ipython",
    "version": 3
   },
   "file_extension": ".py",
   "mimetype": "text/x-python",
   "name": "python",
   "nbconvert_exporter": "python",
   "pygments_lexer": "ipython3",
   "version": "3.7.4"
  },
  "toc": {
   "base_numbering": 1,
   "nav_menu": {},
   "number_sections": true,
   "sideBar": true,
   "skip_h1_title": false,
   "title_cell": "Table of Contents",
   "title_sidebar": "Contents",
   "toc_cell": false,
   "toc_position": {},
   "toc_section_display": true,
   "toc_window_display": false
  }
 },
 "nbformat": 4,
 "nbformat_minor": 2
}
