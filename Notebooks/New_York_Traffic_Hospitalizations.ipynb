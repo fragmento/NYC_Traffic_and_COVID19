{
 "cells": [
  {
   "cell_type": "markdown",
   "metadata": {},
   "source": [
    "# Hospitalizations as a function of traffic in NYC\n",
    "\n",
    "\n",
    "In this project, I plan to explore the relationship between social distance and Covid-19 related hospitalizations in New York City during the last 4 months.\n",
    "For this, I will try to quantify the amount of social distancing using tomtom's traffic index. Tomtom's traffic index is the percentage of extra time that it takes to travel any given day based on some baseline(no traffic). \n",
    "\n",
    "I will use this to create a daily traffic social distance (TSD) index that will reflect the change in congestion with respect to a normal traffic day. I will use the first week of February as my baseline traffic congestion. I will divide each day of the daily traffic index by the corresponding day in the base week. To smooth the data I will use a 7-day moving average.\n",
    "\n",
    "This will give me an index where 0 indicates maximum TSD (no traffic), 1 indicates no TSD (same traffic as baseline). TSD greater than 1 indicate more traffic than usual.\n",
    "\n",
    "Hospitalization data comes from [New York's City health webpage](https://www1.nyc.gov/site/doh/covid/covid-19-data.page). The dataset contains daily hospitalization numbers related to Covid_19 in NYC. To smooth the volatility of the hospitalization data I use a 7-day moving average. Then I find the day to day change to approximate the rate of hospital admissions.\n",
    "\n",
    "\n",
    "\n",
    "\n"
   ]
  },
  {
   "cell_type": "markdown",
   "metadata": {},
   "source": [
    "## Importing libraries and files."
   ]
  },
  {
   "cell_type": "code",
   "execution_count": 1,
   "metadata": {},
   "outputs": [],
   "source": [
    "import pandas as pd\n",
    "import numpy as np\n",
    "import seaborn as sns\n",
    "import statsmodels.api as sm\n",
    "import matplotlib.pyplot as plt\n",
    "from statsmodels.sandbox.regression.predstd import wls_prediction_std\n",
    "from datetime import date\n"
   ]
  },
  {
   "cell_type": "code",
   "execution_count": 2,
   "metadata": {},
   "outputs": [],
   "source": [
    "h_df = pd.read_csv('../Data/hospitalizations.csv', index_col='DATE_OF_INTEREST', parse_dates=True)\n",
    "t_df = pd.read_csv('../Data/NewYork_traffic.csv', index_col='Date', parse_dates= True)\n",
    "\n",
    "# MTA data for sumbway and bus usage. \n",
    "#b_df = pd.read_csv('../Data/buses_ridership.csv', index_col='Date', parse_dates=True)\n",
    "#s_df = pd.read_csv('../Data/Subway_ridership.csv', index_col='Date', parse_dates=True )"
   ]
  },
  {
   "cell_type": "markdown",
   "metadata": {},
   "source": [
    "## Hospitalization Data"
   ]
  },
  {
   "cell_type": "code",
   "execution_count": 3,
   "metadata": {},
   "outputs": [
    {
     "data": {
      "text/html": [
       "<div>\n",
       "<style scoped>\n",
       "    .dataframe tbody tr th:only-of-type {\n",
       "        vertical-align: middle;\n",
       "    }\n",
       "\n",
       "    .dataframe tbody tr th {\n",
       "        vertical-align: top;\n",
       "    }\n",
       "\n",
       "    .dataframe thead th {\n",
       "        text-align: right;\n",
       "    }\n",
       "</style>\n",
       "<table border=\"1\" class=\"dataframe\">\n",
       "  <thead>\n",
       "    <tr style=\"text-align: right;\">\n",
       "      <th></th>\n",
       "      <th>Cases</th>\n",
       "      <th>Hospitalizations</th>\n",
       "      <th>Deaths</th>\n",
       "    </tr>\n",
       "    <tr>\n",
       "      <th>DATE_OF_INTEREST</th>\n",
       "      <th></th>\n",
       "      <th></th>\n",
       "      <th></th>\n",
       "    </tr>\n",
       "  </thead>\n",
       "  <tbody>\n",
       "    <tr>\n",
       "      <td>2020-02-29</td>\n",
       "      <td>1</td>\n",
       "      <td>11</td>\n",
       "      <td>0</td>\n",
       "    </tr>\n",
       "    <tr>\n",
       "      <td>2020-03-01</td>\n",
       "      <td>1</td>\n",
       "      <td>4</td>\n",
       "      <td>0</td>\n",
       "    </tr>\n",
       "    <tr>\n",
       "      <td>2020-03-02</td>\n",
       "      <td>0</td>\n",
       "      <td>22</td>\n",
       "      <td>0</td>\n",
       "    </tr>\n",
       "  </tbody>\n",
       "</table>\n",
       "</div>"
      ],
      "text/plain": [
       "                  Cases  Hospitalizations  Deaths\n",
       "DATE_OF_INTEREST                                 \n",
       "2020-02-29            1                11       0\n",
       "2020-03-01            1                 4       0\n",
       "2020-03-02            0                22       0"
      ]
     },
     "execution_count": 3,
     "metadata": {},
     "output_type": "execute_result"
    }
   ],
   "source": [
    "h_df.head(3)"
   ]
  },
  {
   "cell_type": "markdown",
   "metadata": {},
   "source": [
    "### Feature Engineering  "
   ]
  },
  {
   "cell_type": "code",
   "execution_count": 4,
   "metadata": {},
   "outputs": [],
   "source": [
    "# trying a log transformatin of hospitalizations\n",
    "h_df['log_hosp'] = np.log(h_df['Hospitalizations'])"
   ]
  },
  {
   "cell_type": "code",
   "execution_count": 5,
   "metadata": {},
   "outputs": [
    {
     "data": {
      "text/html": [
       "<div>\n",
       "<style scoped>\n",
       "    .dataframe tbody tr th:only-of-type {\n",
       "        vertical-align: middle;\n",
       "    }\n",
       "\n",
       "    .dataframe tbody tr th {\n",
       "        vertical-align: top;\n",
       "    }\n",
       "\n",
       "    .dataframe thead th {\n",
       "        text-align: right;\n",
       "    }\n",
       "</style>\n",
       "<table border=\"1\" class=\"dataframe\">\n",
       "  <thead>\n",
       "    <tr style=\"text-align: right;\">\n",
       "      <th></th>\n",
       "      <th>Cases</th>\n",
       "      <th>Hospitalizations</th>\n",
       "      <th>Deaths</th>\n",
       "      <th>log_hosp</th>\n",
       "    </tr>\n",
       "    <tr>\n",
       "      <th>DATE_OF_INTEREST</th>\n",
       "      <th></th>\n",
       "      <th></th>\n",
       "      <th></th>\n",
       "      <th></th>\n",
       "    </tr>\n",
       "  </thead>\n",
       "  <tbody>\n",
       "    <tr>\n",
       "      <td>2020-06-24</td>\n",
       "      <td>186</td>\n",
       "      <td>30</td>\n",
       "      <td>15</td>\n",
       "      <td>3.401197</td>\n",
       "    </tr>\n",
       "    <tr>\n",
       "      <td>2020-06-25</td>\n",
       "      <td>143</td>\n",
       "      <td>27</td>\n",
       "      <td>7</td>\n",
       "      <td>3.295837</td>\n",
       "    </tr>\n",
       "  </tbody>\n",
       "</table>\n",
       "</div>"
      ],
      "text/plain": [
       "                  Cases  Hospitalizations  Deaths  log_hosp\n",
       "DATE_OF_INTEREST                                           \n",
       "2020-06-24          186                30      15  3.401197\n",
       "2020-06-25          143                27       7  3.295837"
      ]
     },
     "execution_count": 5,
     "metadata": {},
     "output_type": "execute_result"
    }
   ],
   "source": [
    "h_df.tail(2)"
   ]
  },
  {
   "cell_type": "code",
   "execution_count": 6,
   "metadata": {},
   "outputs": [
    {
     "data": {
      "image/png": "[encoded data removed]",
      "text/plain": [
       "<Figure size 864x360 with 1 Axes>"
      ]
     },
     "metadata": {
      "needs_background": "light"
     },
     "output_type": "display_data"
    }
   ],
   "source": [
    "ax = h_df[['log_hosp']].plot(figsize=(12,5), color='C3');\n",
    "# Dashed line shows March 20th the date New York when officialy into PAUSE.\n",
    "ax.axvline(x=date(2020, 3, 20), color='C7', alpha=0.7,linestyle='dashed');"
   ]
  },
  {
   "cell_type": "markdown",
   "metadata": {},
   "source": [
    "### Trying a rolling growth rate"
   ]
  },
  {
   "cell_type": "code",
   "execution_count": 7,
   "metadata": {},
   "outputs": [],
   "source": [
    "\n",
    "h_df['hosp_rolling'] = h_df['Hospitalizations'].rolling(window=3).mean()\n",
    "h_df['hosp_rolling_7'] = h_df['Hospitalizations'].rolling(window=7).mean()\n",
    "\n",
    "h_df['log_hosp_rolling'] = h_df['log_hosp'].rolling(window=3).mean()\n",
    "h_df['log_hosp_rolling_7'] = h_df['log_hosp'].rolling(window=7).mean()\n",
    "#rates\n",
    "h_df['hosp_rate'] = h_df['log_hosp_rolling']/h_df['log_hosp_rolling_7'] \n",
    "h_df['log_hosp_rate'] = np.log(h_df['hosp_rolling'])/np.log(h_df['hosp_rolling_7'])"
   ]
  },
  {
   "cell_type": "code",
   "execution_count": 8,
   "metadata": {},
   "outputs": [
    {
     "data": {
      "image/png": "[encoded data removed]",
      "text/plain": [
       "<Figure size 864x360 with 1 Axes>"
      ]
     },
     "metadata": {
      "needs_background": "light"
     },
     "output_type": "display_data"
    }
   ],
   "source": [
    "h_df[['log_hosp_rate']][11:].plot(figsize=(12,5), color='C3');"
   ]
  },
  {
   "cell_type": "markdown",
   "metadata": {},
   "source": [
    "### hosp_change\n",
    "I create a hospitalization index by finding the daily percentage of change in the 7-day rolling hospitalization numbers."
   ]
  },
  {
   "cell_type": "code",
   "execution_count": 9,
   "metadata": {},
   "outputs": [
    {
     "data": {
      "image/png": "[encoded data removed]",
      "text/plain": [
       "<Figure size 864x360 with 1 Axes>"
      ]
     },
     "metadata": {
      "needs_background": "light"
     },
     "output_type": "display_data"
    }
   ],
   "source": [
    "# Percentage change between the current and a prior element.\n",
    "h_df['hosp_change'] =h_df[['hosp_rolling_7']].pct_change()\n",
    "\n",
    "#plot font\n",
    "font = {'family': 'arial','weight': 'normal','size': 13,}\n",
    "\n",
    "# plot of the change in daily change in hospitalizatios\n",
    "ax = h_df['hosp_change'][6:].plot(figsize=(12,5), color='C3');\n",
    "plt.xlabel('Date', fontdict=font)\n",
    "plt.ylabel('Hospitalizations Rate',fontdict=font)\n",
    "plt.title('Hospitalization Rate',fontdict=font)\n",
    "ax.axvline(x=date(2020, 3, 21), color='C7', alpha=0.7,linestyle='dashed');"
   ]
  },
  {
   "cell_type": "code",
   "execution_count": 10,
   "metadata": {
    "scrolled": true
   },
   "outputs": [
    {
     "data": {
      "text/html": [
       "<div>\n",
       "<style scoped>\n",
       "    .dataframe tbody tr th:only-of-type {\n",
       "        vertical-align: middle;\n",
       "    }\n",
       "\n",
       "    .dataframe tbody tr th {\n",
       "        vertical-align: top;\n",
       "    }\n",
       "\n",
       "    .dataframe thead th {\n",
       "        text-align: right;\n",
       "    }\n",
       "</style>\n",
       "<table border=\"1\" class=\"dataframe\">\n",
       "  <thead>\n",
       "    <tr style=\"text-align: right;\">\n",
       "      <th></th>\n",
       "      <th>Cases</th>\n",
       "      <th>Hospitalizations</th>\n",
       "      <th>Deaths</th>\n",
       "      <th>log_hosp</th>\n",
       "      <th>hosp_rolling</th>\n",
       "      <th>hosp_rolling_7</th>\n",
       "      <th>log_hosp_rolling</th>\n",
       "      <th>log_hosp_rolling_7</th>\n",
       "      <th>hosp_rate</th>\n",
       "      <th>log_hosp_rate</th>\n",
       "      <th>hosp_change</th>\n",
       "    </tr>\n",
       "    <tr>\n",
       "      <th>DATE_OF_INTEREST</th>\n",
       "      <th></th>\n",
       "      <th></th>\n",
       "      <th></th>\n",
       "      <th></th>\n",
       "      <th></th>\n",
       "      <th></th>\n",
       "      <th></th>\n",
       "      <th></th>\n",
       "      <th></th>\n",
       "      <th></th>\n",
       "      <th></th>\n",
       "    </tr>\n",
       "  </thead>\n",
       "  <tbody>\n",
       "    <tr>\n",
       "      <td>2020-02-29</td>\n",
       "      <td>1</td>\n",
       "      <td>11</td>\n",
       "      <td>0</td>\n",
       "      <td>2.397895</td>\n",
       "      <td>NaN</td>\n",
       "      <td>NaN</td>\n",
       "      <td>NaN</td>\n",
       "      <td>NaN</td>\n",
       "      <td>NaN</td>\n",
       "      <td>NaN</td>\n",
       "      <td>NaN</td>\n",
       "    </tr>\n",
       "    <tr>\n",
       "      <td>2020-03-01</td>\n",
       "      <td>1</td>\n",
       "      <td>4</td>\n",
       "      <td>0</td>\n",
       "      <td>1.386294</td>\n",
       "      <td>NaN</td>\n",
       "      <td>NaN</td>\n",
       "      <td>NaN</td>\n",
       "      <td>NaN</td>\n",
       "      <td>NaN</td>\n",
       "      <td>NaN</td>\n",
       "      <td>NaN</td>\n",
       "    </tr>\n",
       "    <tr>\n",
       "      <td>2020-03-02</td>\n",
       "      <td>0</td>\n",
       "      <td>22</td>\n",
       "      <td>0</td>\n",
       "      <td>3.091042</td>\n",
       "      <td>12.333333</td>\n",
       "      <td>NaN</td>\n",
       "      <td>2.291744</td>\n",
       "      <td>NaN</td>\n",
       "      <td>NaN</td>\n",
       "      <td>NaN</td>\n",
       "      <td>NaN</td>\n",
       "    </tr>\n",
       "    <tr>\n",
       "      <td>2020-03-03</td>\n",
       "      <td>2</td>\n",
       "      <td>20</td>\n",
       "      <td>0</td>\n",
       "      <td>2.995732</td>\n",
       "      <td>15.333333</td>\n",
       "      <td>NaN</td>\n",
       "      <td>2.491023</td>\n",
       "      <td>NaN</td>\n",
       "      <td>NaN</td>\n",
       "      <td>NaN</td>\n",
       "      <td>NaN</td>\n",
       "    </tr>\n",
       "    <tr>\n",
       "      <td>2020-03-04</td>\n",
       "      <td>5</td>\n",
       "      <td>22</td>\n",
       "      <td>0</td>\n",
       "      <td>3.091042</td>\n",
       "      <td>21.333333</td>\n",
       "      <td>NaN</td>\n",
       "      <td>3.059272</td>\n",
       "      <td>NaN</td>\n",
       "      <td>NaN</td>\n",
       "      <td>NaN</td>\n",
       "      <td>NaN</td>\n",
       "    </tr>\n",
       "    <tr>\n",
       "      <td>2020-03-05</td>\n",
       "      <td>3</td>\n",
       "      <td>20</td>\n",
       "      <td>0</td>\n",
       "      <td>2.995732</td>\n",
       "      <td>20.666667</td>\n",
       "      <td>NaN</td>\n",
       "      <td>3.027502</td>\n",
       "      <td>NaN</td>\n",
       "      <td>NaN</td>\n",
       "      <td>NaN</td>\n",
       "      <td>NaN</td>\n",
       "    </tr>\n",
       "    <tr>\n",
       "      <td>2020-03-06</td>\n",
       "      <td>8</td>\n",
       "      <td>18</td>\n",
       "      <td>0</td>\n",
       "      <td>2.890372</td>\n",
       "      <td>20.000000</td>\n",
       "      <td>16.714286</td>\n",
       "      <td>2.992382</td>\n",
       "      <td>2.692587</td>\n",
       "      <td>1.111341</td>\n",
       "      <td>1.063726</td>\n",
       "      <td>NaN</td>\n",
       "    </tr>\n",
       "    <tr>\n",
       "      <td>2020-03-07</td>\n",
       "      <td>7</td>\n",
       "      <td>15</td>\n",
       "      <td>0</td>\n",
       "      <td>2.708050</td>\n",
       "      <td>17.666667</td>\n",
       "      <td>17.285714</td>\n",
       "      <td>2.864718</td>\n",
       "      <td>2.736895</td>\n",
       "      <td>1.046704</td>\n",
       "      <td>1.007649</td>\n",
       "      <td>0.034188</td>\n",
       "    </tr>\n",
       "    <tr>\n",
       "      <td>2020-03-08</td>\n",
       "      <td>21</td>\n",
       "      <td>18</td>\n",
       "      <td>0</td>\n",
       "      <td>2.890372</td>\n",
       "      <td>17.000000</td>\n",
       "      <td>19.285714</td>\n",
       "      <td>2.829598</td>\n",
       "      <td>2.951763</td>\n",
       "      <td>0.958613</td>\n",
       "      <td>0.957372</td>\n",
       "      <td>0.115702</td>\n",
       "    </tr>\n",
       "    <tr>\n",
       "      <td>2020-03-09</td>\n",
       "      <td>58</td>\n",
       "      <td>49</td>\n",
       "      <td>0</td>\n",
       "      <td>3.891820</td>\n",
       "      <td>27.333333</td>\n",
       "      <td>23.142857</td>\n",
       "      <td>3.163414</td>\n",
       "      <td>3.066160</td>\n",
       "      <td>1.031718</td>\n",
       "      <td>1.052972</td>\n",
       "      <td>0.200000</td>\n",
       "    </tr>\n",
       "  </tbody>\n",
       "</table>\n",
       "</div>"
      ],
      "text/plain": [
       "                  Cases  Hospitalizations  Deaths  log_hosp  hosp_rolling  \\\n",
       "DATE_OF_INTEREST                                                            \n",
       "2020-02-29            1                11       0  2.397895           NaN   \n",
       "2020-03-01            1                 4       0  1.386294           NaN   \n",
       "2020-03-02            0                22       0  3.091042     12.333333   \n",
       "2020-03-03            2                20       0  2.995732     15.333333   \n",
       "2020-03-04            5                22       0  3.091042     21.333333   \n",
       "2020-03-05            3                20       0  2.995732     20.666667   \n",
       "2020-03-06            8                18       0  2.890372     20.000000   \n",
       "2020-03-07            7                15       0  2.708050     17.666667   \n",
       "2020-03-08           21                18       0  2.890372     17.000000   \n",
       "2020-03-09           58                49       0  3.891820     27.333333   \n",
       "\n",
       "                  hosp_rolling_7  log_hosp_rolling  log_hosp_rolling_7  \\\n",
       "DATE_OF_INTEREST                                                         \n",
       "2020-02-29                   NaN               NaN                 NaN   \n",
       "2020-03-01                   NaN               NaN                 NaN   \n",
       "2020-03-02                   NaN          2.291744                 NaN   \n",
       "2020-03-03                   NaN          2.491023                 NaN   \n",
       "2020-03-04                   NaN          3.059272                 NaN   \n",
       "2020-03-05                   NaN          3.027502                 NaN   \n",
       "2020-03-06             16.714286          2.992382            2.692587   \n",
       "2020-03-07             17.285714          2.864718            2.736895   \n",
       "2020-03-08             19.285714          2.829598            2.951763   \n",
       "2020-03-09             23.142857          3.163414            3.066160   \n",
       "\n",
       "                  hosp_rate  log_hosp_rate  hosp_change  \n",
       "DATE_OF_INTEREST                                         \n",
       "2020-02-29              NaN            NaN          NaN  \n",
       "2020-03-01              NaN            NaN          NaN  \n",
       "2020-03-02              NaN            NaN          NaN  \n",
       "2020-03-03              NaN            NaN          NaN  \n",
       "2020-03-04              NaN            NaN          NaN  \n",
       "2020-03-05              NaN            NaN          NaN  \n",
       "2020-03-06         1.111341       1.063726          NaN  \n",
       "2020-03-07         1.046704       1.007649     0.034188  \n",
       "2020-03-08         0.958613       0.957372     0.115702  \n",
       "2020-03-09         1.031718       1.052972     0.200000  "
      ]
     },
     "execution_count": 10,
     "metadata": {},
     "output_type": "execute_result"
    }
   ],
   "source": [
    "h_df.head(10)"
   ]
  },
  {
   "cell_type": "markdown",
   "metadata": {},
   "source": [
    "## Social distance - Traffic index"
   ]
  },
  {
   "cell_type": "code",
   "execution_count": 11,
   "metadata": {},
   "outputs": [
    {
     "data": {
      "text/html": [
       "<div>\n",
       "<style scoped>\n",
       "    .dataframe tbody tr th:only-of-type {\n",
       "        vertical-align: middle;\n",
       "    }\n",
       "\n",
       "    .dataframe tbody tr th {\n",
       "        vertical-align: top;\n",
       "    }\n",
       "\n",
       "    .dataframe thead th {\n",
       "        text-align: right;\n",
       "    }\n",
       "</style>\n",
       "<table border=\"1\" class=\"dataframe\">\n",
       "  <thead>\n",
       "    <tr style=\"text-align: right;\">\n",
       "      <th></th>\n",
       "      <th>trafic_index</th>\n",
       "      <th>first week of February</th>\n",
       "    </tr>\n",
       "    <tr>\n",
       "      <th>Date</th>\n",
       "      <th></th>\n",
       "      <th></th>\n",
       "    </tr>\n",
       "  </thead>\n",
       "  <tbody>\n",
       "    <tr>\n",
       "      <td>2020-06-23</td>\n",
       "      <td>16</td>\n",
       "      <td>28</td>\n",
       "    </tr>\n",
       "    <tr>\n",
       "      <td>2020-06-24</td>\n",
       "      <td>16</td>\n",
       "      <td>28</td>\n",
       "    </tr>\n",
       "    <tr>\n",
       "      <td>2020-06-25</td>\n",
       "      <td>17</td>\n",
       "      <td>37</td>\n",
       "    </tr>\n",
       "    <tr>\n",
       "      <td>2020-06-26</td>\n",
       "      <td>19</td>\n",
       "      <td>34</td>\n",
       "    </tr>\n",
       "    <tr>\n",
       "      <td>2020-06-27</td>\n",
       "      <td>10</td>\n",
       "      <td>18</td>\n",
       "    </tr>\n",
       "  </tbody>\n",
       "</table>\n",
       "</div>"
      ],
      "text/plain": [
       "            trafic_index  first week of February\n",
       "Date                                            \n",
       "2020-06-23            16                      28\n",
       "2020-06-24            16                      28\n",
       "2020-06-25            17                      37\n",
       "2020-06-26            19                      34\n",
       "2020-06-27            10                      18"
      ]
     },
     "execution_count": 11,
     "metadata": {},
     "output_type": "execute_result"
    }
   ],
   "source": [
    "t_df.tail()"
   ]
  },
  {
   "cell_type": "markdown",
   "metadata": {},
   "source": [
    "### Feature Engineering "
   ]
  },
  {
   "cell_type": "markdown",
   "metadata": {},
   "source": [
    "I use the first week of February as my baseline traffic congestion. I divide each day of the daily traffic index by the corresponding day in the base week."
   ]
  },
  {
   "cell_type": "code",
   "execution_count": 12,
   "metadata": {},
   "outputs": [],
   "source": [
    "t_df['TSD'] = t_df['trafic_index']/t_df['first week of February']"
   ]
  },
  {
   "cell_type": "code",
   "execution_count": 13,
   "metadata": {
    "scrolled": true
   },
   "outputs": [
    {
     "data": {
      "image/png": "[encoded data removed]",
      "text/plain": [
       "<Figure size 864x360 with 1 Axes>"
      ]
     },
     "metadata": {
      "needs_background": "light"
     },
     "output_type": "display_data"
    }
   ],
   "source": [
    "ax = t_df['TSD'].plot(figsize=(12,5), color='C3');\n",
    "plt.xlabel('Date',fontdict=font)\n",
    "plt.ylabel('TSD',fontdict=font)\n",
    "plt.title('Traffic Social Distance Index',fontdict=font)\n",
    "plt.text(date(2020, 3, 21), 1.2, 'March 20: NYC goes into PAUSE', color= 'C7', fontsize =13)\n",
    "ax.axvline(x=date(2020, 3, 13), color='brown', alpha=0.7,linestyle='dashed')\n",
    "ax.axvline(x=date(2020, 3, 20), color='C7', alpha=0.7,linestyle='dashed');"
   ]
  },
  {
   "cell_type": "markdown",
   "metadata": {},
   "source": [
    "To smooth the data I use a 7-day moving average."
   ]
  },
  {
   "cell_type": "code",
   "execution_count": 14,
   "metadata": {},
   "outputs": [],
   "source": [
    "t_df['TSD_rolling'] = t_df['TSD'].rolling(window=7).mean()"
   ]
  },
  {
   "cell_type": "code",
   "execution_count": 16,
   "metadata": {},
   "outputs": [
    {
     "data": {
      "text/plain": [
       "Text(2020-05-26, 0.8, 'Memorial Day')"
      ]
     },
     "execution_count": 16,
     "metadata": {},
     "output_type": "execute_result"
    },
    {
     "data": {
      "image/png": "[encoded data removed]",
      "text/plain": [
       "<Figure size 864x360 with 1 Axes>"
      ]
     },
     "metadata": {
      "needs_background": "light"
     },
     "output_type": "display_data"
    }
   ],
   "source": [
    "ax = t_df['TSD_rolling'].plot(figsize=(12,5), color='C3');\n",
    "plt.xlabel('Date',fontdict=font)\n",
    "plt.ylabel('TSD',fontdict=font)\n",
    "plt.title('Traffic Social Distance Index',fontdict=font)\n",
    "ax.axvline(x=date(2020, 3, 21), color='C7', alpha=0.7, linestyle='dashed');\n",
    "plt.text(date(2020, 3, 22), 1, 'March 20: NYC goes into PAUSE', color= 'C7', fontsize =13)\n",
    "ax.axvline(x=date(2020, 5, 25), color='C7', alpha=0.7, linestyle='dashed');\n",
    "plt.text(date(2020, 5, 26), .8, 'Memorial Day', color= 'C7', fontsize =13)\n",
    "#ax.axvline(x=date(2020, 3, 13), color='brown', alpha=0.7,linestyle='dashed');"
   ]
  },
  {
   "cell_type": "code",
   "execution_count": 17,
   "metadata": {},
   "outputs": [],
   "source": [
    "def diff_series(df, col, lag):\n",
    "    \"\"\"Function that lags the value of a colun given the dataframe the name of the \n",
    "    column by a number of lags\"\"\"\n",
    "    for i in range(0,lag,1):\n",
    "        new_col = col+f'_lag_{i+1}'\n",
    "        df[new_col] = df[col].shift(i+1)\n",
    "    "
   ]
  },
  {
   "cell_type": "code",
   "execution_count": 18,
   "metadata": {},
   "outputs": [],
   "source": [
    "diff_series(t_df, 'TSD_rolling', 30)"
   ]
  },
  {
   "cell_type": "code",
   "execution_count": 19,
   "metadata": {},
   "outputs": [
    {
     "data": {
      "text/html": [
       "<div>\n",
       "<style scoped>\n",
       "    .dataframe tbody tr th:only-of-type {\n",
       "        vertical-align: middle;\n",
       "    }\n",
       "\n",
       "    .dataframe tbody tr th {\n",
       "        vertical-align: top;\n",
       "    }\n",
       "\n",
       "    .dataframe thead th {\n",
       "        text-align: right;\n",
       "    }\n",
       "</style>\n",
       "<table border=\"1\" class=\"dataframe\">\n",
       "  <thead>\n",
       "    <tr style=\"text-align: right;\">\n",
       "      <th></th>\n",
       "      <th>trafic_index</th>\n",
       "      <th>first week of February</th>\n",
       "      <th>TSD</th>\n",
       "      <th>TSD_rolling</th>\n",
       "      <th>TSD_rolling_lag_1</th>\n",
       "      <th>TSD_rolling_lag_2</th>\n",
       "      <th>TSD_rolling_lag_3</th>\n",
       "      <th>TSD_rolling_lag_4</th>\n",
       "      <th>TSD_rolling_lag_5</th>\n",
       "      <th>TSD_rolling_lag_6</th>\n",
       "      <th>...</th>\n",
       "      <th>TSD_rolling_lag_21</th>\n",
       "      <th>TSD_rolling_lag_22</th>\n",
       "      <th>TSD_rolling_lag_23</th>\n",
       "      <th>TSD_rolling_lag_24</th>\n",
       "      <th>TSD_rolling_lag_25</th>\n",
       "      <th>TSD_rolling_lag_26</th>\n",
       "      <th>TSD_rolling_lag_27</th>\n",
       "      <th>TSD_rolling_lag_28</th>\n",
       "      <th>TSD_rolling_lag_29</th>\n",
       "      <th>TSD_rolling_lag_30</th>\n",
       "    </tr>\n",
       "    <tr>\n",
       "      <th>Date</th>\n",
       "      <th></th>\n",
       "      <th></th>\n",
       "      <th></th>\n",
       "      <th></th>\n",
       "      <th></th>\n",
       "      <th></th>\n",
       "      <th></th>\n",
       "      <th></th>\n",
       "      <th></th>\n",
       "      <th></th>\n",
       "      <th></th>\n",
       "      <th></th>\n",
       "      <th></th>\n",
       "      <th></th>\n",
       "      <th></th>\n",
       "      <th></th>\n",
       "      <th></th>\n",
       "      <th></th>\n",
       "      <th></th>\n",
       "      <th></th>\n",
       "      <th></th>\n",
       "    </tr>\n",
       "  </thead>\n",
       "  <tbody>\n",
       "    <tr>\n",
       "      <td>2020-02-29</td>\n",
       "      <td>19</td>\n",
       "      <td>18</td>\n",
       "      <td>1.055556</td>\n",
       "      <td>NaN</td>\n",
       "      <td>NaN</td>\n",
       "      <td>NaN</td>\n",
       "      <td>NaN</td>\n",
       "      <td>NaN</td>\n",
       "      <td>NaN</td>\n",
       "      <td>NaN</td>\n",
       "      <td>...</td>\n",
       "      <td>NaN</td>\n",
       "      <td>NaN</td>\n",
       "      <td>NaN</td>\n",
       "      <td>NaN</td>\n",
       "      <td>NaN</td>\n",
       "      <td>NaN</td>\n",
       "      <td>NaN</td>\n",
       "      <td>NaN</td>\n",
       "      <td>NaN</td>\n",
       "      <td>NaN</td>\n",
       "    </tr>\n",
       "    <tr>\n",
       "      <td>2020-03-01</td>\n",
       "      <td>15</td>\n",
       "      <td>13</td>\n",
       "      <td>1.153846</td>\n",
       "      <td>NaN</td>\n",
       "      <td>NaN</td>\n",
       "      <td>NaN</td>\n",
       "      <td>NaN</td>\n",
       "      <td>NaN</td>\n",
       "      <td>NaN</td>\n",
       "      <td>NaN</td>\n",
       "      <td>...</td>\n",
       "      <td>NaN</td>\n",
       "      <td>NaN</td>\n",
       "      <td>NaN</td>\n",
       "      <td>NaN</td>\n",
       "      <td>NaN</td>\n",
       "      <td>NaN</td>\n",
       "      <td>NaN</td>\n",
       "      <td>NaN</td>\n",
       "      <td>NaN</td>\n",
       "      <td>NaN</td>\n",
       "    </tr>\n",
       "    <tr>\n",
       "      <td>2020-03-02</td>\n",
       "      <td>30</td>\n",
       "      <td>28</td>\n",
       "      <td>1.071429</td>\n",
       "      <td>NaN</td>\n",
       "      <td>NaN</td>\n",
       "      <td>NaN</td>\n",
       "      <td>NaN</td>\n",
       "      <td>NaN</td>\n",
       "      <td>NaN</td>\n",
       "      <td>NaN</td>\n",
       "      <td>...</td>\n",
       "      <td>NaN</td>\n",
       "      <td>NaN</td>\n",
       "      <td>NaN</td>\n",
       "      <td>NaN</td>\n",
       "      <td>NaN</td>\n",
       "      <td>NaN</td>\n",
       "      <td>NaN</td>\n",
       "      <td>NaN</td>\n",
       "      <td>NaN</td>\n",
       "      <td>NaN</td>\n",
       "    </tr>\n",
       "    <tr>\n",
       "      <td>2020-03-03</td>\n",
       "      <td>36</td>\n",
       "      <td>28</td>\n",
       "      <td>1.285714</td>\n",
       "      <td>NaN</td>\n",
       "      <td>NaN</td>\n",
       "      <td>NaN</td>\n",
       "      <td>NaN</td>\n",
       "      <td>NaN</td>\n",
       "      <td>NaN</td>\n",
       "      <td>NaN</td>\n",
       "      <td>...</td>\n",
       "      <td>NaN</td>\n",
       "      <td>NaN</td>\n",
       "      <td>NaN</td>\n",
       "      <td>NaN</td>\n",
       "      <td>NaN</td>\n",
       "      <td>NaN</td>\n",
       "      <td>NaN</td>\n",
       "      <td>NaN</td>\n",
       "      <td>NaN</td>\n",
       "      <td>NaN</td>\n",
       "    </tr>\n",
       "    <tr>\n",
       "      <td>2020-03-04</td>\n",
       "      <td>32</td>\n",
       "      <td>28</td>\n",
       "      <td>1.142857</td>\n",
       "      <td>NaN</td>\n",
       "      <td>NaN</td>\n",
       "      <td>NaN</td>\n",
       "      <td>NaN</td>\n",
       "      <td>NaN</td>\n",
       "      <td>NaN</td>\n",
       "      <td>NaN</td>\n",
       "      <td>...</td>\n",
       "      <td>NaN</td>\n",
       "      <td>NaN</td>\n",
       "      <td>NaN</td>\n",
       "      <td>NaN</td>\n",
       "      <td>NaN</td>\n",
       "      <td>NaN</td>\n",
       "      <td>NaN</td>\n",
       "      <td>NaN</td>\n",
       "      <td>NaN</td>\n",
       "      <td>NaN</td>\n",
       "    </tr>\n",
       "    <tr>\n",
       "      <td>2020-03-05</td>\n",
       "      <td>34</td>\n",
       "      <td>37</td>\n",
       "      <td>0.918919</td>\n",
       "      <td>NaN</td>\n",
       "      <td>NaN</td>\n",
       "      <td>NaN</td>\n",
       "      <td>NaN</td>\n",
       "      <td>NaN</td>\n",
       "      <td>NaN</td>\n",
       "      <td>NaN</td>\n",
       "      <td>...</td>\n",
       "      <td>NaN</td>\n",
       "      <td>NaN</td>\n",
       "      <td>NaN</td>\n",
       "      <td>NaN</td>\n",
       "      <td>NaN</td>\n",
       "      <td>NaN</td>\n",
       "      <td>NaN</td>\n",
       "      <td>NaN</td>\n",
       "      <td>NaN</td>\n",
       "      <td>NaN</td>\n",
       "    </tr>\n",
       "    <tr>\n",
       "      <td>2020-03-06</td>\n",
       "      <td>40</td>\n",
       "      <td>34</td>\n",
       "      <td>1.176471</td>\n",
       "      <td>1.114970</td>\n",
       "      <td>NaN</td>\n",
       "      <td>NaN</td>\n",
       "      <td>NaN</td>\n",
       "      <td>NaN</td>\n",
       "      <td>NaN</td>\n",
       "      <td>NaN</td>\n",
       "      <td>...</td>\n",
       "      <td>NaN</td>\n",
       "      <td>NaN</td>\n",
       "      <td>NaN</td>\n",
       "      <td>NaN</td>\n",
       "      <td>NaN</td>\n",
       "      <td>NaN</td>\n",
       "      <td>NaN</td>\n",
       "      <td>NaN</td>\n",
       "      <td>NaN</td>\n",
       "      <td>NaN</td>\n",
       "    </tr>\n",
       "    <tr>\n",
       "      <td>2020-03-07</td>\n",
       "      <td>19</td>\n",
       "      <td>18</td>\n",
       "      <td>1.055556</td>\n",
       "      <td>1.114970</td>\n",
       "      <td>1.114970</td>\n",
       "      <td>NaN</td>\n",
       "      <td>NaN</td>\n",
       "      <td>NaN</td>\n",
       "      <td>NaN</td>\n",
       "      <td>NaN</td>\n",
       "      <td>...</td>\n",
       "      <td>NaN</td>\n",
       "      <td>NaN</td>\n",
       "      <td>NaN</td>\n",
       "      <td>NaN</td>\n",
       "      <td>NaN</td>\n",
       "      <td>NaN</td>\n",
       "      <td>NaN</td>\n",
       "      <td>NaN</td>\n",
       "      <td>NaN</td>\n",
       "      <td>NaN</td>\n",
       "    </tr>\n",
       "    <tr>\n",
       "      <td>2020-03-08</td>\n",
       "      <td>13</td>\n",
       "      <td>13</td>\n",
       "      <td>1.000000</td>\n",
       "      <td>1.092992</td>\n",
       "      <td>1.114970</td>\n",
       "      <td>1.114970</td>\n",
       "      <td>NaN</td>\n",
       "      <td>NaN</td>\n",
       "      <td>NaN</td>\n",
       "      <td>NaN</td>\n",
       "      <td>...</td>\n",
       "      <td>NaN</td>\n",
       "      <td>NaN</td>\n",
       "      <td>NaN</td>\n",
       "      <td>NaN</td>\n",
       "      <td>NaN</td>\n",
       "      <td>NaN</td>\n",
       "      <td>NaN</td>\n",
       "      <td>NaN</td>\n",
       "      <td>NaN</td>\n",
       "      <td>NaN</td>\n",
       "    </tr>\n",
       "    <tr>\n",
       "      <td>2020-03-09</td>\n",
       "      <td>29</td>\n",
       "      <td>28</td>\n",
       "      <td>1.035714</td>\n",
       "      <td>1.087890</td>\n",
       "      <td>1.092992</td>\n",
       "      <td>1.114970</td>\n",
       "      <td>1.114970</td>\n",
       "      <td>NaN</td>\n",
       "      <td>NaN</td>\n",
       "      <td>NaN</td>\n",
       "      <td>...</td>\n",
       "      <td>NaN</td>\n",
       "      <td>NaN</td>\n",
       "      <td>NaN</td>\n",
       "      <td>NaN</td>\n",
       "      <td>NaN</td>\n",
       "      <td>NaN</td>\n",
       "      <td>NaN</td>\n",
       "      <td>NaN</td>\n",
       "      <td>NaN</td>\n",
       "      <td>NaN</td>\n",
       "    </tr>\n",
       "    <tr>\n",
       "      <td>2020-03-10</td>\n",
       "      <td>27</td>\n",
       "      <td>28</td>\n",
       "      <td>0.964286</td>\n",
       "      <td>1.041972</td>\n",
       "      <td>1.087890</td>\n",
       "      <td>1.092992</td>\n",
       "      <td>1.114970</td>\n",
       "      <td>1.114970</td>\n",
       "      <td>NaN</td>\n",
       "      <td>NaN</td>\n",
       "      <td>...</td>\n",
       "      <td>NaN</td>\n",
       "      <td>NaN</td>\n",
       "      <td>NaN</td>\n",
       "      <td>NaN</td>\n",
       "      <td>NaN</td>\n",
       "      <td>NaN</td>\n",
       "      <td>NaN</td>\n",
       "      <td>NaN</td>\n",
       "      <td>NaN</td>\n",
       "      <td>NaN</td>\n",
       "    </tr>\n",
       "    <tr>\n",
       "      <td>2020-03-11</td>\n",
       "      <td>26</td>\n",
       "      <td>28</td>\n",
       "      <td>0.928571</td>\n",
       "      <td>1.011359</td>\n",
       "      <td>1.041972</td>\n",
       "      <td>1.087890</td>\n",
       "      <td>1.092992</td>\n",
       "      <td>1.114970</td>\n",
       "      <td>1.114970</td>\n",
       "      <td>NaN</td>\n",
       "      <td>...</td>\n",
       "      <td>NaN</td>\n",
       "      <td>NaN</td>\n",
       "      <td>NaN</td>\n",
       "      <td>NaN</td>\n",
       "      <td>NaN</td>\n",
       "      <td>NaN</td>\n",
       "      <td>NaN</td>\n",
       "      <td>NaN</td>\n",
       "      <td>NaN</td>\n",
       "      <td>NaN</td>\n",
       "    </tr>\n",
       "    <tr>\n",
       "      <td>2020-03-12</td>\n",
       "      <td>26</td>\n",
       "      <td>37</td>\n",
       "      <td>0.702703</td>\n",
       "      <td>0.980471</td>\n",
       "      <td>1.011359</td>\n",
       "      <td>1.041972</td>\n",
       "      <td>1.087890</td>\n",
       "      <td>1.092992</td>\n",
       "      <td>1.114970</td>\n",
       "      <td>1.114970</td>\n",
       "      <td>...</td>\n",
       "      <td>NaN</td>\n",
       "      <td>NaN</td>\n",
       "      <td>NaN</td>\n",
       "      <td>NaN</td>\n",
       "      <td>NaN</td>\n",
       "      <td>NaN</td>\n",
       "      <td>NaN</td>\n",
       "      <td>NaN</td>\n",
       "      <td>NaN</td>\n",
       "      <td>NaN</td>\n",
       "    </tr>\n",
       "    <tr>\n",
       "      <td>2020-03-13</td>\n",
       "      <td>24</td>\n",
       "      <td>34</td>\n",
       "      <td>0.705882</td>\n",
       "      <td>0.913245</td>\n",
       "      <td>0.980471</td>\n",
       "      <td>1.011359</td>\n",
       "      <td>1.041972</td>\n",
       "      <td>1.087890</td>\n",
       "      <td>1.092992</td>\n",
       "      <td>1.114970</td>\n",
       "      <td>...</td>\n",
       "      <td>NaN</td>\n",
       "      <td>NaN</td>\n",
       "      <td>NaN</td>\n",
       "      <td>NaN</td>\n",
       "      <td>NaN</td>\n",
       "      <td>NaN</td>\n",
       "      <td>NaN</td>\n",
       "      <td>NaN</td>\n",
       "      <td>NaN</td>\n",
       "      <td>NaN</td>\n",
       "    </tr>\n",
       "    <tr>\n",
       "      <td>2020-03-14</td>\n",
       "      <td>9</td>\n",
       "      <td>18</td>\n",
       "      <td>0.500000</td>\n",
       "      <td>0.833879</td>\n",
       "      <td>0.913245</td>\n",
       "      <td>0.980471</td>\n",
       "      <td>1.011359</td>\n",
       "      <td>1.041972</td>\n",
       "      <td>1.087890</td>\n",
       "      <td>1.092992</td>\n",
       "      <td>...</td>\n",
       "      <td>NaN</td>\n",
       "      <td>NaN</td>\n",
       "      <td>NaN</td>\n",
       "      <td>NaN</td>\n",
       "      <td>NaN</td>\n",
       "      <td>NaN</td>\n",
       "      <td>NaN</td>\n",
       "      <td>NaN</td>\n",
       "      <td>NaN</td>\n",
       "      <td>NaN</td>\n",
       "    </tr>\n",
       "  </tbody>\n",
       "</table>\n",
       "<p>15 rows × 34 columns</p>\n",
       "</div>"
      ],
      "text/plain": [
       "            trafic_index  first week of February       TSD  TSD_rolling  \\\n",
       "Date                                                                      \n",
       "2020-02-29            19                      18  1.055556          NaN   \n",
       "2020-03-01            15                      13  1.153846          NaN   \n",
       "2020-03-02            30                      28  1.071429          NaN   \n",
       "2020-03-03            36                      28  1.285714          NaN   \n",
       "2020-03-04            32                      28  1.142857          NaN   \n",
       "2020-03-05            34                      37  0.918919          NaN   \n",
       "2020-03-06            40                      34  1.176471     1.114970   \n",
       "2020-03-07            19                      18  1.055556     1.114970   \n",
       "2020-03-08            13                      13  1.000000     1.092992   \n",
       "2020-03-09            29                      28  1.035714     1.087890   \n",
       "2020-03-10            27                      28  0.964286     1.041972   \n",
       "2020-03-11            26                      28  0.928571     1.011359   \n",
       "2020-03-12            26                      37  0.702703     0.980471   \n",
       "2020-03-13            24                      34  0.705882     0.913245   \n",
       "2020-03-14             9                      18  0.500000     0.833879   \n",
       "\n",
       "            TSD_rolling_lag_1  TSD_rolling_lag_2  TSD_rolling_lag_3  \\\n",
       "Date                                                                  \n",
       "2020-02-29                NaN                NaN                NaN   \n",
       "2020-03-01                NaN                NaN                NaN   \n",
       "2020-03-02                NaN                NaN                NaN   \n",
       "2020-03-03                NaN                NaN                NaN   \n",
       "2020-03-04                NaN                NaN                NaN   \n",
       "2020-03-05                NaN                NaN                NaN   \n",
       "2020-03-06                NaN                NaN                NaN   \n",
       "2020-03-07           1.114970                NaN                NaN   \n",
       "2020-03-08           1.114970           1.114970                NaN   \n",
       "2020-03-09           1.092992           1.114970           1.114970   \n",
       "2020-03-10           1.087890           1.092992           1.114970   \n",
       "2020-03-11           1.041972           1.087890           1.092992   \n",
       "2020-03-12           1.011359           1.041972           1.087890   \n",
       "2020-03-13           0.980471           1.011359           1.041972   \n",
       "2020-03-14           0.913245           0.980471           1.011359   \n",
       "\n",
       "            TSD_rolling_lag_4  TSD_rolling_lag_5  TSD_rolling_lag_6  ...  \\\n",
       "Date                                                                 ...   \n",
       "2020-02-29                NaN                NaN                NaN  ...   \n",
       "2020-03-01                NaN                NaN                NaN  ...   \n",
       "2020-03-02                NaN                NaN                NaN  ...   \n",
       "2020-03-03                NaN                NaN                NaN  ...   \n",
       "2020-03-04                NaN                NaN                NaN  ...   \n",
       "2020-03-05                NaN                NaN                NaN  ...   \n",
       "2020-03-06                NaN                NaN                NaN  ...   \n",
       "2020-03-07                NaN                NaN                NaN  ...   \n",
       "2020-03-08                NaN                NaN                NaN  ...   \n",
       "2020-03-09                NaN                NaN                NaN  ...   \n",
       "2020-03-10           1.114970                NaN                NaN  ...   \n",
       "2020-03-11           1.114970           1.114970                NaN  ...   \n",
       "2020-03-12           1.092992           1.114970           1.114970  ...   \n",
       "2020-03-13           1.087890           1.092992           1.114970  ...   \n",
       "2020-03-14           1.041972           1.087890           1.092992  ...   \n",
       "\n",
       "            TSD_rolling_lag_21  TSD_rolling_lag_22  TSD_rolling_lag_23  \\\n",
       "Date                                                                     \n",
       "2020-02-29                 NaN                 NaN                 NaN   \n",
       "2020-03-01                 NaN                 NaN                 NaN   \n",
       "2020-03-02                 NaN                 NaN                 NaN   \n",
       "2020-03-03                 NaN                 NaN                 NaN   \n",
       "2020-03-04                 NaN                 NaN                 NaN   \n",
       "2020-03-05                 NaN                 NaN                 NaN   \n",
       "2020-03-06                 NaN                 NaN                 NaN   \n",
       "2020-03-07                 NaN                 NaN                 NaN   \n",
       "2020-03-08                 NaN                 NaN                 NaN   \n",
       "2020-03-09                 NaN                 NaN                 NaN   \n",
       "2020-03-10                 NaN                 NaN                 NaN   \n",
       "2020-03-11                 NaN                 NaN                 NaN   \n",
       "2020-03-12                 NaN                 NaN                 NaN   \n",
       "2020-03-13                 NaN                 NaN                 NaN   \n",
       "2020-03-14                 NaN                 NaN                 NaN   \n",
       "\n",
       "            TSD_rolling_lag_24  TSD_rolling_lag_25  TSD_rolling_lag_26  \\\n",
       "Date                                                                     \n",
       "2020-02-29                 NaN                 NaN                 NaN   \n",
       "2020-03-01                 NaN                 NaN                 NaN   \n",
       "2020-03-02                 NaN                 NaN                 NaN   \n",
       "2020-03-03                 NaN                 NaN                 NaN   \n",
       "2020-03-04                 NaN                 NaN                 NaN   \n",
       "2020-03-05                 NaN                 NaN                 NaN   \n",
       "2020-03-06                 NaN                 NaN                 NaN   \n",
       "2020-03-07                 NaN                 NaN                 NaN   \n",
       "2020-03-08                 NaN                 NaN                 NaN   \n",
       "2020-03-09                 NaN                 NaN                 NaN   \n",
       "2020-03-10                 NaN                 NaN                 NaN   \n",
       "2020-03-11                 NaN                 NaN                 NaN   \n",
       "2020-03-12                 NaN                 NaN                 NaN   \n",
       "2020-03-13                 NaN                 NaN                 NaN   \n",
       "2020-03-14                 NaN                 NaN                 NaN   \n",
       "\n",
       "            TSD_rolling_lag_27  TSD_rolling_lag_28  TSD_rolling_lag_29  \\\n",
       "Date                                                                     \n",
       "2020-02-29                 NaN                 NaN                 NaN   \n",
       "2020-03-01                 NaN                 NaN                 NaN   \n",
       "2020-03-02                 NaN                 NaN                 NaN   \n",
       "2020-03-03                 NaN                 NaN                 NaN   \n",
       "2020-03-04                 NaN                 NaN                 NaN   \n",
       "2020-03-05                 NaN                 NaN                 NaN   \n",
       "2020-03-06                 NaN                 NaN                 NaN   \n",
       "2020-03-07                 NaN                 NaN                 NaN   \n",
       "2020-03-08                 NaN                 NaN                 NaN   \n",
       "2020-03-09                 NaN                 NaN                 NaN   \n",
       "2020-03-10                 NaN                 NaN                 NaN   \n",
       "2020-03-11                 NaN                 NaN                 NaN   \n",
       "2020-03-12                 NaN                 NaN                 NaN   \n",
       "2020-03-13                 NaN                 NaN                 NaN   \n",
       "2020-03-14                 NaN                 NaN                 NaN   \n",
       "\n",
       "            TSD_rolling_lag_30  \n",
       "Date                            \n",
       "2020-02-29                 NaN  \n",
       "2020-03-01                 NaN  \n",
       "2020-03-02                 NaN  \n",
       "2020-03-03                 NaN  \n",
       "2020-03-04                 NaN  \n",
       "2020-03-05                 NaN  \n",
       "2020-03-06                 NaN  \n",
       "2020-03-07                 NaN  \n",
       "2020-03-08                 NaN  \n",
       "2020-03-09                 NaN  \n",
       "2020-03-10                 NaN  \n",
       "2020-03-11                 NaN  \n",
       "2020-03-12                 NaN  \n",
       "2020-03-13                 NaN  \n",
       "2020-03-14                 NaN  \n",
       "\n",
       "[15 rows x 34 columns]"
      ]
     },
     "execution_count": 19,
     "metadata": {},
     "output_type": "execute_result"
    }
   ],
   "source": [
    "t_df.head(15)"
   ]
  },
  {
   "cell_type": "code",
   "execution_count": 20,
   "metadata": {},
   "outputs": [
    {
     "data": {
      "text/plain": [
       "((118,), (120,))"
      ]
     },
     "execution_count": 20,
     "metadata": {},
     "output_type": "execute_result"
    }
   ],
   "source": [
    "# There are two extra dates for traffic data\n",
    "h_df['hosp_change'].shape, t_df['TSD_rolling_lag_14'].shape"
   ]
  },
  {
   "cell_type": "markdown",
   "metadata": {},
   "source": [
    "## Linear  regression model\n",
    "\n",
    "I fit a simple linear model using the traffic social distance `'TSD_rolling'` as a predictor of Hospitalization's percentage growth `'hosp_change'` and test the $R^{2}$ at differest lags."
   ]
  },
  {
   "cell_type": "markdown",
   "metadata": {},
   "source": []
  },
  {
   "cell_type": "code",
   "execution_count": 21,
   "metadata": {},
   "outputs": [],
   "source": [
    "def lag_finder(n):\n",
    "    \"\"\"Returns the rsquare(R^2) of each of the OLS model for TSD_rolling column lag up to\n",
    "    n times\"\"\"\n",
    "    rsquared =[]\n",
    "    for i in range(1,n):\n",
    "        # slice because the nan generated with creating the rolling mean\n",
    "        # and because there are two extra days of TSD data t_df[6:-2] = h_df[6:]\n",
    "        X = sm.add_constant(t_df[f'TSD_rolling_lag_{i}'][6+i:-2])\n",
    "        model = sm.OLS(h_df['hosp_change'][6+i:],X)\n",
    "        results = model.fit()\n",
    "        rsquared.append(results.rsquared)\n",
    "    return rsquared\n",
    "        "
   ]
  },
  {
   "cell_type": "code",
   "execution_count": 22,
   "metadata": {},
   "outputs": [
    {
     "name": "stderr",
     "output_type": "stream",
     "text": [
      "/Users/flatironschool/.pyenv/versions/anaconda3-2019.10/lib/python3.7/site-packages/numpy/core/fromnumeric.py:2580: FutureWarning: Method .ptp is deprecated and will be removed in a future version. Use numpy.ptp instead.\n",
      "  return ptp(axis=axis, out=out, **kwargs)\n"
     ]
    },
    {
     "data": {
      "image/png": "[encoded data removed]",
      "text/plain": [
       "<Figure size 432x288 with 1 Axes>"
      ]
     },
     "metadata": {
      "needs_background": "light"
     },
     "output_type": "display_data"
    }
   ],
   "source": [
    "# fitting OLS regression on 20 lags\n",
    "rsqr = lag_finder(20)\n",
    "lag = list(range(1,20))\n",
    "\n",
    "# Makes red the highest column\n",
    "clrs = ['C7' if (x < max(rsqr)) else 'C3' for x in rsqr ]\n",
    "ax = sns.barplot(x=lag, y=rsqr, palette=clrs) \n",
    "plt.xlabel('Lags',fontdict=font)\n",
    "plt.ylabel('Rsquared',fontdict=font)\n",
    "plt.title(\"Optimal Lag\",fontdict=font);"
   ]
  },
  {
   "cell_type": "code",
   "execution_count": 23,
   "metadata": {
    "scrolled": true
   },
   "outputs": [
    {
     "data": {
      "image/png": "[encoded data removed]",
      "text/plain": [
       "<Figure size 432x288 with 1 Axes>"
      ]
     },
     "metadata": {
      "needs_background": "light"
     },
     "output_type": "display_data"
    }
   ],
   "source": [
    "#Exploring optimal lag\n",
    "X = sm.add_constant(t_df['TSD_rolling_lag_13'][19:-2])\n",
    "model = sm.OLS(h_df['hosp_change'][19:],X)\n",
    "results = model.fit()\n",
    "\n",
    "plt.scatter(t_df['TSD_rolling_lag_13'][:-2],h_df['hosp_change'],alpha=0.2, color='C7')\n",
    "y_predict = results.params[0] + results.params[1]*t_df['TSD_rolling_lag_13'][:-2]\n",
    "plt.plot(t_df['TSD_rolling_lag_13'][:-2],y_predict, linewidth=2, color='C3')\n",
    "plt.xlim(0,1.5)\n",
    "plt.ylim(-0.5,0.5)\n",
    "plt.xlabel('Trafic Socical Distance Index',fontdict=font)\n",
    "plt.ylabel('Hospitalizations Rate',fontdict=font)\n",
    "plt.title('OLS Regression for 13-day lag',fontdict=font);"
   ]
  },
  {
   "cell_type": "code",
   "execution_count": 24,
   "metadata": {},
   "outputs": [
    {
     "name": "stdout",
     "output_type": "stream",
     "text": [
      "                            OLS Regression Results                            \n",
      "==============================================================================\n",
      "Dep. Variable:            hosp_change   R-squared:                       0.815\n",
      "Model:                            OLS   Adj. R-squared:                  0.813\n",
      "Method:                 Least Squares   F-statistic:                     426.6\n",
      "Date:                Wed, 08 Jul 2020   Prob (F-statistic):           2.74e-37\n",
      "Time:                        12:33:03   Log-Likelihood:                 198.88\n",
      "No. Observations:                  99   AIC:                            -393.8\n",
      "Df Residuals:                      97   BIC:                            -388.6\n",
      "Df Model:                           1                                         \n",
      "Covariance Type:            nonrobust                                         \n",
      "======================================================================================\n",
      "                         coef    std err          t      P>|t|      [0.025      0.975]\n",
      "--------------------------------------------------------------------------------------\n",
      "const                 -0.0989      0.005    -19.303      0.000      -0.109      -0.089\n",
      "TSD_rolling_lag_13     0.2645      0.013     20.654      0.000       0.239       0.290\n",
      "==============================================================================\n",
      "Omnibus:                       22.944   Durbin-Watson:                   0.460\n",
      "Prob(Omnibus):                  0.000   Jarque-Bera (JB):               31.745\n",
      "Skew:                          -1.110   Prob(JB):                     1.28e-07\n",
      "Kurtosis:                       4.663   Cond. No.                         4.27\n",
      "==============================================================================\n",
      "\n",
      "Warnings:\n",
      "[1] Standard Errors assume that the covariance matrix of the errors is correctly specified.\n"
     ]
    }
   ],
   "source": [
    "print(results.summary())"
   ]
  },
  {
   "cell_type": "markdown",
   "metadata": {},
   "source": [
    "## Arimax model"
   ]
  },
  {
   "cell_type": "code",
   "execution_count": 25,
   "metadata": {},
   "outputs": [],
   "source": [
    "# Load specific forecasting tools\n",
    "from statsmodels.tsa.statespace.sarimax import SARIMAX\n",
    "\n",
    "from statsmodels.graphics.tsaplots import plot_acf,plot_pacf # for determining (p,q) orders\n",
    "from statsmodels.tsa.seasonal import seasonal_decompose      # for ETS Plots\n",
    "from pmdarima import auto_arima  \n",
    "\n",
    "import warnings\n",
    "warnings.filterwarnings(\"ignore\")"
   ]
  },
  {
   "cell_type": "code",
   "execution_count": 26,
   "metadata": {},
   "outputs": [
    {
     "data": {
      "text/plain": [
       "Index(['trafic_index', 'first week of February', 'TSD', 'TSD_rolling',\n",
       "       'TSD_rolling_lag_1', 'TSD_rolling_lag_2', 'TSD_rolling_lag_3',\n",
       "       'TSD_rolling_lag_4', 'TSD_rolling_lag_5', 'TSD_rolling_lag_6',\n",
       "       'TSD_rolling_lag_7', 'TSD_rolling_lag_8', 'TSD_rolling_lag_9',\n",
       "       'TSD_rolling_lag_10', 'TSD_rolling_lag_11', 'TSD_rolling_lag_12',\n",
       "       'TSD_rolling_lag_13', 'TSD_rolling_lag_14', 'TSD_rolling_lag_15',\n",
       "       'TSD_rolling_lag_16', 'TSD_rolling_lag_17', 'TSD_rolling_lag_18',\n",
       "       'TSD_rolling_lag_19', 'TSD_rolling_lag_20', 'TSD_rolling_lag_21',\n",
       "       'TSD_rolling_lag_22', 'TSD_rolling_lag_23', 'TSD_rolling_lag_24',\n",
       "       'TSD_rolling_lag_25', 'TSD_rolling_lag_26', 'TSD_rolling_lag_27',\n",
       "       'TSD_rolling_lag_28', 'TSD_rolling_lag_29', 'TSD_rolling_lag_30'],\n",
       "      dtype='object')"
      ]
     },
     "execution_count": 26,
     "metadata": {},
     "output_type": "execute_result"
    }
   ],
   "source": [
    "t_df.columns"
   ]
  },
  {
   "cell_type": "code",
   "execution_count": null,
   "metadata": {},
   "outputs": [],
   "source": []
  },
  {
   "cell_type": "code",
   "execution_count": 27,
   "metadata": {},
   "outputs": [],
   "source": [
    "arima_df= pd.DataFrame.join(h_df[['hosp_change']][7:], t_df[['TSD_rolling',\n",
    "       'TSD_rolling_lag_10', 'TSD_rolling_lag_11', 'TSD_rolling_lag_12',\n",
    "       'TSD_rolling_lag_13', 'TSD_rolling_lag_14', 'TSD_rolling_lag_15',]][7:-2], \n",
    "                            on=None, how='left', lsuffix='', rsuffix='', sort=False)"
   ]
  },
  {
   "cell_type": "code",
   "execution_count": 29,
   "metadata": {},
   "outputs": [
    {
     "data": {
      "text/html": [
       "<div>\n",
       "<style scoped>\n",
       "    .dataframe tbody tr th:only-of-type {\n",
       "        vertical-align: middle;\n",
       "    }\n",
       "\n",
       "    .dataframe tbody tr th {\n",
       "        vertical-align: top;\n",
       "    }\n",
       "\n",
       "    .dataframe thead th {\n",
       "        text-align: right;\n",
       "    }\n",
       "</style>\n",
       "<table border=\"1\" class=\"dataframe\">\n",
       "  <thead>\n",
       "    <tr style=\"text-align: right;\">\n",
       "      <th></th>\n",
       "      <th>hosp_change</th>\n",
       "      <th>TSD_rolling</th>\n",
       "      <th>TSD_rolling_lag_10</th>\n",
       "      <th>TSD_rolling_lag_11</th>\n",
       "      <th>TSD_rolling_lag_12</th>\n",
       "      <th>TSD_rolling_lag_13</th>\n",
       "      <th>TSD_rolling_lag_14</th>\n",
       "      <th>TSD_rolling_lag_15</th>\n",
       "    </tr>\n",
       "    <tr>\n",
       "      <th>DATE_OF_INTEREST</th>\n",
       "      <th></th>\n",
       "      <th></th>\n",
       "      <th></th>\n",
       "      <th></th>\n",
       "      <th></th>\n",
       "      <th></th>\n",
       "      <th></th>\n",
       "      <th></th>\n",
       "    </tr>\n",
       "  </thead>\n",
       "  <tbody>\n",
       "    <tr>\n",
       "      <td>2020-06-23</td>\n",
       "      <td>-0.051181</td>\n",
       "      <td>0.523627</td>\n",
       "      <td>0.463418</td>\n",
       "      <td>0.447545</td>\n",
       "      <td>0.430739</td>\n",
       "      <td>0.415295</td>\n",
       "      <td>0.405090</td>\n",
       "      <td>0.384682</td>\n",
       "    </tr>\n",
       "    <tr>\n",
       "      <td>2020-06-24</td>\n",
       "      <td>-0.053942</td>\n",
       "      <td>0.533831</td>\n",
       "      <td>0.463418</td>\n",
       "      <td>0.463418</td>\n",
       "      <td>0.447545</td>\n",
       "      <td>0.430739</td>\n",
       "      <td>0.415295</td>\n",
       "      <td>0.405090</td>\n",
       "    </tr>\n",
       "    <tr>\n",
       "      <td>2020-06-25</td>\n",
       "      <td>-0.043860</td>\n",
       "      <td>0.541553</td>\n",
       "      <td>0.468520</td>\n",
       "      <td>0.463418</td>\n",
       "      <td>0.463418</td>\n",
       "      <td>0.447545</td>\n",
       "      <td>0.430739</td>\n",
       "      <td>0.415295</td>\n",
       "    </tr>\n",
       "  </tbody>\n",
       "</table>\n",
       "</div>"
      ],
      "text/plain": [
       "                  hosp_change  TSD_rolling  TSD_rolling_lag_10  \\\n",
       "DATE_OF_INTEREST                                                 \n",
       "2020-06-23          -0.051181     0.523627            0.463418   \n",
       "2020-06-24          -0.053942     0.533831            0.463418   \n",
       "2020-06-25          -0.043860     0.541553            0.468520   \n",
       "\n",
       "                  TSD_rolling_lag_11  TSD_rolling_lag_12  TSD_rolling_lag_13  \\\n",
       "DATE_OF_INTEREST                                                               \n",
       "2020-06-23                  0.447545            0.430739            0.415295   \n",
       "2020-06-24                  0.463418            0.447545            0.430739   \n",
       "2020-06-25                  0.463418            0.463418            0.447545   \n",
       "\n",
       "                  TSD_rolling_lag_14  TSD_rolling_lag_15  \n",
       "DATE_OF_INTEREST                                          \n",
       "2020-06-23                  0.405090            0.384682  \n",
       "2020-06-24                  0.415295            0.405090  \n",
       "2020-06-25                  0.430739            0.415295  "
      ]
     },
     "execution_count": 29,
     "metadata": {},
     "output_type": "execute_result"
    }
   ],
   "source": [
    "arima_df.tail(3)"
   ]
  },
  {
   "cell_type": "markdown",
   "metadata": {},
   "source": [
    "### Checking for Stationarity "
   ]
  },
  {
   "cell_type": "code",
   "execution_count": 31,
   "metadata": {},
   "outputs": [
    {
     "name": "stdout",
     "output_type": "stream",
     "text": [
      "p-value:0.004672421361217997\n"
     ]
    }
   ],
   "source": [
    "from statsmodels.tsa.stattools import adfuller\n",
    "#ADF-test(Original-time-series)\n",
    "res = sm.tsa.adfuller(arima_df['hosp_change'])#,regression='ct')\n",
    "print('p-value:{}'.format(res[1]))"
   ]
  },
  {
   "cell_type": "code",
   "execution_count": 32,
   "metadata": {},
   "outputs": [
    {
     "data": {
      "image/png": "[encoded data removed]",
      "text/plain": [
       "<Figure size 432x288 with 4 Axes>"
      ]
     },
     "metadata": {
      "needs_background": "light"
     },
     "output_type": "display_data"
    }
   ],
   "source": [
    "result = seasonal_decompose(arima_df['hosp_change'])\n",
    "result.plot();"
   ]
  },
  {
   "cell_type": "code",
   "execution_count": 33,
   "metadata": {},
   "outputs": [
    {
     "data": {
      "text/html": [
       "<table class=\"simpletable\">\n",
       "<caption>SARIMAX Results</caption>\n",
       "<tr>\n",
       "  <th>Dep. Variable:</th>           <td>y</td>        <th>  No. Observations:  </th>    <td>111</td>  \n",
       "</tr>\n",
       "<tr>\n",
       "  <th>Model:</th>           <td>SARIMAX(1, 1, 2)</td> <th>  Log Likelihood     </th>  <td>229.346</td>\n",
       "</tr>\n",
       "<tr>\n",
       "  <th>Date:</th>            <td>Wed, 08 Jul 2020</td> <th>  AIC                </th> <td>-448.693</td>\n",
       "</tr>\n",
       "<tr>\n",
       "  <th>Time:</th>                <td>12:35:52</td>     <th>  BIC                </th> <td>-435.190</td>\n",
       "</tr>\n",
       "<tr>\n",
       "  <th>Sample:</th>                  <td>0</td>        <th>  HQIC               </th> <td>-443.216</td>\n",
       "</tr>\n",
       "<tr>\n",
       "  <th></th>                      <td> - 111</td>      <th>                     </th>     <td> </td>   \n",
       "</tr>\n",
       "<tr>\n",
       "  <th>Covariance Type:</th>        <td>opg</td>       <th>                     </th>     <td> </td>   \n",
       "</tr>\n",
       "</table>\n",
       "<table class=\"simpletable\">\n",
       "<tr>\n",
       "      <td></td>         <th>coef</th>     <th>std err</th>      <th>z</th>      <th>P>|z|</th>  <th>[0.025</th>    <th>0.975]</th>  \n",
       "</tr>\n",
       "<tr>\n",
       "  <th>intercept</th> <td>    0.0004</td> <td>    0.001</td> <td>    0.318</td> <td> 0.751</td> <td>   -0.002</td> <td>    0.003</td>\n",
       "</tr>\n",
       "<tr>\n",
       "  <th>ar.L1</th>     <td>    0.8372</td> <td>    0.062</td> <td>   13.447</td> <td> 0.000</td> <td>    0.715</td> <td>    0.959</td>\n",
       "</tr>\n",
       "<tr>\n",
       "  <th>ma.L1</th>     <td>   -1.0772</td> <td>    0.084</td> <td>  -12.884</td> <td> 0.000</td> <td>   -1.241</td> <td>   -0.913</td>\n",
       "</tr>\n",
       "<tr>\n",
       "  <th>ma.L2</th>     <td>    0.4597</td> <td>    0.072</td> <td>    6.403</td> <td> 0.000</td> <td>    0.319</td> <td>    0.600</td>\n",
       "</tr>\n",
       "<tr>\n",
       "  <th>sigma2</th>    <td>    0.0009</td> <td> 8.72e-05</td> <td>   10.302</td> <td> 0.000</td> <td>    0.001</td> <td>    0.001</td>\n",
       "</tr>\n",
       "</table>\n",
       "<table class=\"simpletable\">\n",
       "<tr>\n",
       "  <th>Ljung-Box (Q):</th>          <td>23.60</td> <th>  Jarque-Bera (JB):  </th> <td>69.84</td>\n",
       "</tr>\n",
       "<tr>\n",
       "  <th>Prob(Q):</th>                <td>0.98</td>  <th>  Prob(JB):          </th> <td>0.00</td> \n",
       "</tr>\n",
       "<tr>\n",
       "  <th>Heteroskedasticity (H):</th> <td>0.62</td>  <th>  Skew:              </th> <td>-0.12</td>\n",
       "</tr>\n",
       "<tr>\n",
       "  <th>Prob(H) (two-sided):</th>    <td>0.16</td>  <th>  Kurtosis:          </th> <td>6.90</td> \n",
       "</tr>\n",
       "</table><br/><br/>Warnings:<br/>[1] Covariance matrix calculated using the outer product of gradients (complex-step)."
      ],
      "text/plain": [
       "<class 'statsmodels.iolib.summary.Summary'>\n",
       "\"\"\"\n",
       "                               SARIMAX Results                                \n",
       "==============================================================================\n",
       "Dep. Variable:                      y   No. Observations:                  111\n",
       "Model:               SARIMAX(1, 1, 2)   Log Likelihood                 229.346\n",
       "Date:                Wed, 08 Jul 2020   AIC                           -448.693\n",
       "Time:                        12:35:52   BIC                           -435.190\n",
       "Sample:                             0   HQIC                          -443.216\n",
       "                                - 111                                         \n",
       "Covariance Type:                  opg                                         \n",
       "==============================================================================\n",
       "                 coef    std err          z      P>|z|      [0.025      0.975]\n",
       "------------------------------------------------------------------------------\n",
       "intercept      0.0004      0.001      0.318      0.751      -0.002       0.003\n",
       "ar.L1          0.8372      0.062     13.447      0.000       0.715       0.959\n",
       "ma.L1         -1.0772      0.084    -12.884      0.000      -1.241      -0.913\n",
       "ma.L2          0.4597      0.072      6.403      0.000       0.319       0.600\n",
       "sigma2         0.0009   8.72e-05     10.302      0.000       0.001       0.001\n",
       "===================================================================================\n",
       "Ljung-Box (Q):                       23.60   Jarque-Bera (JB):                69.84\n",
       "Prob(Q):                              0.98   Prob(JB):                         0.00\n",
       "Heteroskedasticity (H):               0.62   Skew:                            -0.12\n",
       "Prob(H) (two-sided):                  0.16   Kurtosis:                         6.90\n",
       "===================================================================================\n",
       "\n",
       "Warnings:\n",
       "[1] Covariance matrix calculated using the outer product of gradients (complex-step).\n",
       "\"\"\""
      ]
     },
     "execution_count": 33,
     "metadata": {},
     "output_type": "execute_result"
    }
   ],
   "source": [
    "auto_arima(arima_df['hosp_change'],seasonal=True,m=7).summary()"
   ]
  },
  {
   "cell_type": "code",
   "execution_count": 34,
   "metadata": {},
   "outputs": [],
   "source": [
    "#train test split\n",
    "test_size =7\n",
    "train, test = arima_df[13:-test_size], arima_df[-test_size:]"
   ]
  },
  {
   "cell_type": "code",
   "execution_count": 35,
   "metadata": {},
   "outputs": [
    {
     "data": {
      "text/html": [
       "<table class=\"simpletable\">\n",
       "<caption>SARIMAX Results</caption>\n",
       "<tr>\n",
       "  <th>Dep. Variable:</th>      <td>hosp_change</td>   <th>  No. Observations:  </th>    <td>91</td>   \n",
       "</tr>\n",
       "<tr>\n",
       "  <th>Model:</th>           <td>SARIMAX(3, 1, 0)</td> <th>  Log Likelihood     </th>  <td>216.356</td>\n",
       "</tr>\n",
       "<tr>\n",
       "  <th>Date:</th>            <td>Wed, 08 Jul 2020</td> <th>  AIC                </th> <td>-424.711</td>\n",
       "</tr>\n",
       "<tr>\n",
       "  <th>Time:</th>                <td>12:36:59</td>     <th>  BIC                </th> <td>-414.712</td>\n",
       "</tr>\n",
       "<tr>\n",
       "  <th>Sample:</th>             <td>03-20-2020</td>    <th>  HQIC               </th> <td>-420.679</td>\n",
       "</tr>\n",
       "<tr>\n",
       "  <th></th>                   <td>- 06-18-2020</td>   <th>                     </th>     <td> </td>   \n",
       "</tr>\n",
       "<tr>\n",
       "  <th>Covariance Type:</th>        <td>opg</td>       <th>                     </th>     <td> </td>   \n",
       "</tr>\n",
       "</table>\n",
       "<table class=\"simpletable\">\n",
       "<tr>\n",
       "     <td></td>       <th>coef</th>     <th>std err</th>      <th>z</th>      <th>P>|z|</th>  <th>[0.025</th>    <th>0.975]</th>  \n",
       "</tr>\n",
       "<tr>\n",
       "  <th>ar.L1</th>  <td>   -0.1892</td> <td>    0.096</td> <td>   -1.963</td> <td> 0.050</td> <td>   -0.378</td> <td>   -0.000</td>\n",
       "</tr>\n",
       "<tr>\n",
       "  <th>ar.L2</th>  <td>    0.0836</td> <td>    0.091</td> <td>    0.917</td> <td> 0.359</td> <td>   -0.095</td> <td>    0.262</td>\n",
       "</tr>\n",
       "<tr>\n",
       "  <th>ar.L3</th>  <td>    0.0218</td> <td>    0.099</td> <td>    0.221</td> <td> 0.825</td> <td>   -0.172</td> <td>    0.215</td>\n",
       "</tr>\n",
       "<tr>\n",
       "  <th>sigma2</th> <td>    0.0005</td> <td>  5.2e-05</td> <td>    9.182</td> <td> 0.000</td> <td>    0.000</td> <td>    0.001</td>\n",
       "</tr>\n",
       "</table>\n",
       "<table class=\"simpletable\">\n",
       "<tr>\n",
       "  <th>Ljung-Box (Q):</th>          <td>41.02</td> <th>  Jarque-Bera (JB):  </th> <td>56.50</td>\n",
       "</tr>\n",
       "<tr>\n",
       "  <th>Prob(Q):</th>                <td>0.43</td>  <th>  Prob(JB):          </th> <td>0.00</td> \n",
       "</tr>\n",
       "<tr>\n",
       "  <th>Heteroskedasticity (H):</th> <td>2.72</td>  <th>  Skew:              </th> <td>0.95</td> \n",
       "</tr>\n",
       "<tr>\n",
       "  <th>Prob(H) (two-sided):</th>    <td>0.01</td>  <th>  Kurtosis:          </th> <td>6.39</td> \n",
       "</tr>\n",
       "</table><br/><br/>Warnings:<br/>[1] Covariance matrix calculated using the outer product of gradients (complex-step)."
      ],
      "text/plain": [
       "<class 'statsmodels.iolib.summary.Summary'>\n",
       "\"\"\"\n",
       "                               SARIMAX Results                                \n",
       "==============================================================================\n",
       "Dep. Variable:            hosp_change   No. Observations:                   91\n",
       "Model:               SARIMAX(3, 1, 0)   Log Likelihood                 216.356\n",
       "Date:                Wed, 08 Jul 2020   AIC                           -424.711\n",
       "Time:                        12:36:59   BIC                           -414.712\n",
       "Sample:                    03-20-2020   HQIC                          -420.679\n",
       "                         - 06-18-2020                                         \n",
       "Covariance Type:                  opg                                         \n",
       "==============================================================================\n",
       "                 coef    std err          z      P>|z|      [0.025      0.975]\n",
       "------------------------------------------------------------------------------\n",
       "ar.L1         -0.1892      0.096     -1.963      0.050      -0.378      -0.000\n",
       "ar.L2          0.0836      0.091      0.917      0.359      -0.095       0.262\n",
       "ar.L3          0.0218      0.099      0.221      0.825      -0.172       0.215\n",
       "sigma2         0.0005    5.2e-05      9.182      0.000       0.000       0.001\n",
       "===================================================================================\n",
       "Ljung-Box (Q):                       41.02   Jarque-Bera (JB):                56.50\n",
       "Prob(Q):                              0.43   Prob(JB):                         0.00\n",
       "Heteroskedasticity (H):               2.72   Skew:                             0.95\n",
       "Prob(H) (two-sided):                  0.01   Kurtosis:                         6.39\n",
       "===================================================================================\n",
       "\n",
       "Warnings:\n",
       "[1] Covariance matrix calculated using the outer product of gradients (complex-step).\n",
       "\"\"\""
      ]
     },
     "execution_count": 35,
     "metadata": {},
     "output_type": "execute_result"
    }
   ],
   "source": [
    "model = SARIMAX(train['hosp_change'],order=(3,1,0),enforce_invertibility=False)\n",
    "results = model.fit()\n",
    "results.summary()"
   ]
  },
  {
   "cell_type": "code",
   "execution_count": 36,
   "metadata": {},
   "outputs": [],
   "source": [
    "# Obtain predicted values\n",
    "start=len(train)\n",
    "end=len(train)+len(test)-1\n",
    "predictions = results.predict(start=start, end=end, dynamic=False).rename('ARIMA Prediction')"
   ]
  },
  {
   "cell_type": "code",
   "execution_count": 77,
   "metadata": {},
   "outputs": [
    {
     "data": {
      "image/png": "[encoded data removed]",
      "text/plain": [
       "<Figure size 648x288 with 1 Axes>"
      ]
     },
     "metadata": {
      "needs_background": "light"
     },
     "output_type": "display_data"
    }
   ],
   "source": [
    "ax = test['hosp_change'].plot(legend=True,figsize=(9,4), color='C3')\n",
    "predictions.plot(legend=True, color='C7')\n",
    "ax.autoscale(axis='x',tight=True)\n",
    "plt.xlabel('Date',fontdict=font)\n",
    "plt.ylabel('Hospitalizations Rate',fontdict=font)\n",
    "plt.title('Test Vs Prediction',fontdict=font);"
   ]
  },
  {
   "cell_type": "code",
   "execution_count": 39,
   "metadata": {},
   "outputs": [],
   "source": [
    "# Obtain predicted values\n",
    "start=len(train)\n",
    "end=len(train)+len(test)-1\n",
    "predictions2 = results.get_prediction(start=start, end=end, dynamic=False)"
   ]
  },
  {
   "cell_type": "code",
   "execution_count": 40,
   "metadata": {},
   "outputs": [],
   "source": [
    "predict_auto = predictions2.summary_frame(alpha=0.10)"
   ]
  },
  {
   "cell_type": "code",
   "execution_count": 44,
   "metadata": {},
   "outputs": [
    {
     "data": {
      "image/png": "[encoded data removed]",
      "text/plain": [
       "<Figure size 1080x360 with 1 Axes>"
      ]
     },
     "metadata": {
      "needs_background": "light"
     },
     "output_type": "display_data"
    }
   ],
   "source": [
    "fig, ax = plt.subplots(figsize=(15, 5))\n",
    "arima_df['hosp_change'][13:111].plot(ax=ax, color='C3')\n",
    "test['hosp_change'].plot(ax=ax, color='C7')\n",
    "predict_auto['mean'].plot(ax=ax, style='k-.')\n",
    "ax.fill_between(predict_auto.index, predict_auto['mean_ci_lower'], predict_auto['mean_ci_upper'], color='k', alpha=0.10);\n",
    "plt.xlabel('Date',fontdict=font)\n",
    "plt.ylabel('Hospitalizations Rate',fontdict=font)\n",
    "plt.title('AR Model Prediction at 90%',fontdict=font);"
   ]
  },
  {
   "cell_type": "code",
   "execution_count": null,
   "metadata": {},
   "outputs": [],
   "source": []
  },
  {
   "cell_type": "code",
   "execution_count": 45,
   "metadata": {},
   "outputs": [
    {
     "name": "stdout",
     "output_type": "stream",
     "text": [
      "ARIMA(3,1,0) MSE Error: 0.001804441406\n",
      "ARIMA(3,1,0) RMSE Error: 0.04247871709\n"
     ]
    }
   ],
   "source": [
    "from sklearn.metrics import mean_squared_error\n",
    "from statsmodels.tools.eval_measures import rmse\n",
    "\n",
    "\n",
    "error = mean_squared_error(test['hosp_change'], predictions)\n",
    "print(f'ARIMA(3,1,0) MSE Error: {error:11.10}')\n",
    "\n",
    "error = rmse(test['hosp_change'], predictions)\n",
    "print(f'ARIMA(3,1,0) RMSE Error: {error:11.10}')"
   ]
  },
  {
   "cell_type": "code",
   "execution_count": null,
   "metadata": {},
   "outputs": [],
   "source": []
  },
  {
   "cell_type": "markdown",
   "metadata": {},
   "source": [
    "### Adding exogenos variable"
   ]
  },
  {
   "cell_type": "code",
   "execution_count": 46,
   "metadata": {},
   "outputs": [
    {
     "data": {
      "text/html": [
       "<table class=\"simpletable\">\n",
       "<caption>SARIMAX Results</caption>\n",
       "<tr>\n",
       "  <th>Dep. Variable:</th>           <td>y</td>        <th>  No. Observations:  </th>    <td>111</td>  \n",
       "</tr>\n",
       "<tr>\n",
       "  <th>Model:</th>           <td>SARIMAX(3, 1, 0)</td> <th>  Log Likelihood     </th>  <td>230.265</td>\n",
       "</tr>\n",
       "<tr>\n",
       "  <th>Date:</th>            <td>Wed, 08 Jul 2020</td> <th>  AIC                </th> <td>-448.529</td>\n",
       "</tr>\n",
       "<tr>\n",
       "  <th>Time:</th>                <td>12:41:57</td>     <th>  BIC                </th> <td>-432.327</td>\n",
       "</tr>\n",
       "<tr>\n",
       "  <th>Sample:</th>             <td>03-07-2020</td>    <th>  HQIC               </th> <td>-441.957</td>\n",
       "</tr>\n",
       "<tr>\n",
       "  <th></th>                   <td>- 06-25-2020</td>   <th>                     </th>     <td> </td>   \n",
       "</tr>\n",
       "<tr>\n",
       "  <th>Covariance Type:</th>        <td>opg</td>       <th>                     </th>     <td> </td>   \n",
       "</tr>\n",
       "</table>\n",
       "<table class=\"simpletable\">\n",
       "<tr>\n",
       "       <td></td>          <th>coef</th>     <th>std err</th>      <th>z</th>      <th>P>|z|</th>  <th>[0.025</th>    <th>0.975]</th>  \n",
       "</tr>\n",
       "<tr>\n",
       "  <th>intercept</th>   <td>    0.0011</td> <td>    0.003</td> <td>    0.324</td> <td> 0.746</td> <td>   -0.006</td> <td>    0.008</td>\n",
       "</tr>\n",
       "<tr>\n",
       "  <th>TSD_rolling</th> <td>    0.1640</td> <td>    0.153</td> <td>    1.074</td> <td> 0.283</td> <td>   -0.135</td> <td>    0.463</td>\n",
       "</tr>\n",
       "<tr>\n",
       "  <th>ar.L1</th>       <td>   -0.2073</td> <td>    0.053</td> <td>   -3.905</td> <td> 0.000</td> <td>   -0.311</td> <td>   -0.103</td>\n",
       "</tr>\n",
       "<tr>\n",
       "  <th>ar.L2</th>       <td>    0.3037</td> <td>    0.070</td> <td>    4.308</td> <td> 0.000</td> <td>    0.166</td> <td>    0.442</td>\n",
       "</tr>\n",
       "<tr>\n",
       "  <th>ar.L3</th>       <td>    0.3325</td> <td>    0.075</td> <td>    4.417</td> <td> 0.000</td> <td>    0.185</td> <td>    0.480</td>\n",
       "</tr>\n",
       "<tr>\n",
       "  <th>sigma2</th>      <td>    0.0009</td> <td> 8.69e-05</td> <td>   10.193</td> <td> 0.000</td> <td>    0.001</td> <td>    0.001</td>\n",
       "</tr>\n",
       "</table>\n",
       "<table class=\"simpletable\">\n",
       "<tr>\n",
       "  <th>Ljung-Box (Q):</th>          <td>21.74</td> <th>  Jarque-Bera (JB):  </th> <td>48.17</td>\n",
       "</tr>\n",
       "<tr>\n",
       "  <th>Prob(Q):</th>                <td>0.99</td>  <th>  Prob(JB):          </th> <td>0.00</td> \n",
       "</tr>\n",
       "<tr>\n",
       "  <th>Heteroskedasticity (H):</th> <td>0.67</td>  <th>  Skew:              </th> <td>0.50</td> \n",
       "</tr>\n",
       "<tr>\n",
       "  <th>Prob(H) (two-sided):</th>    <td>0.23</td>  <th>  Kurtosis:          </th> <td>6.08</td> \n",
       "</tr>\n",
       "</table><br/><br/>Warnings:<br/>[1] Covariance matrix calculated using the outer product of gradients (complex-step)."
      ],
      "text/plain": [
       "<class 'statsmodels.iolib.summary.Summary'>\n",
       "\"\"\"\n",
       "                               SARIMAX Results                                \n",
       "==============================================================================\n",
       "Dep. Variable:                      y   No. Observations:                  111\n",
       "Model:               SARIMAX(3, 1, 0)   Log Likelihood                 230.265\n",
       "Date:                Wed, 08 Jul 2020   AIC                           -448.529\n",
       "Time:                        12:41:57   BIC                           -432.327\n",
       "Sample:                    03-07-2020   HQIC                          -441.957\n",
       "                         - 06-25-2020                                         \n",
       "Covariance Type:                  opg                                         \n",
       "===============================================================================\n",
       "                  coef    std err          z      P>|z|      [0.025      0.975]\n",
       "-------------------------------------------------------------------------------\n",
       "intercept       0.0011      0.003      0.324      0.746      -0.006       0.008\n",
       "TSD_rolling     0.1640      0.153      1.074      0.283      -0.135       0.463\n",
       "ar.L1          -0.2073      0.053     -3.905      0.000      -0.311      -0.103\n",
       "ar.L2           0.3037      0.070      4.308      0.000       0.166       0.442\n",
       "ar.L3           0.3325      0.075      4.417      0.000       0.185       0.480\n",
       "sigma2          0.0009   8.69e-05     10.193      0.000       0.001       0.001\n",
       "===================================================================================\n",
       "Ljung-Box (Q):                       21.74   Jarque-Bera (JB):                48.17\n",
       "Prob(Q):                              0.99   Prob(JB):                         0.00\n",
       "Heteroskedasticity (H):               0.67   Skew:                             0.50\n",
       "Prob(H) (two-sided):                  0.23   Kurtosis:                         6.08\n",
       "===================================================================================\n",
       "\n",
       "Warnings:\n",
       "[1] Covariance matrix calculated using the outer product of gradients (complex-step).\n",
       "\"\"\""
      ]
     },
     "execution_count": 46,
     "metadata": {},
     "output_type": "execute_result"
    }
   ],
   "source": [
    "auto_arima(arima_df['hosp_change'], exogenous=arima_df[['TSD_rolling']],seasonal=True,m=7).summary()"
   ]
  },
  {
   "cell_type": "code",
   "execution_count": 48,
   "metadata": {},
   "outputs": [],
   "source": [
    "#train test split\n",
    "test_size =7\n",
    "train, test = arima_df[:-test_size], arima_df[-test_size:]"
   ]
  },
  {
   "cell_type": "code",
   "execution_count": 49,
   "metadata": {},
   "outputs": [
    {
     "data": {
      "text/html": [
       "<table class=\"simpletable\">\n",
       "<caption>SARIMAX Results</caption>\n",
       "<tr>\n",
       "  <th>Dep. Variable:</th>      <td>hosp_change</td>   <th>  No. Observations:  </th>    <td>104</td>  \n",
       "</tr>\n",
       "<tr>\n",
       "  <th>Model:</th>           <td>SARIMAX(3, 1, 0)</td> <th>  Log Likelihood     </th>  <td>214.845</td>\n",
       "</tr>\n",
       "<tr>\n",
       "  <th>Date:</th>            <td>Wed, 08 Jul 2020</td> <th>  AIC                </th> <td>-419.691</td>\n",
       "</tr>\n",
       "<tr>\n",
       "  <th>Time:</th>                <td>12:42:17</td>     <th>  BIC                </th> <td>-406.517</td>\n",
       "</tr>\n",
       "<tr>\n",
       "  <th>Sample:</th>             <td>03-07-2020</td>    <th>  HQIC               </th> <td>-414.355</td>\n",
       "</tr>\n",
       "<tr>\n",
       "  <th></th>                   <td>- 06-18-2020</td>   <th>                     </th>     <td> </td>   \n",
       "</tr>\n",
       "<tr>\n",
       "  <th>Covariance Type:</th>        <td>opg</td>       <th>                     </th>     <td> </td>   \n",
       "</tr>\n",
       "</table>\n",
       "<table class=\"simpletable\">\n",
       "<tr>\n",
       "       <td></td>          <th>coef</th>     <th>std err</th>      <th>z</th>      <th>P>|z|</th>  <th>[0.025</th>    <th>0.975]</th>  \n",
       "</tr>\n",
       "<tr>\n",
       "  <th>TSD_rolling</th> <td>    0.1838</td> <td>    0.163</td> <td>    1.125</td> <td> 0.261</td> <td>   -0.136</td> <td>    0.504</td>\n",
       "</tr>\n",
       "<tr>\n",
       "  <th>ar.L1</th>       <td>   -0.1914</td> <td>    0.053</td> <td>   -3.643</td> <td> 0.000</td> <td>   -0.294</td> <td>   -0.088</td>\n",
       "</tr>\n",
       "<tr>\n",
       "  <th>ar.L2</th>       <td>    0.3139</td> <td>    0.069</td> <td>    4.534</td> <td> 0.000</td> <td>    0.178</td> <td>    0.450</td>\n",
       "</tr>\n",
       "<tr>\n",
       "  <th>ar.L3</th>       <td>    0.3473</td> <td>    0.074</td> <td>    4.694</td> <td> 0.000</td> <td>    0.202</td> <td>    0.492</td>\n",
       "</tr>\n",
       "<tr>\n",
       "  <th>sigma2</th>      <td>    0.0009</td> <td> 8.04e-05</td> <td>   11.166</td> <td> 0.000</td> <td>    0.001</td> <td>    0.001</td>\n",
       "</tr>\n",
       "</table>\n",
       "<table class=\"simpletable\">\n",
       "<tr>\n",
       "  <th>Ljung-Box (Q):</th>          <td>20.92</td> <th>  Jarque-Bera (JB):  </th> <td>50.78</td>\n",
       "</tr>\n",
       "<tr>\n",
       "  <th>Prob(Q):</th>                <td>0.99</td>  <th>  Prob(JB):          </th> <td>0.00</td> \n",
       "</tr>\n",
       "<tr>\n",
       "  <th>Heteroskedasticity (H):</th> <td>0.65</td>  <th>  Skew:              </th> <td>0.48</td> \n",
       "</tr>\n",
       "<tr>\n",
       "  <th>Prob(H) (two-sided):</th>    <td>0.22</td>  <th>  Kurtosis:          </th> <td>6.30</td> \n",
       "</tr>\n",
       "</table><br/><br/>Warnings:<br/>[1] Covariance matrix calculated using the outer product of gradients (complex-step)."
      ],
      "text/plain": [
       "<class 'statsmodels.iolib.summary.Summary'>\n",
       "\"\"\"\n",
       "                               SARIMAX Results                                \n",
       "==============================================================================\n",
       "Dep. Variable:            hosp_change   No. Observations:                  104\n",
       "Model:               SARIMAX(3, 1, 0)   Log Likelihood                 214.845\n",
       "Date:                Wed, 08 Jul 2020   AIC                           -419.691\n",
       "Time:                        12:42:17   BIC                           -406.517\n",
       "Sample:                    03-07-2020   HQIC                          -414.355\n",
       "                         - 06-18-2020                                         \n",
       "Covariance Type:                  opg                                         \n",
       "===============================================================================\n",
       "                  coef    std err          z      P>|z|      [0.025      0.975]\n",
       "-------------------------------------------------------------------------------\n",
       "TSD_rolling     0.1838      0.163      1.125      0.261      -0.136       0.504\n",
       "ar.L1          -0.1914      0.053     -3.643      0.000      -0.294      -0.088\n",
       "ar.L2           0.3139      0.069      4.534      0.000       0.178       0.450\n",
       "ar.L3           0.3473      0.074      4.694      0.000       0.202       0.492\n",
       "sigma2          0.0009   8.04e-05     11.166      0.000       0.001       0.001\n",
       "===================================================================================\n",
       "Ljung-Box (Q):                       20.92   Jarque-Bera (JB):                50.78\n",
       "Prob(Q):                              0.99   Prob(JB):                         0.00\n",
       "Heteroskedasticity (H):               0.65   Skew:                             0.48\n",
       "Prob(H) (two-sided):                  0.22   Kurtosis:                         6.30\n",
       "===================================================================================\n",
       "\n",
       "Warnings:\n",
       "[1] Covariance matrix calculated using the outer product of gradients (complex-step).\n",
       "\"\"\""
      ]
     },
     "execution_count": 49,
     "metadata": {},
     "output_type": "execute_result"
    }
   ],
   "source": [
    "model = SARIMAX(train[['hosp_change']],exog=train[['TSD_rolling']],order=(3,1,0),seasonal_order=(0,0,0,0),enforce_invertibility=False)\n",
    "results = model.fit()\n",
    "results.summary()"
   ]
  },
  {
   "cell_type": "code",
   "execution_count": 50,
   "metadata": {},
   "outputs": [
    {
     "name": "stdout",
     "output_type": "stream",
     "text": [
      "ARIMA(3,1,0) MSE Error: 0.001804441406\n",
      "ARIMA(3,1,0) RMSE Error: 0.04247871709\n"
     ]
    }
   ],
   "source": [
    "error = mean_squared_error(test['hosp_change'], predictions)\n",
    "print(f'ARIMA(3,1,0) MSE Error: {error:11.10}')\n",
    "\n",
    "error = rmse(test['hosp_change'], predictions)\n",
    "print(f'ARIMA(3,1,0) RMSE Error: {error:11.10}')"
   ]
  },
  {
   "cell_type": "markdown",
   "metadata": {},
   "source": [
    "### Adding exogenos variable 13 lag"
   ]
  },
  {
   "cell_type": "code",
   "execution_count": 51,
   "metadata": {},
   "outputs": [
    {
     "data": {
      "text/html": [
       "<table class=\"simpletable\">\n",
       "<caption>SARIMAX Results</caption>\n",
       "<tr>\n",
       "  <th>Dep. Variable:</th>                  <td>y</td>               <th>  No. Observations:  </th>    <td>98</td>   \n",
       "</tr>\n",
       "<tr>\n",
       "  <th>Model:</th>           <td>SARIMAX(1, 1, 1)x(1, 0, [], 7)</td> <th>  Log Likelihood     </th>  <td>248.457</td>\n",
       "</tr>\n",
       "<tr>\n",
       "  <th>Date:</th>                   <td>Wed, 08 Jul 2020</td>        <th>  AIC                </th> <td>-484.913</td>\n",
       "</tr>\n",
       "<tr>\n",
       "  <th>Time:</th>                       <td>12:42:36</td>            <th>  BIC                </th> <td>-469.465</td>\n",
       "</tr>\n",
       "<tr>\n",
       "  <th>Sample:</th>                    <td>03-20-2020</td>           <th>  HQIC               </th> <td>-478.667</td>\n",
       "</tr>\n",
       "<tr>\n",
       "  <th></th>                          <td>- 06-25-2020</td>          <th>                     </th>     <td> </td>   \n",
       "</tr>\n",
       "<tr>\n",
       "  <th>Covariance Type:</th>               <td>opg</td>              <th>                     </th>     <td> </td>   \n",
       "</tr>\n",
       "</table>\n",
       "<table class=\"simpletable\">\n",
       "<tr>\n",
       "           <td></td>             <th>coef</th>     <th>std err</th>      <th>z</th>      <th>P>|z|</th>  <th>[0.025</th>    <th>0.975]</th>  \n",
       "</tr>\n",
       "<tr>\n",
       "  <th>intercept</th>          <td>   -0.0007</td> <td>    0.001</td> <td>   -1.335</td> <td> 0.182</td> <td>   -0.002</td> <td>    0.000</td>\n",
       "</tr>\n",
       "<tr>\n",
       "  <th>TSD_rolling_lag_13</th> <td>    0.2307</td> <td>    0.039</td> <td>    5.916</td> <td> 0.000</td> <td>    0.154</td> <td>    0.307</td>\n",
       "</tr>\n",
       "<tr>\n",
       "  <th>ar.L1</th>              <td>    0.4109</td> <td>    0.150</td> <td>    2.735</td> <td> 0.006</td> <td>    0.116</td> <td>    0.705</td>\n",
       "</tr>\n",
       "<tr>\n",
       "  <th>ma.L1</th>              <td>   -0.7792</td> <td>    0.106</td> <td>   -7.344</td> <td> 0.000</td> <td>   -0.987</td> <td>   -0.571</td>\n",
       "</tr>\n",
       "<tr>\n",
       "  <th>ar.S.L7</th>            <td>   -0.4074</td> <td>    0.111</td> <td>   -3.673</td> <td> 0.000</td> <td>   -0.625</td> <td>   -0.190</td>\n",
       "</tr>\n",
       "<tr>\n",
       "  <th>sigma2</th>             <td>    0.0003</td> <td> 3.96e-05</td> <td>    8.584</td> <td> 0.000</td> <td>    0.000</td> <td>    0.000</td>\n",
       "</tr>\n",
       "</table>\n",
       "<table class=\"simpletable\">\n",
       "<tr>\n",
       "  <th>Ljung-Box (Q):</th>          <td>31.41</td> <th>  Jarque-Bera (JB):  </th> <td>11.63</td>\n",
       "</tr>\n",
       "<tr>\n",
       "  <th>Prob(Q):</th>                <td>0.83</td>  <th>  Prob(JB):          </th> <td>0.00</td> \n",
       "</tr>\n",
       "<tr>\n",
       "  <th>Heteroskedasticity (H):</th> <td>3.75</td>  <th>  Skew:              </th> <td>-0.13</td>\n",
       "</tr>\n",
       "<tr>\n",
       "  <th>Prob(H) (two-sided):</th>    <td>0.00</td>  <th>  Kurtosis:          </th> <td>4.68</td> \n",
       "</tr>\n",
       "</table><br/><br/>Warnings:<br/>[1] Covariance matrix calculated using the outer product of gradients (complex-step)."
      ],
      "text/plain": [
       "<class 'statsmodels.iolib.summary.Summary'>\n",
       "\"\"\"\n",
       "                                     SARIMAX Results                                      \n",
       "==========================================================================================\n",
       "Dep. Variable:                                  y   No. Observations:                   98\n",
       "Model:             SARIMAX(1, 1, 1)x(1, 0, [], 7)   Log Likelihood                 248.457\n",
       "Date:                            Wed, 08 Jul 2020   AIC                           -484.913\n",
       "Time:                                    12:42:36   BIC                           -469.465\n",
       "Sample:                                03-20-2020   HQIC                          -478.667\n",
       "                                     - 06-25-2020                                         \n",
       "Covariance Type:                              opg                                         \n",
       "======================================================================================\n",
       "                         coef    std err          z      P>|z|      [0.025      0.975]\n",
       "--------------------------------------------------------------------------------------\n",
       "intercept             -0.0007      0.001     -1.335      0.182      -0.002       0.000\n",
       "TSD_rolling_lag_13     0.2307      0.039      5.916      0.000       0.154       0.307\n",
       "ar.L1                  0.4109      0.150      2.735      0.006       0.116       0.705\n",
       "ma.L1                 -0.7792      0.106     -7.344      0.000      -0.987      -0.571\n",
       "ar.S.L7               -0.4074      0.111     -3.673      0.000      -0.625      -0.190\n",
       "sigma2                 0.0003   3.96e-05      8.584      0.000       0.000       0.000\n",
       "===================================================================================\n",
       "Ljung-Box (Q):                       31.41   Jarque-Bera (JB):                11.63\n",
       "Prob(Q):                              0.83   Prob(JB):                         0.00\n",
       "Heteroskedasticity (H):               3.75   Skew:                            -0.13\n",
       "Prob(H) (two-sided):                  0.00   Kurtosis:                         4.68\n",
       "===================================================================================\n",
       "\n",
       "Warnings:\n",
       "[1] Covariance matrix calculated using the outer product of gradients (complex-step).\n",
       "\"\"\""
      ]
     },
     "execution_count": 51,
     "metadata": {},
     "output_type": "execute_result"
    }
   ],
   "source": [
    "auto_arima(arima_df['hosp_change'][13:], exogenous=arima_df[['TSD_rolling_lag_13']][13:],seasonal=True,m=7).summary()"
   ]
  },
  {
   "cell_type": "code",
   "execution_count": 52,
   "metadata": {},
   "outputs": [],
   "source": [
    "#train test split\n",
    "test_size =7\n",
    "train, test = arima_df[13:-test_size], arima_df[-test_size:]"
   ]
  },
  {
   "cell_type": "code",
   "execution_count": 93,
   "metadata": {},
   "outputs": [
    {
     "data": {
      "text/html": [
       "<table class=\"simpletable\">\n",
       "<caption>SARIMAX Results</caption>\n",
       "<tr>\n",
       "  <th>Dep. Variable:</th>             <td>hosp_change</td>          <th>  No. Observations:  </th>    <td>89</td>   \n",
       "</tr>\n",
       "<tr>\n",
       "  <th>Model:</th>           <td>SARIMAX(1, 1, 1)x(1, 0, [], 7)</td> <th>  Log Likelihood     </th>  <td>224.862</td>\n",
       "</tr>\n",
       "<tr>\n",
       "  <th>Date:</th>                   <td>Wed, 08 Jul 2020</td>        <th>  AIC                </th> <td>-439.723</td>\n",
       "</tr>\n",
       "<tr>\n",
       "  <th>Time:</th>                       <td>13:08:27</td>            <th>  BIC                </th> <td>-427.337</td>\n",
       "</tr>\n",
       "<tr>\n",
       "  <th>Sample:</th>                    <td>03-22-2020</td>           <th>  HQIC               </th> <td>-434.733</td>\n",
       "</tr>\n",
       "<tr>\n",
       "  <th></th>                          <td>- 06-18-2020</td>          <th>                     </th>     <td> </td>   \n",
       "</tr>\n",
       "<tr>\n",
       "  <th>Covariance Type:</th>               <td>opg</td>              <th>                     </th>     <td> </td>   \n",
       "</tr>\n",
       "</table>\n",
       "<table class=\"simpletable\">\n",
       "<tr>\n",
       "           <td></td>             <th>coef</th>     <th>std err</th>      <th>z</th>      <th>P>|z|</th>  <th>[0.025</th>    <th>0.975]</th>  \n",
       "</tr>\n",
       "<tr>\n",
       "  <th>TSD_rolling_lag_13</th> <td>    0.2303</td> <td>    0.051</td> <td>    4.515</td> <td> 0.000</td> <td>    0.130</td> <td>    0.330</td>\n",
       "</tr>\n",
       "<tr>\n",
       "  <th>ar.L1</th>              <td>    0.3363</td> <td>    0.233</td> <td>    1.444</td> <td> 0.149</td> <td>   -0.120</td> <td>    0.793</td>\n",
       "</tr>\n",
       "<tr>\n",
       "  <th>ma.L1</th>              <td>   -0.6869</td> <td>    0.186</td> <td>   -3.703</td> <td> 0.000</td> <td>   -1.051</td> <td>   -0.323</td>\n",
       "</tr>\n",
       "<tr>\n",
       "  <th>ar.S.L7</th>            <td>   -0.3267</td> <td>    0.118</td> <td>   -2.780</td> <td> 0.005</td> <td>   -0.557</td> <td>   -0.096</td>\n",
       "</tr>\n",
       "<tr>\n",
       "  <th>sigma2</th>             <td>    0.0003</td> <td> 4.09e-05</td> <td>    8.526</td> <td> 0.000</td> <td>    0.000</td> <td>    0.000</td>\n",
       "</tr>\n",
       "</table>\n",
       "<table class=\"simpletable\">\n",
       "<tr>\n",
       "  <th>Ljung-Box (Q):</th>          <td>33.67</td> <th>  Jarque-Bera (JB):  </th> <td>15.98</td>\n",
       "</tr>\n",
       "<tr>\n",
       "  <th>Prob(Q):</th>                <td>0.75</td>  <th>  Prob(JB):          </th> <td>0.00</td> \n",
       "</tr>\n",
       "<tr>\n",
       "  <th>Heteroskedasticity (H):</th> <td>4.50</td>  <th>  Skew:              </th> <td>0.02</td> \n",
       "</tr>\n",
       "<tr>\n",
       "  <th>Prob(H) (two-sided):</th>    <td>0.00</td>  <th>  Kurtosis:          </th> <td>5.09</td> \n",
       "</tr>\n",
       "</table><br/><br/>Warnings:<br/>[1] Covariance matrix calculated using the outer product of gradients (complex-step)."
      ],
      "text/plain": [
       "<class 'statsmodels.iolib.summary.Summary'>\n",
       "\"\"\"\n",
       "                                     SARIMAX Results                                      \n",
       "==========================================================================================\n",
       "Dep. Variable:                        hosp_change   No. Observations:                   89\n",
       "Model:             SARIMAX(1, 1, 1)x(1, 0, [], 7)   Log Likelihood                 224.862\n",
       "Date:                            Wed, 08 Jul 2020   AIC                           -439.723\n",
       "Time:                                    13:08:27   BIC                           -427.337\n",
       "Sample:                                03-22-2020   HQIC                          -434.733\n",
       "                                     - 06-18-2020                                         \n",
       "Covariance Type:                              opg                                         \n",
       "======================================================================================\n",
       "                         coef    std err          z      P>|z|      [0.025      0.975]\n",
       "--------------------------------------------------------------------------------------\n",
       "TSD_rolling_lag_13     0.2303      0.051      4.515      0.000       0.130       0.330\n",
       "ar.L1                  0.3363      0.233      1.444      0.149      -0.120       0.793\n",
       "ma.L1                 -0.6869      0.186     -3.703      0.000      -1.051      -0.323\n",
       "ar.S.L7               -0.3267      0.118     -2.780      0.005      -0.557      -0.096\n",
       "sigma2                 0.0003   4.09e-05      8.526      0.000       0.000       0.000\n",
       "===================================================================================\n",
       "Ljung-Box (Q):                       33.67   Jarque-Bera (JB):                15.98\n",
       "Prob(Q):                              0.75   Prob(JB):                         0.00\n",
       "Heteroskedasticity (H):               4.50   Skew:                             0.02\n",
       "Prob(H) (two-sided):                  0.00   Kurtosis:                         5.09\n",
       "===================================================================================\n",
       "\n",
       "Warnings:\n",
       "[1] Covariance matrix calculated using the outer product of gradients (complex-step).\n",
       "\"\"\""
      ]
     },
     "execution_count": 93,
     "metadata": {},
     "output_type": "execute_result"
    }
   ],
   "source": [
    "model = SARIMAX(train[['hosp_change']],exog=train[['TSD_rolling_lag_13']],order=(1,1,1),seasonal_order=(1,0,0,7),enforce_invertibility=False)\n",
    "results = model.fit()\n",
    "results.summary()"
   ]
  },
  {
   "cell_type": "code",
   "execution_count": 84,
   "metadata": {},
   "outputs": [],
   "source": [
    "# Obtain predicted values\n",
    "start=len(train)\n",
    "end=len(train)+len(test)-1\n",
    "exog_forecast = test[['TSD_rolling_lag_13']]\n",
    "predictions = results.predict(start=start, end=end, exog=exog_forecast).rename('SARIMA Prediction 13-day lag')"
   ]
  },
  {
   "cell_type": "code",
   "execution_count": 85,
   "metadata": {},
   "outputs": [
    {
     "data": {
      "image/png": "[encoded data removed]",
      "text/plain": [
       "<Figure size 648x288 with 1 Axes>"
      ]
     },
     "metadata": {
      "needs_background": "light"
     },
     "output_type": "display_data"
    }
   ],
   "source": [
    "ax = test['hosp_change'].plot(legend=True,figsize=(9,4), color='C3')\n",
    "predictions.plot(legend=True, color='C7')\n",
    "ax.autoscale(axis='x',tight=True)\n",
    "plt.xlabel('Date',fontdict=font)\n",
    "plt.ylabel('Hospitalizations Rate',fontdict=font)\n",
    "plt.title('Test Vs Prediction',fontdict=font);"
   ]
  },
  {
   "cell_type": "code",
   "execution_count": 86,
   "metadata": {},
   "outputs": [
    {
     "name": "stdout",
     "output_type": "stream",
     "text": [
      "SARIMAX(1, 1, 1)x(1, 0, 0, 7) MSE Error: 0.0009290862828\n",
      "SARIMAX(1, 1, 1)x(1, 0, 0, 7) RMSE Error: 0.0304809167\n"
     ]
    }
   ],
   "source": [
    "error = mean_squared_error(test['hosp_change'], predictions)\n",
    "print(f'SARIMAX(1, 1, 1)x(1, 0, 0, 7) MSE Error: {error:11.10}')\n",
    "\n",
    "error = rmse(test['hosp_change'], predictions)\n",
    "print(f'SARIMAX(1, 1, 1)x(1, 0, 0, 7) RMSE Error: {error:11.10}')"
   ]
  },
  {
   "cell_type": "code",
   "execution_count": 87,
   "metadata": {},
   "outputs": [
    {
     "data": {
      "text/plain": [
       "-0.042613252129384036"
      ]
     },
     "execution_count": 87,
     "metadata": {},
     "output_type": "execute_result"
    }
   ],
   "source": [
    "test['hosp_change'].mean()"
   ]
  },
  {
   "cell_type": "code",
   "execution_count": 88,
   "metadata": {},
   "outputs": [],
   "source": [
    "# Obtain predicted values\n",
    "start=len(train)\n",
    "end=len(train)+len(test)-1\n",
    "exog_forecast = test[['TSD_rolling_lag_13']]\n",
    "predictions2 = results.get_prediction(start=start, end=end, exog=exog_forecast)"
   ]
  },
  {
   "cell_type": "code",
   "execution_count": 89,
   "metadata": {},
   "outputs": [],
   "source": [
    "predict = predictions2.summary_frame(alpha=0.10)\n",
    "predict05 = predictions2.summary_frame(alpha=0.05)"
   ]
  },
  {
   "cell_type": "code",
   "execution_count": 90,
   "metadata": {},
   "outputs": [
    {
     "data": {
      "image/png": "[encoded data removed]",
      "text/plain": [
       "<Figure size 1080x360 with 1 Axes>"
      ]
     },
     "metadata": {
      "needs_background": "light"
     },
     "output_type": "display_data"
    }
   ],
   "source": [
    "fig, ax = plt.subplots(figsize=(15, 5))\n",
    "arima_df['hosp_change'][13:111].plot(ax=ax, color='C3')\n",
    "test['hosp_change'].plot(ax=ax, color='C1')\n",
    "predict['mean'].plot(ax=ax, style='--',color ='C7')\n",
    "ax.fill_between(predict.index, predict['mean_ci_lower'], predict['mean_ci_upper'], color='C1', alpha=.1);\n",
    "plt.xlabel('Date',fontdict=font)\n",
    "plt.ylabel('Hospitalizations Rate',fontdict=font)\n",
    "plt.title('SARIMA Model Prediction at 90%',fontdict=font);"
   ]
  },
  {
   "cell_type": "code",
   "execution_count": null,
   "metadata": {},
   "outputs": [],
   "source": []
  },
  {
   "cell_type": "code",
   "execution_count": null,
   "metadata": {},
   "outputs": [],
   "source": []
  },
  {
   "cell_type": "code",
   "execution_count": null,
   "metadata": {},
   "outputs": [],
   "source": []
  },
  {
   "cell_type": "markdown",
   "metadata": {},
   "source": [
    "## Var Model"
   ]
  },
  {
   "cell_type": "code",
   "execution_count": null,
   "metadata": {},
   "outputs": [],
   "source": [
    "\n",
    "var_df= pd.concat([h_df['hosp_change'], t_df['TSD_rolling']], axis=1)"
   ]
  },
  {
   "cell_type": "code",
   "execution_count": null,
   "metadata": {},
   "outputs": [],
   "source": [
    "var_df.head(2)"
   ]
  },
  {
   "cell_type": "code",
   "execution_count": null,
   "metadata": {
    "scrolled": true
   },
   "outputs": [],
   "source": [
    "var_df[7:-2].plot();"
   ]
  },
  {
   "cell_type": "code",
   "execution_count": null,
   "metadata": {},
   "outputs": [],
   "source": [
    "#ADF-test(Original-time-series)\n",
    "res = sm.tsa.adfuller(var_df['hosp_change'][7:-2])#,regression='ct')\n",
    "print('p-value:{}'.format(res[1]))"
   ]
  },
  {
   "cell_type": "code",
   "execution_count": null,
   "metadata": {},
   "outputs": [],
   "source": [
    "#ADF-test(Original-time-series)\n",
    "res = sm.tsa.adfuller(var_df['TSD_rolling'][7:-2])#,regression='ct')\n",
    "print('p-value:{}'.format(res[1]))"
   ]
  },
  {
   "cell_type": "code",
   "execution_count": null,
   "metadata": {},
   "outputs": [],
   "source": [
    "trans_df = var_df.diff().dropna()"
   ]
  },
  {
   "cell_type": "code",
   "execution_count": null,
   "metadata": {},
   "outputs": [],
   "source": [
    "#ADF-test(Differenced-time-series)\n",
    "res = sm.tsa.adfuller(trans_df['hosp_change'][7:-2])#,regression='ct')\n",
    "print('p-value:{}'.format(res[1]))\n"
   ]
  },
  {
   "cell_type": "code",
   "execution_count": null,
   "metadata": {},
   "outputs": [],
   "source": [
    "#ADF-test(differenced-time-series)\n",
    "res = sm.tsa.adfuller(trans_df['TSD_rolling'][7:-2])#,regression='ct')\n",
    "print('p-value:{}'.format(res[1]))"
   ]
  },
  {
   "cell_type": "code",
   "execution_count": null,
   "metadata": {},
   "outputs": [],
   "source": [
    "trans_df.plot();"
   ]
  },
  {
   "cell_type": "code",
   "execution_count": null,
   "metadata": {},
   "outputs": [],
   "source": [
    "trans2_df = trans_df.diff().dropna()"
   ]
  },
  {
   "cell_type": "code",
   "execution_count": null,
   "metadata": {},
   "outputs": [],
   "source": [
    "#ADF-test(Original-time-series)\n",
    "res = sm.tsa.adfuller(trans2_df['hosp_change'][7:-2])#,regression='ct')\n",
    "print('p-value:{}'.format(res[1]))\n"
   ]
  },
  {
   "cell_type": "code",
   "execution_count": null,
   "metadata": {},
   "outputs": [],
   "source": [
    "#ADF-test(Original-time-series)\n",
    "res = sm.tsa.adfuller(trans2_df['TSD_rolling'][7:-2])#,regression='ct')\n",
    "print('p-value:{}'.format(res[1]))"
   ]
  },
  {
   "cell_type": "code",
   "execution_count": null,
   "metadata": {},
   "outputs": [],
   "source": [
    "test_size =7 \n",
    "train, test = trans2_df[:-test_size], trans2_df[-test_size:]"
   ]
  },
  {
   "cell_type": "code",
   "execution_count": null,
   "metadata": {},
   "outputs": [],
   "source": [
    "train.shape, test.shape\n"
   ]
  },
  {
   "cell_type": "code",
   "execution_count": null,
   "metadata": {},
   "outputs": [],
   "source": [
    "# Load specific forecasting tools\n",
    "from statsmodels.tsa.api import VAR"
   ]
  },
  {
   "cell_type": "code",
   "execution_count": null,
   "metadata": {},
   "outputs": [],
   "source": [
    "for i in range(20):\n",
    "    model = VAR(train)\n",
    "    results = model.fit(i)\n",
    "    print('Order =', i)\n",
    "    print('AIC: ', results.aic)\n",
    "    print('BIC: ', results.bic)\n",
    "    print()"
   ]
  },
  {
   "cell_type": "code",
   "execution_count": null,
   "metadata": {},
   "outputs": [],
   "source": [
    "results = model.fit(16)\n",
    "results.summary()"
   ]
  },
  {
   "cell_type": "code",
   "execution_count": null,
   "metadata": {},
   "outputs": [],
   "source": []
  },
  {
   "cell_type": "code",
   "execution_count": null,
   "metadata": {},
   "outputs": [],
   "source": []
  },
  {
   "cell_type": "code",
   "execution_count": null,
   "metadata": {},
   "outputs": [],
   "source": []
  },
  {
   "cell_type": "markdown",
   "metadata": {},
   "source": [
    "### granger causality tests"
   ]
  },
  {
   "cell_type": "code",
   "execution_count": null,
   "metadata": {},
   "outputs": [],
   "source": [
    "from statsmodels.tsa.stattools import grangercausalitytests\n",
    "grangercausalitytests(trans_df, maxlag = 20, verbose=True)"
   ]
  },
  {
   "cell_type": "code",
   "execution_count": null,
   "metadata": {},
   "outputs": [],
   "source": [
    "grangercausalitytests(var_df.dropna(), maxlag = 20, verbose=True)"
   ]
  },
  {
   "cell_type": "code",
   "execution_count": null,
   "metadata": {},
   "outputs": [],
   "source": []
  },
  {
   "cell_type": "code",
   "execution_count": null,
   "metadata": {},
   "outputs": [],
   "source": []
  },
  {
   "cell_type": "code",
   "execution_count": null,
   "metadata": {},
   "outputs": [],
   "source": [
    "\n"
   ]
  },
  {
   "cell_type": "code",
   "execution_count": null,
   "metadata": {},
   "outputs": [],
   "source": []
  },
  {
   "cell_type": "code",
   "execution_count": null,
   "metadata": {},
   "outputs": [],
   "source": [
    "z = results.forecast(y=train.values[-16:], steps=7)"
   ]
  },
  {
   "cell_type": "code",
   "execution_count": null,
   "metadata": {},
   "outputs": [],
   "source": [
    "idx = pd.date_range('2020-06-19', periods=7, freq='D')\n",
    "idx"
   ]
  },
  {
   "cell_type": "code",
   "execution_count": null,
   "metadata": {},
   "outputs": [],
   "source": [
    "test.head(10)"
   ]
  },
  {
   "cell_type": "code",
   "execution_count": null,
   "metadata": {},
   "outputs": [],
   "source": [
    "forcast_df = pd.DataFrame(data=z, index=idx, columns=['hosp_change_2d','TSD_rolling_2d'])"
   ]
  },
  {
   "cell_type": "code",
   "execution_count": null,
   "metadata": {},
   "outputs": [],
   "source": [
    "forcast_df"
   ]
  },
  {
   "cell_type": "code",
   "execution_count": null,
   "metadata": {},
   "outputs": [],
   "source": [
    "test"
   ]
  },
  {
   "cell_type": "code",
   "execution_count": null,
   "metadata": {},
   "outputs": [],
   "source": [
    "forcast_df['hosp_change_1d'] = (var_df['hosp_change'].iloc[-test_size-1]-\n",
    "                                var_df['hosp_change'].iloc[-test_size-2])+ forcast_df['hosp_change_2d'].cumsum()\n"
   ]
  },
  {
   "cell_type": "code",
   "execution_count": null,
   "metadata": {},
   "outputs": [],
   "source": []
  },
  {
   "cell_type": "code",
   "execution_count": null,
   "metadata": {},
   "outputs": [],
   "source": [
    "# Add the most recent first difference from the training side of the original dataset to the forecast cumulative sum\n",
    "df_forecast['Money1d'] = (df['Money'].iloc[-nobs-1]-df['Money'].iloc[-nobs-2]) + df_forecast['Money2d'].cumsum()\n",
    "\n",
    "# Now build the forecast values from the first difference set\n",
    "df_forecast['MoneyForecast'] = df['Money'].iloc[-nobs-1] + df_forecast['Money1d'].cumsum()"
   ]
  }
 ],
 "metadata": {
  "kernelspec": {
   "display_name": "Python 3",
   "language": "python",
   "name": "python3"
  },
  "language_info": {
   "codemirror_mode": {
    "name": "ipython",
    "version": 3
   },
   "file_extension": ".py",
   "mimetype": "text/x-python",
   "name": "python",
   "nbconvert_exporter": "python",
   "pygments_lexer": "ipython3",
   "version": "3.7.4"
  },
  "toc": {
   "base_numbering": 1,
   "nav_menu": {},
   "number_sections": true,
   "sideBar": true,
   "skip_h1_title": false,
   "title_cell": "Table of Contents",
   "title_sidebar": "Contents",
   "toc_cell": false,
   "toc_position": {},
   "toc_section_display": true,
   "toc_window_display": false
  }
 },
 "nbformat": 4,
 "nbformat_minor": 2
}
