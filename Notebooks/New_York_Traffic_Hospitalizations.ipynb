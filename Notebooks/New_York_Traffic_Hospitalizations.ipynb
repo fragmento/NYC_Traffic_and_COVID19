{
 "cells": [
  {
   "cell_type": "markdown",
   "metadata": {},
   "source": [
    "# Hospitalizations as a function of traffic in NYC\n",
    "\n",
    "\n",
    "In this project, I plan to explore the relationship between social distance and Covid-19 related hospitalizations in New York City during the last 4 months.\n",
    "For this, I will try to quantify the amount of social distancing using tomtom's traffic index. Tomtom's traffic index is the percentage of extra time that it takes to travel any given day based on some baseline(no traffic). \n",
    "\n",
    "I will use this to create a daily traffic social distance (TSD) index that will reflect the change in congestion with respect to a normal traffic day. I will use the first week of February as my baseline traffic congestion. I will divide each day of the daily traffic index by the corresponding day in the base week. To smooth the data I will use a 7-day moving average.\n",
    "\n",
    "This will give me an index where 0 indicates maximum TSD (no traffic), 1 indicates no TSD (same traffic as baseline). TSD greater than 1 indicate more traffic than usual.\n",
    "\n",
    "Hospitalization data comes from [New York's City health webpage](https://www1.nyc.gov/site/doh/covid/covid-19-data.page). The dataset contains daily hospitalization numbers related to Covid_19 in NYC. To smooth the volatility of the hospitalization data I use a 7-day moving average. Then I find the day to day change to approximate the rate of hospital admissions.\n",
    "\n",
    "\n",
    "\n",
    "\n"
   ]
  },
  {
   "cell_type": "markdown",
   "metadata": {},
   "source": [
    "## Importing libraries and files."
   ]
  },
  {
   "cell_type": "code",
   "execution_count": 1,
   "metadata": {},
   "outputs": [],
   "source": [
    "import pandas as pd\n",
    "import numpy as np\n",
    "import seaborn as sns\n",
    "import statsmodels.api as sm\n",
    "import matplotlib.pyplot as plt\n",
    "from statsmodels.sandbox.regression.predstd import wls_prediction_std\n",
    "from datetime import date\n"
   ]
  },
  {
   "cell_type": "code",
   "execution_count": 2,
   "metadata": {},
   "outputs": [],
   "source": [
    "h_df = pd.read_csv('../Data/hospitalizations.csv', index_col='DATE_OF_INTEREST', parse_dates=True)\n",
    "t_df = pd.read_csv('../Data/NewYork_traffic.csv', index_col='Date', parse_dates= True)\n",
    "\n",
    "# MTA data for sumbway and bus usage. \n",
    "#b_df = pd.read_csv('../Data/buses_ridership.csv', index_col='Date', parse_dates=True)\n",
    "#s_df = pd.read_csv('../Data/Subway_ridership.csv', index_col='Date', parse_dates=True )"
   ]
  },
  {
   "cell_type": "markdown",
   "metadata": {},
   "source": [
    "## Hospitalization Data"
   ]
  },
  {
   "cell_type": "code",
   "execution_count": 3,
   "metadata": {},
   "outputs": [
    {
     "data": {
      "text/html": [
       "<div>\n",
       "<style scoped>\n",
       "    .dataframe tbody tr th:only-of-type {\n",
       "        vertical-align: middle;\n",
       "    }\n",
       "\n",
       "    .dataframe tbody tr th {\n",
       "        vertical-align: top;\n",
       "    }\n",
       "\n",
       "    .dataframe thead th {\n",
       "        text-align: right;\n",
       "    }\n",
       "</style>\n",
       "<table border=\"1\" class=\"dataframe\">\n",
       "  <thead>\n",
       "    <tr style=\"text-align: right;\">\n",
       "      <th></th>\n",
       "      <th>Cases</th>\n",
       "      <th>Hospitalizations</th>\n",
       "      <th>Deaths</th>\n",
       "    </tr>\n",
       "    <tr>\n",
       "      <th>DATE_OF_INTEREST</th>\n",
       "      <th></th>\n",
       "      <th></th>\n",
       "      <th></th>\n",
       "    </tr>\n",
       "  </thead>\n",
       "  <tbody>\n",
       "    <tr>\n",
       "      <td>2020-02-29</td>\n",
       "      <td>1</td>\n",
       "      <td>11</td>\n",
       "      <td>0</td>\n",
       "    </tr>\n",
       "    <tr>\n",
       "      <td>2020-03-01</td>\n",
       "      <td>1</td>\n",
       "      <td>4</td>\n",
       "      <td>0</td>\n",
       "    </tr>\n",
       "    <tr>\n",
       "      <td>2020-03-02</td>\n",
       "      <td>0</td>\n",
       "      <td>22</td>\n",
       "      <td>0</td>\n",
       "    </tr>\n",
       "  </tbody>\n",
       "</table>\n",
       "</div>"
      ],
      "text/plain": [
       "                  Cases  Hospitalizations  Deaths\n",
       "DATE_OF_INTEREST                                 \n",
       "2020-02-29            1                11       0\n",
       "2020-03-01            1                 4       0\n",
       "2020-03-02            0                22       0"
      ]
     },
     "execution_count": 3,
     "metadata": {},
     "output_type": "execute_result"
    }
   ],
   "source": [
    "h_df.head(3)"
   ]
  },
  {
   "cell_type": "markdown",
   "metadata": {},
   "source": [
    "### Feature Engineering  "
   ]
  },
  {
   "cell_type": "code",
   "execution_count": 4,
   "metadata": {},
   "outputs": [],
   "source": [
    "# trying a log transformatin of hospitalizations\n",
    "h_df['log_hosp'] = np.log(h_df['Hospitalizations'])"
   ]
  },
  {
   "cell_type": "code",
   "execution_count": 5,
   "metadata": {},
   "outputs": [
    {
     "data": {
      "text/html": [
       "<div>\n",
       "<style scoped>\n",
       "    .dataframe tbody tr th:only-of-type {\n",
       "        vertical-align: middle;\n",
       "    }\n",
       "\n",
       "    .dataframe tbody tr th {\n",
       "        vertical-align: top;\n",
       "    }\n",
       "\n",
       "    .dataframe thead th {\n",
       "        text-align: right;\n",
       "    }\n",
       "</style>\n",
       "<table border=\"1\" class=\"dataframe\">\n",
       "  <thead>\n",
       "    <tr style=\"text-align: right;\">\n",
       "      <th></th>\n",
       "      <th>Cases</th>\n",
       "      <th>Hospitalizations</th>\n",
       "      <th>Deaths</th>\n",
       "      <th>log_hosp</th>\n",
       "    </tr>\n",
       "    <tr>\n",
       "      <th>DATE_OF_INTEREST</th>\n",
       "      <th></th>\n",
       "      <th></th>\n",
       "      <th></th>\n",
       "      <th></th>\n",
       "    </tr>\n",
       "  </thead>\n",
       "  <tbody>\n",
       "    <tr>\n",
       "      <td>2020-06-24</td>\n",
       "      <td>186</td>\n",
       "      <td>30</td>\n",
       "      <td>15</td>\n",
       "      <td>3.401197</td>\n",
       "    </tr>\n",
       "    <tr>\n",
       "      <td>2020-06-25</td>\n",
       "      <td>143</td>\n",
       "      <td>27</td>\n",
       "      <td>7</td>\n",
       "      <td>3.295837</td>\n",
       "    </tr>\n",
       "  </tbody>\n",
       "</table>\n",
       "</div>"
      ],
      "text/plain": [
       "                  Cases  Hospitalizations  Deaths  log_hosp\n",
       "DATE_OF_INTEREST                                           \n",
       "2020-06-24          186                30      15  3.401197\n",
       "2020-06-25          143                27       7  3.295837"
      ]
     },
     "execution_count": 5,
     "metadata": {},
     "output_type": "execute_result"
    }
   ],
   "source": [
    "h_df.tail(2)"
   ]
  },
  {
   "cell_type": "code",
   "execution_count": 6,
   "metadata": {},
   "outputs": [
    {
     "data": {
      "image/png": "[encoded data removed]",
      "text/plain": [
       "<Figure size 864x360 with 1 Axes>"
      ]
     },
     "metadata": {
      "needs_background": "light"
     },
     "output_type": "display_data"
    }
   ],
   "source": [
    "ax = h_df[['log_hosp']].plot(figsize=(12,5));\n",
    "# Dashed line shows March 20th the date New York when officialy into PAUSE.\n",
    "ax.axvline(x=date(2020, 3, 20), color='red', alpha=0.7,linestyle='dashed');"
   ]
  },
  {
   "cell_type": "markdown",
   "metadata": {},
   "source": [
    "### Trying a rolling growth rate"
   ]
  },
  {
   "cell_type": "code",
   "execution_count": 7,
   "metadata": {},
   "outputs": [],
   "source": [
    "\n",
    "h_df['hosp_rolling'] = h_df['Hospitalizations'].rolling(window=3).mean()\n",
    "h_df['hosp_rolling_7'] = h_df['Hospitalizations'].rolling(window=7).mean()\n",
    "\n",
    "h_df['log_hosp_rolling'] = h_df['log_hosp'].rolling(window=3).mean()\n",
    "h_df['log_hosp_rolling_7'] = h_df['log_hosp'].rolling(window=7).mean()\n",
    "#rates\n",
    "h_df['hosp_rate'] = h_df['log_hosp_rolling']/h_df['log_hosp_rolling_7'] \n",
    "h_df['log_hosp_rate'] = np.log(h_df['hosp_rolling'])/np.log(h_df['hosp_rolling_7'])"
   ]
  },
  {
   "cell_type": "code",
   "execution_count": 8,
   "metadata": {},
   "outputs": [
    {
     "data": {
      "image/png": "[encoded data removed]",
      "text/plain": [
       "<Figure size 864x360 with 1 Axes>"
      ]
     },
     "metadata": {
      "needs_background": "light"
     },
     "output_type": "display_data"
    }
   ],
   "source": [
    "h_df[['log_hosp_rate']][11:].plot(figsize=(12,5));"
   ]
  },
  {
   "cell_type": "markdown",
   "metadata": {},
   "source": [
    "### hosp_change\n",
    "I create a hospitalization index by finding the daily percentage of change in the 7-day rolling hospitalization numbers."
   ]
  },
  {
   "cell_type": "code",
   "execution_count": 9,
   "metadata": {},
   "outputs": [
    {
     "data": {
      "image/png": "[encoded data removed]",
      "text/plain": [
       "<Figure size 864x360 with 1 Axes>"
      ]
     },
     "metadata": {
      "needs_background": "light"
     },
     "output_type": "display_data"
    }
   ],
   "source": [
    "# Percentage change between the current and a prior element.\n",
    "h_df['hosp_change'] =h_df[['hosp_rolling_7']].pct_change()\n",
    "\n",
    "# plot of the change in daily change in hospitalizatios\n",
    "ax = h_df['hosp_change'][6:].plot(figsize=(12,5));\n",
    "ax.axvline(x=date(2020, 3, 21), color='red', alpha=0.7,linestyle='dashed');"
   ]
  },
  {
   "cell_type": "code",
   "execution_count": 10,
   "metadata": {
    "scrolled": true
   },
   "outputs": [
    {
     "data": {
      "text/html": [
       "<div>\n",
       "<style scoped>\n",
       "    .dataframe tbody tr th:only-of-type {\n",
       "        vertical-align: middle;\n",
       "    }\n",
       "\n",
       "    .dataframe tbody tr th {\n",
       "        vertical-align: top;\n",
       "    }\n",
       "\n",
       "    .dataframe thead th {\n",
       "        text-align: right;\n",
       "    }\n",
       "</style>\n",
       "<table border=\"1\" class=\"dataframe\">\n",
       "  <thead>\n",
       "    <tr style=\"text-align: right;\">\n",
       "      <th></th>\n",
       "      <th>Cases</th>\n",
       "      <th>Hospitalizations</th>\n",
       "      <th>Deaths</th>\n",
       "      <th>log_hosp</th>\n",
       "      <th>hosp_rolling</th>\n",
       "      <th>hosp_rolling_7</th>\n",
       "      <th>log_hosp_rolling</th>\n",
       "      <th>log_hosp_rolling_7</th>\n",
       "      <th>hosp_rate</th>\n",
       "      <th>log_hosp_rate</th>\n",
       "      <th>hosp_change</th>\n",
       "    </tr>\n",
       "    <tr>\n",
       "      <th>DATE_OF_INTEREST</th>\n",
       "      <th></th>\n",
       "      <th></th>\n",
       "      <th></th>\n",
       "      <th></th>\n",
       "      <th></th>\n",
       "      <th></th>\n",
       "      <th></th>\n",
       "      <th></th>\n",
       "      <th></th>\n",
       "      <th></th>\n",
       "      <th></th>\n",
       "    </tr>\n",
       "  </thead>\n",
       "  <tbody>\n",
       "    <tr>\n",
       "      <td>2020-02-29</td>\n",
       "      <td>1</td>\n",
       "      <td>11</td>\n",
       "      <td>0</td>\n",
       "      <td>2.397895</td>\n",
       "      <td>NaN</td>\n",
       "      <td>NaN</td>\n",
       "      <td>NaN</td>\n",
       "      <td>NaN</td>\n",
       "      <td>NaN</td>\n",
       "      <td>NaN</td>\n",
       "      <td>NaN</td>\n",
       "    </tr>\n",
       "    <tr>\n",
       "      <td>2020-03-01</td>\n",
       "      <td>1</td>\n",
       "      <td>4</td>\n",
       "      <td>0</td>\n",
       "      <td>1.386294</td>\n",
       "      <td>NaN</td>\n",
       "      <td>NaN</td>\n",
       "      <td>NaN</td>\n",
       "      <td>NaN</td>\n",
       "      <td>NaN</td>\n",
       "      <td>NaN</td>\n",
       "      <td>NaN</td>\n",
       "    </tr>\n",
       "    <tr>\n",
       "      <td>2020-03-02</td>\n",
       "      <td>0</td>\n",
       "      <td>22</td>\n",
       "      <td>0</td>\n",
       "      <td>3.091042</td>\n",
       "      <td>12.333333</td>\n",
       "      <td>NaN</td>\n",
       "      <td>2.291744</td>\n",
       "      <td>NaN</td>\n",
       "      <td>NaN</td>\n",
       "      <td>NaN</td>\n",
       "      <td>NaN</td>\n",
       "    </tr>\n",
       "    <tr>\n",
       "      <td>2020-03-03</td>\n",
       "      <td>2</td>\n",
       "      <td>20</td>\n",
       "      <td>0</td>\n",
       "      <td>2.995732</td>\n",
       "      <td>15.333333</td>\n",
       "      <td>NaN</td>\n",
       "      <td>2.491023</td>\n",
       "      <td>NaN</td>\n",
       "      <td>NaN</td>\n",
       "      <td>NaN</td>\n",
       "      <td>NaN</td>\n",
       "    </tr>\n",
       "    <tr>\n",
       "      <td>2020-03-04</td>\n",
       "      <td>5</td>\n",
       "      <td>22</td>\n",
       "      <td>0</td>\n",
       "      <td>3.091042</td>\n",
       "      <td>21.333333</td>\n",
       "      <td>NaN</td>\n",
       "      <td>3.059272</td>\n",
       "      <td>NaN</td>\n",
       "      <td>NaN</td>\n",
       "      <td>NaN</td>\n",
       "      <td>NaN</td>\n",
       "    </tr>\n",
       "  </tbody>\n",
       "</table>\n",
       "</div>"
      ],
      "text/plain": [
       "                  Cases  Hospitalizations  Deaths  log_hosp  hosp_rolling  \\\n",
       "DATE_OF_INTEREST                                                            \n",
       "2020-02-29            1                11       0  2.397895           NaN   \n",
       "2020-03-01            1                 4       0  1.386294           NaN   \n",
       "2020-03-02            0                22       0  3.091042     12.333333   \n",
       "2020-03-03            2                20       0  2.995732     15.333333   \n",
       "2020-03-04            5                22       0  3.091042     21.333333   \n",
       "\n",
       "                  hosp_rolling_7  log_hosp_rolling  log_hosp_rolling_7  \\\n",
       "DATE_OF_INTEREST                                                         \n",
       "2020-02-29                   NaN               NaN                 NaN   \n",
       "2020-03-01                   NaN               NaN                 NaN   \n",
       "2020-03-02                   NaN          2.291744                 NaN   \n",
       "2020-03-03                   NaN          2.491023                 NaN   \n",
       "2020-03-04                   NaN          3.059272                 NaN   \n",
       "\n",
       "                  hosp_rate  log_hosp_rate  hosp_change  \n",
       "DATE_OF_INTEREST                                         \n",
       "2020-02-29              NaN            NaN          NaN  \n",
       "2020-03-01              NaN            NaN          NaN  \n",
       "2020-03-02              NaN            NaN          NaN  \n",
       "2020-03-03              NaN            NaN          NaN  \n",
       "2020-03-04              NaN            NaN          NaN  "
      ]
     },
     "execution_count": 10,
     "metadata": {},
     "output_type": "execute_result"
    }
   ],
   "source": [
    "h_df.head(5)"
   ]
  },
  {
   "cell_type": "markdown",
   "metadata": {},
   "source": [
    "## Social distance - Traffic index"
   ]
  },
  {
   "cell_type": "code",
   "execution_count": 11,
   "metadata": {},
   "outputs": [
    {
     "data": {
      "text/html": [
       "<div>\n",
       "<style scoped>\n",
       "    .dataframe tbody tr th:only-of-type {\n",
       "        vertical-align: middle;\n",
       "    }\n",
       "\n",
       "    .dataframe tbody tr th {\n",
       "        vertical-align: top;\n",
       "    }\n",
       "\n",
       "    .dataframe thead th {\n",
       "        text-align: right;\n",
       "    }\n",
       "</style>\n",
       "<table border=\"1\" class=\"dataframe\">\n",
       "  <thead>\n",
       "    <tr style=\"text-align: right;\">\n",
       "      <th></th>\n",
       "      <th>trafic_index</th>\n",
       "      <th>first week of February</th>\n",
       "    </tr>\n",
       "    <tr>\n",
       "      <th>Date</th>\n",
       "      <th></th>\n",
       "      <th></th>\n",
       "    </tr>\n",
       "  </thead>\n",
       "  <tbody>\n",
       "    <tr>\n",
       "      <td>2020-06-23</td>\n",
       "      <td>16</td>\n",
       "      <td>28</td>\n",
       "    </tr>\n",
       "    <tr>\n",
       "      <td>2020-06-24</td>\n",
       "      <td>16</td>\n",
       "      <td>28</td>\n",
       "    </tr>\n",
       "    <tr>\n",
       "      <td>2020-06-25</td>\n",
       "      <td>17</td>\n",
       "      <td>37</td>\n",
       "    </tr>\n",
       "    <tr>\n",
       "      <td>2020-06-26</td>\n",
       "      <td>19</td>\n",
       "      <td>34</td>\n",
       "    </tr>\n",
       "    <tr>\n",
       "      <td>2020-06-27</td>\n",
       "      <td>10</td>\n",
       "      <td>18</td>\n",
       "    </tr>\n",
       "  </tbody>\n",
       "</table>\n",
       "</div>"
      ],
      "text/plain": [
       "            trafic_index  first week of February\n",
       "Date                                            \n",
       "2020-06-23            16                      28\n",
       "2020-06-24            16                      28\n",
       "2020-06-25            17                      37\n",
       "2020-06-26            19                      34\n",
       "2020-06-27            10                      18"
      ]
     },
     "execution_count": 11,
     "metadata": {},
     "output_type": "execute_result"
    }
   ],
   "source": [
    "t_df.tail()"
   ]
  },
  {
   "cell_type": "markdown",
   "metadata": {},
   "source": [
    "### Feature Engineering "
   ]
  },
  {
   "cell_type": "markdown",
   "metadata": {},
   "source": [
    "I use the first week of February as my baseline traffic congestion. I divide each day of the daily traffic index by the corresponding day in the base week."
   ]
  },
  {
   "cell_type": "code",
   "execution_count": 12,
   "metadata": {},
   "outputs": [],
   "source": [
    "t_df['TSD'] = t_df['trafic_index']/t_df['first week of February']"
   ]
  },
  {
   "cell_type": "code",
   "execution_count": 13,
   "metadata": {
    "scrolled": true
   },
   "outputs": [
    {
     "data": {
      "image/png": "[encoded data removed]",
      "text/plain": [
       "<Figure size 864x360 with 1 Axes>"
      ]
     },
     "metadata": {
      "needs_background": "light"
     },
     "output_type": "display_data"
    }
   ],
   "source": [
    "ax = t_df['TSD'].plot(figsize=(12,5));\n",
    "ax.axvline(x=date(2020, 3, 13), color='brown', alpha=0.7,linestyle='dashed');\n",
    "ax.axvline(x=date(2020, 3, 20), color='red', alpha=0.7,linestyle='dashed');"
   ]
  },
  {
   "cell_type": "markdown",
   "metadata": {},
   "source": [
    "To smooth the data I use a 7-day moving average."
   ]
  },
  {
   "cell_type": "code",
   "execution_count": 14,
   "metadata": {},
   "outputs": [],
   "source": [
    "t_df['TSD_rolling'] = t_df['TSD'].rolling(window=7).mean()"
   ]
  },
  {
   "cell_type": "code",
   "execution_count": 15,
   "metadata": {},
   "outputs": [
    {
     "data": {
      "image/png": "[encoded data removed]",
      "text/plain": [
       "<Figure size 864x360 with 1 Axes>"
      ]
     },
     "metadata": {
      "needs_background": "light"
     },
     "output_type": "display_data"
    }
   ],
   "source": [
    "ax = t_df['TSD_rolling'].plot(figsize=(12,5));\n",
    "ax.axvline(x=date(2020, 3, 21), color='red', alpha=0.7, linestyle='dashed');\n",
    "ax.axvline(x=date(2020, 5, 25), color='red', alpha=0.7, linestyle='dashed');\n",
    "ax.axvline(x=date(2020, 3, 13), color='brown', alpha=0.7,linestyle='dashed');"
   ]
  },
  {
   "cell_type": "code",
   "execution_count": 16,
   "metadata": {},
   "outputs": [],
   "source": [
    "def diff_series(df, col, lag):\n",
    "    \"\"\"Function that lags the value of a colun given the dataframe the name of the \n",
    "    column by a number of lags\"\"\"\n",
    "    for i in range(0,lag,1):\n",
    "        new_col = col+f'_lag_{i+1}'\n",
    "        df[new_col] = df[col].shift(i+1)\n",
    "    "
   ]
  },
  {
   "cell_type": "code",
   "execution_count": 17,
   "metadata": {},
   "outputs": [],
   "source": [
    "diff_series(t_df, 'TSD_rolling', 30)"
   ]
  },
  {
   "cell_type": "code",
   "execution_count": 18,
   "metadata": {},
   "outputs": [
    {
     "data": {
      "text/html": [
       "<div>\n",
       "<style scoped>\n",
       "    .dataframe tbody tr th:only-of-type {\n",
       "        vertical-align: middle;\n",
       "    }\n",
       "\n",
       "    .dataframe tbody tr th {\n",
       "        vertical-align: top;\n",
       "    }\n",
       "\n",
       "    .dataframe thead th {\n",
       "        text-align: right;\n",
       "    }\n",
       "</style>\n",
       "<table border=\"1\" class=\"dataframe\">\n",
       "  <thead>\n",
       "    <tr style=\"text-align: right;\">\n",
       "      <th></th>\n",
       "      <th>trafic_index</th>\n",
       "      <th>first week of February</th>\n",
       "      <th>TSD</th>\n",
       "      <th>TSD_rolling</th>\n",
       "      <th>TSD_rolling_lag_1</th>\n",
       "      <th>TSD_rolling_lag_2</th>\n",
       "      <th>TSD_rolling_lag_3</th>\n",
       "      <th>TSD_rolling_lag_4</th>\n",
       "      <th>TSD_rolling_lag_5</th>\n",
       "      <th>TSD_rolling_lag_6</th>\n",
       "      <th>...</th>\n",
       "      <th>TSD_rolling_lag_21</th>\n",
       "      <th>TSD_rolling_lag_22</th>\n",
       "      <th>TSD_rolling_lag_23</th>\n",
       "      <th>TSD_rolling_lag_24</th>\n",
       "      <th>TSD_rolling_lag_25</th>\n",
       "      <th>TSD_rolling_lag_26</th>\n",
       "      <th>TSD_rolling_lag_27</th>\n",
       "      <th>TSD_rolling_lag_28</th>\n",
       "      <th>TSD_rolling_lag_29</th>\n",
       "      <th>TSD_rolling_lag_30</th>\n",
       "    </tr>\n",
       "    <tr>\n",
       "      <th>Date</th>\n",
       "      <th></th>\n",
       "      <th></th>\n",
       "      <th></th>\n",
       "      <th></th>\n",
       "      <th></th>\n",
       "      <th></th>\n",
       "      <th></th>\n",
       "      <th></th>\n",
       "      <th></th>\n",
       "      <th></th>\n",
       "      <th></th>\n",
       "      <th></th>\n",
       "      <th></th>\n",
       "      <th></th>\n",
       "      <th></th>\n",
       "      <th></th>\n",
       "      <th></th>\n",
       "      <th></th>\n",
       "      <th></th>\n",
       "      <th></th>\n",
       "      <th></th>\n",
       "    </tr>\n",
       "  </thead>\n",
       "  <tbody>\n",
       "    <tr>\n",
       "      <td>2020-02-29</td>\n",
       "      <td>19</td>\n",
       "      <td>18</td>\n",
       "      <td>1.055556</td>\n",
       "      <td>NaN</td>\n",
       "      <td>NaN</td>\n",
       "      <td>NaN</td>\n",
       "      <td>NaN</td>\n",
       "      <td>NaN</td>\n",
       "      <td>NaN</td>\n",
       "      <td>NaN</td>\n",
       "      <td>...</td>\n",
       "      <td>NaN</td>\n",
       "      <td>NaN</td>\n",
       "      <td>NaN</td>\n",
       "      <td>NaN</td>\n",
       "      <td>NaN</td>\n",
       "      <td>NaN</td>\n",
       "      <td>NaN</td>\n",
       "      <td>NaN</td>\n",
       "      <td>NaN</td>\n",
       "      <td>NaN</td>\n",
       "    </tr>\n",
       "    <tr>\n",
       "      <td>2020-03-01</td>\n",
       "      <td>15</td>\n",
       "      <td>13</td>\n",
       "      <td>1.153846</td>\n",
       "      <td>NaN</td>\n",
       "      <td>NaN</td>\n",
       "      <td>NaN</td>\n",
       "      <td>NaN</td>\n",
       "      <td>NaN</td>\n",
       "      <td>NaN</td>\n",
       "      <td>NaN</td>\n",
       "      <td>...</td>\n",
       "      <td>NaN</td>\n",
       "      <td>NaN</td>\n",
       "      <td>NaN</td>\n",
       "      <td>NaN</td>\n",
       "      <td>NaN</td>\n",
       "      <td>NaN</td>\n",
       "      <td>NaN</td>\n",
       "      <td>NaN</td>\n",
       "      <td>NaN</td>\n",
       "      <td>NaN</td>\n",
       "    </tr>\n",
       "    <tr>\n",
       "      <td>2020-03-02</td>\n",
       "      <td>30</td>\n",
       "      <td>28</td>\n",
       "      <td>1.071429</td>\n",
       "      <td>NaN</td>\n",
       "      <td>NaN</td>\n",
       "      <td>NaN</td>\n",
       "      <td>NaN</td>\n",
       "      <td>NaN</td>\n",
       "      <td>NaN</td>\n",
       "      <td>NaN</td>\n",
       "      <td>...</td>\n",
       "      <td>NaN</td>\n",
       "      <td>NaN</td>\n",
       "      <td>NaN</td>\n",
       "      <td>NaN</td>\n",
       "      <td>NaN</td>\n",
       "      <td>NaN</td>\n",
       "      <td>NaN</td>\n",
       "      <td>NaN</td>\n",
       "      <td>NaN</td>\n",
       "      <td>NaN</td>\n",
       "    </tr>\n",
       "    <tr>\n",
       "      <td>2020-03-03</td>\n",
       "      <td>36</td>\n",
       "      <td>28</td>\n",
       "      <td>1.285714</td>\n",
       "      <td>NaN</td>\n",
       "      <td>NaN</td>\n",
       "      <td>NaN</td>\n",
       "      <td>NaN</td>\n",
       "      <td>NaN</td>\n",
       "      <td>NaN</td>\n",
       "      <td>NaN</td>\n",
       "      <td>...</td>\n",
       "      <td>NaN</td>\n",
       "      <td>NaN</td>\n",
       "      <td>NaN</td>\n",
       "      <td>NaN</td>\n",
       "      <td>NaN</td>\n",
       "      <td>NaN</td>\n",
       "      <td>NaN</td>\n",
       "      <td>NaN</td>\n",
       "      <td>NaN</td>\n",
       "      <td>NaN</td>\n",
       "    </tr>\n",
       "    <tr>\n",
       "      <td>2020-03-04</td>\n",
       "      <td>32</td>\n",
       "      <td>28</td>\n",
       "      <td>1.142857</td>\n",
       "      <td>NaN</td>\n",
       "      <td>NaN</td>\n",
       "      <td>NaN</td>\n",
       "      <td>NaN</td>\n",
       "      <td>NaN</td>\n",
       "      <td>NaN</td>\n",
       "      <td>NaN</td>\n",
       "      <td>...</td>\n",
       "      <td>NaN</td>\n",
       "      <td>NaN</td>\n",
       "      <td>NaN</td>\n",
       "      <td>NaN</td>\n",
       "      <td>NaN</td>\n",
       "      <td>NaN</td>\n",
       "      <td>NaN</td>\n",
       "      <td>NaN</td>\n",
       "      <td>NaN</td>\n",
       "      <td>NaN</td>\n",
       "    </tr>\n",
       "    <tr>\n",
       "      <td>2020-03-05</td>\n",
       "      <td>34</td>\n",
       "      <td>37</td>\n",
       "      <td>0.918919</td>\n",
       "      <td>NaN</td>\n",
       "      <td>NaN</td>\n",
       "      <td>NaN</td>\n",
       "      <td>NaN</td>\n",
       "      <td>NaN</td>\n",
       "      <td>NaN</td>\n",
       "      <td>NaN</td>\n",
       "      <td>...</td>\n",
       "      <td>NaN</td>\n",
       "      <td>NaN</td>\n",
       "      <td>NaN</td>\n",
       "      <td>NaN</td>\n",
       "      <td>NaN</td>\n",
       "      <td>NaN</td>\n",
       "      <td>NaN</td>\n",
       "      <td>NaN</td>\n",
       "      <td>NaN</td>\n",
       "      <td>NaN</td>\n",
       "    </tr>\n",
       "    <tr>\n",
       "      <td>2020-03-06</td>\n",
       "      <td>40</td>\n",
       "      <td>34</td>\n",
       "      <td>1.176471</td>\n",
       "      <td>1.114970</td>\n",
       "      <td>NaN</td>\n",
       "      <td>NaN</td>\n",
       "      <td>NaN</td>\n",
       "      <td>NaN</td>\n",
       "      <td>NaN</td>\n",
       "      <td>NaN</td>\n",
       "      <td>...</td>\n",
       "      <td>NaN</td>\n",
       "      <td>NaN</td>\n",
       "      <td>NaN</td>\n",
       "      <td>NaN</td>\n",
       "      <td>NaN</td>\n",
       "      <td>NaN</td>\n",
       "      <td>NaN</td>\n",
       "      <td>NaN</td>\n",
       "      <td>NaN</td>\n",
       "      <td>NaN</td>\n",
       "    </tr>\n",
       "    <tr>\n",
       "      <td>2020-03-07</td>\n",
       "      <td>19</td>\n",
       "      <td>18</td>\n",
       "      <td>1.055556</td>\n",
       "      <td>1.114970</td>\n",
       "      <td>1.114970</td>\n",
       "      <td>NaN</td>\n",
       "      <td>NaN</td>\n",
       "      <td>NaN</td>\n",
       "      <td>NaN</td>\n",
       "      <td>NaN</td>\n",
       "      <td>...</td>\n",
       "      <td>NaN</td>\n",
       "      <td>NaN</td>\n",
       "      <td>NaN</td>\n",
       "      <td>NaN</td>\n",
       "      <td>NaN</td>\n",
       "      <td>NaN</td>\n",
       "      <td>NaN</td>\n",
       "      <td>NaN</td>\n",
       "      <td>NaN</td>\n",
       "      <td>NaN</td>\n",
       "    </tr>\n",
       "    <tr>\n",
       "      <td>2020-03-08</td>\n",
       "      <td>13</td>\n",
       "      <td>13</td>\n",
       "      <td>1.000000</td>\n",
       "      <td>1.092992</td>\n",
       "      <td>1.114970</td>\n",
       "      <td>1.114970</td>\n",
       "      <td>NaN</td>\n",
       "      <td>NaN</td>\n",
       "      <td>NaN</td>\n",
       "      <td>NaN</td>\n",
       "      <td>...</td>\n",
       "      <td>NaN</td>\n",
       "      <td>NaN</td>\n",
       "      <td>NaN</td>\n",
       "      <td>NaN</td>\n",
       "      <td>NaN</td>\n",
       "      <td>NaN</td>\n",
       "      <td>NaN</td>\n",
       "      <td>NaN</td>\n",
       "      <td>NaN</td>\n",
       "      <td>NaN</td>\n",
       "    </tr>\n",
       "    <tr>\n",
       "      <td>2020-03-09</td>\n",
       "      <td>29</td>\n",
       "      <td>28</td>\n",
       "      <td>1.035714</td>\n",
       "      <td>1.087890</td>\n",
       "      <td>1.092992</td>\n",
       "      <td>1.114970</td>\n",
       "      <td>1.114970</td>\n",
       "      <td>NaN</td>\n",
       "      <td>NaN</td>\n",
       "      <td>NaN</td>\n",
       "      <td>...</td>\n",
       "      <td>NaN</td>\n",
       "      <td>NaN</td>\n",
       "      <td>NaN</td>\n",
       "      <td>NaN</td>\n",
       "      <td>NaN</td>\n",
       "      <td>NaN</td>\n",
       "      <td>NaN</td>\n",
       "      <td>NaN</td>\n",
       "      <td>NaN</td>\n",
       "      <td>NaN</td>\n",
       "    </tr>\n",
       "    <tr>\n",
       "      <td>2020-03-10</td>\n",
       "      <td>27</td>\n",
       "      <td>28</td>\n",
       "      <td>0.964286</td>\n",
       "      <td>1.041972</td>\n",
       "      <td>1.087890</td>\n",
       "      <td>1.092992</td>\n",
       "      <td>1.114970</td>\n",
       "      <td>1.114970</td>\n",
       "      <td>NaN</td>\n",
       "      <td>NaN</td>\n",
       "      <td>...</td>\n",
       "      <td>NaN</td>\n",
       "      <td>NaN</td>\n",
       "      <td>NaN</td>\n",
       "      <td>NaN</td>\n",
       "      <td>NaN</td>\n",
       "      <td>NaN</td>\n",
       "      <td>NaN</td>\n",
       "      <td>NaN</td>\n",
       "      <td>NaN</td>\n",
       "      <td>NaN</td>\n",
       "    </tr>\n",
       "    <tr>\n",
       "      <td>2020-03-11</td>\n",
       "      <td>26</td>\n",
       "      <td>28</td>\n",
       "      <td>0.928571</td>\n",
       "      <td>1.011359</td>\n",
       "      <td>1.041972</td>\n",
       "      <td>1.087890</td>\n",
       "      <td>1.092992</td>\n",
       "      <td>1.114970</td>\n",
       "      <td>1.114970</td>\n",
       "      <td>NaN</td>\n",
       "      <td>...</td>\n",
       "      <td>NaN</td>\n",
       "      <td>NaN</td>\n",
       "      <td>NaN</td>\n",
       "      <td>NaN</td>\n",
       "      <td>NaN</td>\n",
       "      <td>NaN</td>\n",
       "      <td>NaN</td>\n",
       "      <td>NaN</td>\n",
       "      <td>NaN</td>\n",
       "      <td>NaN</td>\n",
       "    </tr>\n",
       "    <tr>\n",
       "      <td>2020-03-12</td>\n",
       "      <td>26</td>\n",
       "      <td>37</td>\n",
       "      <td>0.702703</td>\n",
       "      <td>0.980471</td>\n",
       "      <td>1.011359</td>\n",
       "      <td>1.041972</td>\n",
       "      <td>1.087890</td>\n",
       "      <td>1.092992</td>\n",
       "      <td>1.114970</td>\n",
       "      <td>1.114970</td>\n",
       "      <td>...</td>\n",
       "      <td>NaN</td>\n",
       "      <td>NaN</td>\n",
       "      <td>NaN</td>\n",
       "      <td>NaN</td>\n",
       "      <td>NaN</td>\n",
       "      <td>NaN</td>\n",
       "      <td>NaN</td>\n",
       "      <td>NaN</td>\n",
       "      <td>NaN</td>\n",
       "      <td>NaN</td>\n",
       "    </tr>\n",
       "    <tr>\n",
       "      <td>2020-03-13</td>\n",
       "      <td>24</td>\n",
       "      <td>34</td>\n",
       "      <td>0.705882</td>\n",
       "      <td>0.913245</td>\n",
       "      <td>0.980471</td>\n",
       "      <td>1.011359</td>\n",
       "      <td>1.041972</td>\n",
       "      <td>1.087890</td>\n",
       "      <td>1.092992</td>\n",
       "      <td>1.114970</td>\n",
       "      <td>...</td>\n",
       "      <td>NaN</td>\n",
       "      <td>NaN</td>\n",
       "      <td>NaN</td>\n",
       "      <td>NaN</td>\n",
       "      <td>NaN</td>\n",
       "      <td>NaN</td>\n",
       "      <td>NaN</td>\n",
       "      <td>NaN</td>\n",
       "      <td>NaN</td>\n",
       "      <td>NaN</td>\n",
       "    </tr>\n",
       "    <tr>\n",
       "      <td>2020-03-14</td>\n",
       "      <td>9</td>\n",
       "      <td>18</td>\n",
       "      <td>0.500000</td>\n",
       "      <td>0.833879</td>\n",
       "      <td>0.913245</td>\n",
       "      <td>0.980471</td>\n",
       "      <td>1.011359</td>\n",
       "      <td>1.041972</td>\n",
       "      <td>1.087890</td>\n",
       "      <td>1.092992</td>\n",
       "      <td>...</td>\n",
       "      <td>NaN</td>\n",
       "      <td>NaN</td>\n",
       "      <td>NaN</td>\n",
       "      <td>NaN</td>\n",
       "      <td>NaN</td>\n",
       "      <td>NaN</td>\n",
       "      <td>NaN</td>\n",
       "      <td>NaN</td>\n",
       "      <td>NaN</td>\n",
       "      <td>NaN</td>\n",
       "    </tr>\n",
       "  </tbody>\n",
       "</table>\n",
       "<p>15 rows × 34 columns</p>\n",
       "</div>"
      ],
      "text/plain": [
       "            trafic_index  first week of February       TSD  TSD_rolling  \\\n",
       "Date                                                                      \n",
       "2020-02-29            19                      18  1.055556          NaN   \n",
       "2020-03-01            15                      13  1.153846          NaN   \n",
       "2020-03-02            30                      28  1.071429          NaN   \n",
       "2020-03-03            36                      28  1.285714          NaN   \n",
       "2020-03-04            32                      28  1.142857          NaN   \n",
       "2020-03-05            34                      37  0.918919          NaN   \n",
       "2020-03-06            40                      34  1.176471     1.114970   \n",
       "2020-03-07            19                      18  1.055556     1.114970   \n",
       "2020-03-08            13                      13  1.000000     1.092992   \n",
       "2020-03-09            29                      28  1.035714     1.087890   \n",
       "2020-03-10            27                      28  0.964286     1.041972   \n",
       "2020-03-11            26                      28  0.928571     1.011359   \n",
       "2020-03-12            26                      37  0.702703     0.980471   \n",
       "2020-03-13            24                      34  0.705882     0.913245   \n",
       "2020-03-14             9                      18  0.500000     0.833879   \n",
       "\n",
       "            TSD_rolling_lag_1  TSD_rolling_lag_2  TSD_rolling_lag_3  \\\n",
       "Date                                                                  \n",
       "2020-02-29                NaN                NaN                NaN   \n",
       "2020-03-01                NaN                NaN                NaN   \n",
       "2020-03-02                NaN                NaN                NaN   \n",
       "2020-03-03                NaN                NaN                NaN   \n",
       "2020-03-04                NaN                NaN                NaN   \n",
       "2020-03-05                NaN                NaN                NaN   \n",
       "2020-03-06                NaN                NaN                NaN   \n",
       "2020-03-07           1.114970                NaN                NaN   \n",
       "2020-03-08           1.114970           1.114970                NaN   \n",
       "2020-03-09           1.092992           1.114970           1.114970   \n",
       "2020-03-10           1.087890           1.092992           1.114970   \n",
       "2020-03-11           1.041972           1.087890           1.092992   \n",
       "2020-03-12           1.011359           1.041972           1.087890   \n",
       "2020-03-13           0.980471           1.011359           1.041972   \n",
       "2020-03-14           0.913245           0.980471           1.011359   \n",
       "\n",
       "            TSD_rolling_lag_4  TSD_rolling_lag_5  TSD_rolling_lag_6  ...  \\\n",
       "Date                                                                 ...   \n",
       "2020-02-29                NaN                NaN                NaN  ...   \n",
       "2020-03-01                NaN                NaN                NaN  ...   \n",
       "2020-03-02                NaN                NaN                NaN  ...   \n",
       "2020-03-03                NaN                NaN                NaN  ...   \n",
       "2020-03-04                NaN                NaN                NaN  ...   \n",
       "2020-03-05                NaN                NaN                NaN  ...   \n",
       "2020-03-06                NaN                NaN                NaN  ...   \n",
       "2020-03-07                NaN                NaN                NaN  ...   \n",
       "2020-03-08                NaN                NaN                NaN  ...   \n",
       "2020-03-09                NaN                NaN                NaN  ...   \n",
       "2020-03-10           1.114970                NaN                NaN  ...   \n",
       "2020-03-11           1.114970           1.114970                NaN  ...   \n",
       "2020-03-12           1.092992           1.114970           1.114970  ...   \n",
       "2020-03-13           1.087890           1.092992           1.114970  ...   \n",
       "2020-03-14           1.041972           1.087890           1.092992  ...   \n",
       "\n",
       "            TSD_rolling_lag_21  TSD_rolling_lag_22  TSD_rolling_lag_23  \\\n",
       "Date                                                                     \n",
       "2020-02-29                 NaN                 NaN                 NaN   \n",
       "2020-03-01                 NaN                 NaN                 NaN   \n",
       "2020-03-02                 NaN                 NaN                 NaN   \n",
       "2020-03-03                 NaN                 NaN                 NaN   \n",
       "2020-03-04                 NaN                 NaN                 NaN   \n",
       "2020-03-05                 NaN                 NaN                 NaN   \n",
       "2020-03-06                 NaN                 NaN                 NaN   \n",
       "2020-03-07                 NaN                 NaN                 NaN   \n",
       "2020-03-08                 NaN                 NaN                 NaN   \n",
       "2020-03-09                 NaN                 NaN                 NaN   \n",
       "2020-03-10                 NaN                 NaN                 NaN   \n",
       "2020-03-11                 NaN                 NaN                 NaN   \n",
       "2020-03-12                 NaN                 NaN                 NaN   \n",
       "2020-03-13                 NaN                 NaN                 NaN   \n",
       "2020-03-14                 NaN                 NaN                 NaN   \n",
       "\n",
       "            TSD_rolling_lag_24  TSD_rolling_lag_25  TSD_rolling_lag_26  \\\n",
       "Date                                                                     \n",
       "2020-02-29                 NaN                 NaN                 NaN   \n",
       "2020-03-01                 NaN                 NaN                 NaN   \n",
       "2020-03-02                 NaN                 NaN                 NaN   \n",
       "2020-03-03                 NaN                 NaN                 NaN   \n",
       "2020-03-04                 NaN                 NaN                 NaN   \n",
       "2020-03-05                 NaN                 NaN                 NaN   \n",
       "2020-03-06                 NaN                 NaN                 NaN   \n",
       "2020-03-07                 NaN                 NaN                 NaN   \n",
       "2020-03-08                 NaN                 NaN                 NaN   \n",
       "2020-03-09                 NaN                 NaN                 NaN   \n",
       "2020-03-10                 NaN                 NaN                 NaN   \n",
       "2020-03-11                 NaN                 NaN                 NaN   \n",
       "2020-03-12                 NaN                 NaN                 NaN   \n",
       "2020-03-13                 NaN                 NaN                 NaN   \n",
       "2020-03-14                 NaN                 NaN                 NaN   \n",
       "\n",
       "            TSD_rolling_lag_27  TSD_rolling_lag_28  TSD_rolling_lag_29  \\\n",
       "Date                                                                     \n",
       "2020-02-29                 NaN                 NaN                 NaN   \n",
       "2020-03-01                 NaN                 NaN                 NaN   \n",
       "2020-03-02                 NaN                 NaN                 NaN   \n",
       "2020-03-03                 NaN                 NaN                 NaN   \n",
       "2020-03-04                 NaN                 NaN                 NaN   \n",
       "2020-03-05                 NaN                 NaN                 NaN   \n",
       "2020-03-06                 NaN                 NaN                 NaN   \n",
       "2020-03-07                 NaN                 NaN                 NaN   \n",
       "2020-03-08                 NaN                 NaN                 NaN   \n",
       "2020-03-09                 NaN                 NaN                 NaN   \n",
       "2020-03-10                 NaN                 NaN                 NaN   \n",
       "2020-03-11                 NaN                 NaN                 NaN   \n",
       "2020-03-12                 NaN                 NaN                 NaN   \n",
       "2020-03-13                 NaN                 NaN                 NaN   \n",
       "2020-03-14                 NaN                 NaN                 NaN   \n",
       "\n",
       "            TSD_rolling_lag_30  \n",
       "Date                            \n",
       "2020-02-29                 NaN  \n",
       "2020-03-01                 NaN  \n",
       "2020-03-02                 NaN  \n",
       "2020-03-03                 NaN  \n",
       "2020-03-04                 NaN  \n",
       "2020-03-05                 NaN  \n",
       "2020-03-06                 NaN  \n",
       "2020-03-07                 NaN  \n",
       "2020-03-08                 NaN  \n",
       "2020-03-09                 NaN  \n",
       "2020-03-10                 NaN  \n",
       "2020-03-11                 NaN  \n",
       "2020-03-12                 NaN  \n",
       "2020-03-13                 NaN  \n",
       "2020-03-14                 NaN  \n",
       "\n",
       "[15 rows x 34 columns]"
      ]
     },
     "execution_count": 18,
     "metadata": {},
     "output_type": "execute_result"
    }
   ],
   "source": [
    "t_df.head(15)"
   ]
  },
  {
   "cell_type": "code",
   "execution_count": 19,
   "metadata": {},
   "outputs": [
    {
     "data": {
      "text/plain": [
       "((118,), (120,))"
      ]
     },
     "execution_count": 19,
     "metadata": {},
     "output_type": "execute_result"
    }
   ],
   "source": [
    "# There are two extra dates for traffic data\n",
    "h_df['hosp_change'].shape, t_df['TSD_rolling_lag_14'].shape"
   ]
  },
  {
   "cell_type": "markdown",
   "metadata": {},
   "source": [
    "## Linear  regression model\n",
    "\n",
    "I fit a simple linear model using the traffic social distance `'TSD_rolling'` as a predictor of Hospitalization's percentage growth `'hosp_change'` and test the $R^{2}$ at differest lags."
   ]
  },
  {
   "cell_type": "markdown",
   "metadata": {},
   "source": []
  },
  {
   "cell_type": "code",
   "execution_count": 20,
   "metadata": {},
   "outputs": [],
   "source": [
    "def lag_finder(n):\n",
    "    \"\"\"Returns the rsquare(R^2) of each of the OLS model for TSD_rolling column lag up to\n",
    "    n times\"\"\"\n",
    "    rsquared =[]\n",
    "    for i in range(1,n):\n",
    "        # slice because the nan generated with creating the rolling mean\n",
    "        # and because there are two extra days of TSD data t_df[6:-2] = h_df[6:]\n",
    "        X = sm.add_constant(t_df[f'TSD_rolling_lag_{i}'][6+i:-2])\n",
    "        model = sm.OLS(h_df['hosp_change'][6+i:],X)\n",
    "        results = model.fit()\n",
    "        rsquared.append(results.rsquared)\n",
    "    return rsquared\n",
    "        "
   ]
  },
  {
   "cell_type": "code",
   "execution_count": 21,
   "metadata": {},
   "outputs": [
    {
     "name": "stderr",
     "output_type": "stream",
     "text": [
      "/Users/flatironschool/.pyenv/versions/anaconda3-2019.10/lib/python3.7/site-packages/numpy/core/fromnumeric.py:2495: FutureWarning: Method .ptp is deprecated and will be removed in a future version. Use numpy.ptp instead.\n",
      "  return ptp(axis=axis, out=out, **kwargs)\n"
     ]
    },
    {
     "data": {
      "image/png": "[encoded data removed]",
      "text/plain": [
       "<Figure size 432x288 with 1 Axes>"
      ]
     },
     "metadata": {
      "needs_background": "light"
     },
     "output_type": "display_data"
    }
   ],
   "source": [
    "# fitting OLS regression on 20 lags\n",
    "rsqr = lag_finder(20)\n",
    "lag = list(range(1,20))\n",
    "\n",
    "# Makes red the highest column\n",
    "clrs = ['gray' if (x < max(rsqr)) else 'red' for x in rsqr ]\n",
    "ax = sns.barplot(x=lag, y=rsqr, palette=clrs) \n",
    "plt.xlabel('Lags')\n",
    "plt.ylabel('Rsquared')\n",
    "plt.title(\"Optimal Lag\");"
   ]
  },
  {
   "cell_type": "code",
   "execution_count": 22,
   "metadata": {
    "scrolled": true
   },
   "outputs": [
    {
     "data": {
      "image/png": "[encoded data removed]",
      "text/plain": [
       "<Figure size 432x288 with 1 Axes>"
      ]
     },
     "metadata": {
      "needs_background": "light"
     },
     "output_type": "display_data"
    }
   ],
   "source": [
    "#Exploring optimal lag\n",
    "X = sm.add_constant(t_df['TSD_rolling_lag_13'][19:-2])\n",
    "model = sm.OLS(h_df['hosp_change'][19:],X)\n",
    "results = model.fit()\n",
    "\n",
    "plt.scatter(t_df['TSD_rolling_lag_13'][:-2],h_df['hosp_change'],alpha=0.2)\n",
    "y_predict = results.params[0] + results.params[1]*t_df['TSD_rolling_lag_13'][:-2]\n",
    "plt.plot(t_df['TSD_rolling_lag_13'][:-2],y_predict, linewidth=3)\n",
    "plt.xlim(0,1.5)\n",
    "plt.ylim(-0.5,0.5)\n",
    "plt.xlabel('Trafic Socical Distance Index')\n",
    "plt.ylabel('Hospitalizations Rate')\n",
    "plt.title('OLS Regression for 13-day lag');"
   ]
  },
  {
   "cell_type": "code",
   "execution_count": 23,
   "metadata": {},
   "outputs": [
    {
     "name": "stdout",
     "output_type": "stream",
     "text": [
      "                            OLS Regression Results                            \n",
      "==============================================================================\n",
      "Dep. Variable:            hosp_change   R-squared:                       0.815\n",
      "Model:                            OLS   Adj. R-squared:                  0.813\n",
      "Method:                 Least Squares   F-statistic:                     426.6\n",
      "Date:                Tue, 30 Jun 2020   Prob (F-statistic):           2.74e-37\n",
      "Time:                        12:47:25   Log-Likelihood:                 198.88\n",
      "No. Observations:                  99   AIC:                            -393.8\n",
      "Df Residuals:                      97   BIC:                            -388.6\n",
      "Df Model:                           1                                         \n",
      "Covariance Type:            nonrobust                                         \n",
      "======================================================================================\n",
      "                         coef    std err          t      P>|t|      [0.025      0.975]\n",
      "--------------------------------------------------------------------------------------\n",
      "const                 -0.0989      0.005    -19.303      0.000      -0.109      -0.089\n",
      "TSD_rolling_lag_13     0.2645      0.013     20.654      0.000       0.239       0.290\n",
      "==============================================================================\n",
      "Omnibus:                       22.944   Durbin-Watson:                   0.460\n",
      "Prob(Omnibus):                  0.000   Jarque-Bera (JB):               31.745\n",
      "Skew:                          -1.110   Prob(JB):                     1.28e-07\n",
      "Kurtosis:                       4.663   Cond. No.                         4.27\n",
      "==============================================================================\n",
      "\n",
      "Warnings:\n",
      "[1] Standard Errors assume that the covariance matrix of the errors is correctly specified.\n"
     ]
    }
   ],
   "source": [
    "print(results.summary())"
   ]
  },
  {
   "cell_type": "code",
   "execution_count": null,
   "metadata": {},
   "outputs": [],
   "source": []
  },
  {
   "cell_type": "code",
   "execution_count": null,
   "metadata": {},
   "outputs": [],
   "source": []
  },
  {
   "cell_type": "code",
   "execution_count": null,
   "metadata": {},
   "outputs": [],
   "source": []
  },
  {
   "cell_type": "code",
   "execution_count": null,
   "metadata": {},
   "outputs": [],
   "source": []
  },
  {
   "cell_type": "code",
   "execution_count": null,
   "metadata": {},
   "outputs": [],
   "source": []
  },
  {
   "cell_type": "code",
   "execution_count": null,
   "metadata": {},
   "outputs": [],
   "source": []
  },
  {
   "cell_type": "code",
   "execution_count": null,
   "metadata": {},
   "outputs": [],
   "source": []
  },
  {
   "cell_type": "code",
   "execution_count": null,
   "metadata": {},
   "outputs": [],
   "source": []
  },
  {
   "cell_type": "code",
   "execution_count": null,
   "metadata": {},
   "outputs": [],
   "source": []
  },
  {
   "cell_type": "code",
   "execution_count": null,
   "metadata": {},
   "outputs": [],
   "source": []
  },
  {
   "cell_type": "code",
   "execution_count": null,
   "metadata": {},
   "outputs": [],
   "source": []
  },
  {
   "cell_type": "code",
   "execution_count": null,
   "metadata": {},
   "outputs": [],
   "source": []
  },
  {
   "cell_type": "code",
   "execution_count": null,
   "metadata": {},
   "outputs": [],
   "source": []
  },
  {
   "cell_type": "code",
   "execution_count": null,
   "metadata": {},
   "outputs": [],
   "source": []
  },
  {
   "cell_type": "code",
   "execution_count": null,
   "metadata": {},
   "outputs": [],
   "source": []
  },
  {
   "cell_type": "code",
   "execution_count": null,
   "metadata": {},
   "outputs": [],
   "source": []
  },
  {
   "cell_type": "code",
   "execution_count": null,
   "metadata": {},
   "outputs": [],
   "source": []
  },
  {
   "cell_type": "code",
   "execution_count": null,
   "metadata": {},
   "outputs": [],
   "source": []
  },
  {
   "cell_type": "code",
   "execution_count": null,
   "metadata": {},
   "outputs": [],
   "source": []
  },
  {
   "cell_type": "code",
   "execution_count": null,
   "metadata": {},
   "outputs": [],
   "source": []
  }
 ],
 "metadata": {
  "kernelspec": {
   "display_name": "Python 3",
   "language": "python",
   "name": "python3"
  },
  "language_info": {
   "codemirror_mode": {
    "name": "ipython",
    "version": 3
   },
   "file_extension": ".py",
   "mimetype": "text/x-python",
   "name": "python",
   "nbconvert_exporter": "python",
   "pygments_lexer": "ipython3",
   "version": "3.7.4"
  },
  "toc": {
   "base_numbering": 1,
   "nav_menu": {},
   "number_sections": true,
   "sideBar": true,
   "skip_h1_title": false,
   "title_cell": "Table of Contents",
   "title_sidebar": "Contents",
   "toc_cell": false,
   "toc_position": {},
   "toc_section_display": true,
   "toc_window_display": false
  }
 },
 "nbformat": 4,
 "nbformat_minor": 2
}
